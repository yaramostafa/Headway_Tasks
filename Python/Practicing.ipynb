{
 "cells": [
  {
   "cell_type": "code",
   "execution_count": 1,
   "id": "8b2c6c33",
   "metadata": {},
   "outputs": [],
   "source": [
    "import sys"
   ]
  },
  {
   "cell_type": "code",
   "execution_count": 2,
   "id": "6e5c7273",
   "metadata": {
    "scrolled": false
   },
   "outputs": [
    {
     "name": "stdout",
     "output_type": "stream",
     "text": [
      "3.11.9 | packaged by Anaconda, Inc. | (main, Apr 19 2024, 16:40:41) [MSC v.1916 64 bit (AMD64)]\n"
     ]
    }
   ],
   "source": [
    "print(sys.version)"
   ]
  },
  {
   "cell_type": "markdown",
   "id": "03107c50",
   "metadata": {},
   "source": [
    "# Python practice"
   ]
  },
  {
   "cell_type": "markdown",
   "id": "f940481c",
   "metadata": {},
   "source": [
    "## Data types"
   ]
  },
  {
   "cell_type": "markdown",
   "id": "8f602322",
   "metadata": {},
   "source": [
    "### Int, float and str"
   ]
  },
  {
   "cell_type": "code",
   "execution_count": 3,
   "id": "20e6dd0e",
   "metadata": {},
   "outputs": [
    {
     "data": {
      "text/plain": [
       "9"
      ]
     },
     "execution_count": 3,
     "metadata": {},
     "output_type": "execute_result"
    }
   ],
   "source": [
    "x = 9\n",
    "x"
   ]
  },
  {
   "cell_type": "code",
   "execution_count": 4,
   "id": "4080dd09",
   "metadata": {},
   "outputs": [
    {
     "data": {
      "text/plain": [
       "int"
      ]
     },
     "execution_count": 4,
     "metadata": {},
     "output_type": "execute_result"
    }
   ],
   "source": [
    "type(x)"
   ]
  },
  {
   "cell_type": "code",
   "execution_count": 5,
   "id": "becb956d",
   "metadata": {},
   "outputs": [
    {
     "data": {
      "text/plain": [
       "float"
      ]
     },
     "execution_count": 5,
     "metadata": {},
     "output_type": "execute_result"
    }
   ],
   "source": [
    "y = 9.5\n",
    "type(y)"
   ]
  },
  {
   "cell_type": "code",
   "execution_count": 6,
   "id": "04c4a85a",
   "metadata": {},
   "outputs": [
    {
     "data": {
      "text/plain": [
       "float"
      ]
     },
     "execution_count": 6,
     "metadata": {},
     "output_type": "execute_result"
    }
   ],
   "source": [
    "z = float(x)\n",
    "type(z)"
   ]
  },
  {
   "cell_type": "code",
   "execution_count": 7,
   "id": "0320a004",
   "metadata": {},
   "outputs": [
    {
     "data": {
      "text/plain": [
       "9.0"
      ]
     },
     "execution_count": 7,
     "metadata": {},
     "output_type": "execute_result"
    }
   ],
   "source": [
    "z"
   ]
  },
  {
   "cell_type": "code",
   "execution_count": 8,
   "id": "775fcc9f",
   "metadata": {},
   "outputs": [
    {
     "data": {
      "text/plain": [
       "9"
      ]
     },
     "execution_count": 8,
     "metadata": {},
     "output_type": "execute_result"
    }
   ],
   "source": [
    "a = int(y)\n",
    "a"
   ]
  },
  {
   "cell_type": "code",
   "execution_count": 9,
   "id": "51068749",
   "metadata": {},
   "outputs": [
    {
     "data": {
      "text/plain": [
       "'hello world'"
      ]
     },
     "execution_count": 9,
     "metadata": {},
     "output_type": "execute_result"
    }
   ],
   "source": [
    "str = \"hello world\"\n",
    "str"
   ]
  },
  {
   "cell_type": "code",
   "execution_count": 10,
   "id": "6fcaa0d2",
   "metadata": {},
   "outputs": [
    {
     "data": {
      "text/plain": [
       "11"
      ]
     },
     "execution_count": 10,
     "metadata": {},
     "output_type": "execute_result"
    }
   ],
   "source": [
    "len(str)"
   ]
  },
  {
   "cell_type": "code",
   "execution_count": 11,
   "id": "21dd0b40",
   "metadata": {},
   "outputs": [
    {
     "data": {
      "text/plain": [
       "'ello world'"
      ]
     },
     "execution_count": 11,
     "metadata": {},
     "output_type": "execute_result"
    }
   ],
   "source": [
    "# slicing\n",
    "str[1:]"
   ]
  },
  {
   "cell_type": "code",
   "execution_count": 12,
   "id": "6323bcfc",
   "metadata": {},
   "outputs": [
    {
     "data": {
      "text/plain": [
       "'dlrow olleh'"
      ]
     },
     "execution_count": 12,
     "metadata": {},
     "output_type": "execute_result"
    }
   ],
   "source": [
    "str[::-1]"
   ]
  },
  {
   "cell_type": "code",
   "execution_count": 13,
   "id": "cf6d8455",
   "metadata": {},
   "outputs": [
    {
     "data": {
      "text/plain": [
       "'lowr'"
      ]
     },
     "execution_count": 13,
     "metadata": {},
     "output_type": "execute_result"
    }
   ],
   "source": [
    "str[2:9:2]"
   ]
  },
  {
   "cell_type": "code",
   "execution_count": 14,
   "id": "7f57e621",
   "metadata": {},
   "outputs": [
    {
     "data": {
      "text/plain": [
       "'HELLO WORLD'"
      ]
     },
     "execution_count": 14,
     "metadata": {},
     "output_type": "execute_result"
    }
   ],
   "source": [
    "str.upper()"
   ]
  },
  {
   "cell_type": "code",
   "execution_count": 15,
   "id": "4df477ae",
   "metadata": {},
   "outputs": [
    {
     "data": {
      "text/plain": [
       "'Hello World'"
      ]
     },
     "execution_count": 15,
     "metadata": {},
     "output_type": "execute_result"
    }
   ],
   "source": [
    "str.title()"
   ]
  },
  {
   "cell_type": "code",
   "execution_count": 16,
   "id": "c9f5fea9",
   "metadata": {},
   "outputs": [
    {
     "data": {
      "text/plain": [
       "False"
      ]
     },
     "execution_count": 16,
     "metadata": {},
     "output_type": "execute_result"
    }
   ],
   "source": [
    "str.startswith(\"a\")"
   ]
  },
  {
   "cell_type": "code",
   "execution_count": 17,
   "id": "34d60ca0",
   "metadata": {},
   "outputs": [
    {
     "data": {
      "text/plain": [
       "True"
      ]
     },
     "execution_count": 17,
     "metadata": {},
     "output_type": "execute_result"
    }
   ],
   "source": [
    "str.endswith(\"d\")"
   ]
  },
  {
   "cell_type": "code",
   "execution_count": 18,
   "id": "2c70f684",
   "metadata": {},
   "outputs": [
    {
     "data": {
      "text/plain": [
       "['hello', 'world']"
      ]
     },
     "execution_count": 18,
     "metadata": {},
     "output_type": "execute_result"
    }
   ],
   "source": [
    "str.split()"
   ]
  },
  {
   "cell_type": "code",
   "execution_count": 19,
   "id": "312a0111",
   "metadata": {},
   "outputs": [
    {
     "data": {
      "text/plain": [
       "['hello', 'to', 'you']"
      ]
     },
     "execution_count": 19,
     "metadata": {},
     "output_type": "execute_result"
    }
   ],
   "source": [
    "str2 = \"hello-to-you\"\n",
    "str2.split(\"-\")"
   ]
  },
  {
   "cell_type": "code",
   "execution_count": 20,
   "id": "b0d02727",
   "metadata": {},
   "outputs": [
    {
     "data": {
      "text/plain": [
       "'hello world cs'"
      ]
     },
     "execution_count": 20,
     "metadata": {},
     "output_type": "execute_result"
    }
   ],
   "source": [
    "\" \".join([\"hello\",\"world\",\"cs\"])"
   ]
  },
  {
   "cell_type": "code",
   "execution_count": 21,
   "id": "7a51ca5d",
   "metadata": {},
   "outputs": [
    {
     "data": {
      "text/plain": [
       "['2', '4', '6', '8', '9']"
      ]
     },
     "execution_count": 21,
     "metadata": {},
     "output_type": "execute_result"
    }
   ],
   "source": [
    "nums = \"68492\"\n",
    "sorted(nums)"
   ]
  },
  {
   "cell_type": "code",
   "execution_count": 22,
   "id": "cc134cb4",
   "metadata": {},
   "outputs": [
    {
     "name": "stdout",
     "output_type": "stream",
     "text": [
      "hello 19 the 11\n"
     ]
    }
   ],
   "source": [
    "# format\n",
    "n= 19\n",
    "m= 11\n",
    "print(\"hello {} the {}\".format(n,m))"
   ]
  },
  {
   "cell_type": "code",
   "execution_count": 55,
   "id": "508c159d",
   "metadata": {},
   "outputs": [
    {
     "data": {
      "text/plain": [
       "False"
      ]
     },
     "execution_count": 55,
     "metadata": {},
     "output_type": "execute_result"
    }
   ],
   "source": [
    "'x' in 'ahmed'"
   ]
  },
  {
   "cell_type": "markdown",
   "id": "17df4a32",
   "metadata": {},
   "source": [
    "### Lists"
   ]
  },
  {
   "cell_type": "code",
   "execution_count": 23,
   "id": "ea106991",
   "metadata": {},
   "outputs": [
    {
     "data": {
      "text/plain": [
       "[1, 2, 'yara', ['haha', 'try', 'skyfall']]"
      ]
     },
     "execution_count": 23,
     "metadata": {},
     "output_type": "execute_result"
    }
   ],
   "source": [
    "list1 = [1,2,\"yara\",[\"haha\",\"try\",\"skyfall\"]]\n",
    "list1"
   ]
  },
  {
   "cell_type": "code",
   "execution_count": 24,
   "id": "79362f99",
   "metadata": {},
   "outputs": [
    {
     "data": {
      "text/plain": [
       "'yara'"
      ]
     },
     "execution_count": 24,
     "metadata": {},
     "output_type": "execute_result"
    }
   ],
   "source": [
    "list1[2]"
   ]
  },
  {
   "cell_type": "code",
   "execution_count": 25,
   "id": "45c36453",
   "metadata": {},
   "outputs": [
    {
     "data": {
      "text/plain": [
       "'skyfall'"
      ]
     },
     "execution_count": 25,
     "metadata": {},
     "output_type": "execute_result"
    }
   ],
   "source": [
    "list1[3][2]"
   ]
  },
  {
   "cell_type": "code",
   "execution_count": 26,
   "id": "9a0e3426",
   "metadata": {},
   "outputs": [
    {
     "data": {
      "text/plain": [
       "'l'"
      ]
     },
     "execution_count": 26,
     "metadata": {},
     "output_type": "execute_result"
    }
   ],
   "source": [
    "list1[3][2][5]"
   ]
  },
  {
   "cell_type": "code",
   "execution_count": 27,
   "id": "55ec6b9b",
   "metadata": {},
   "outputs": [
    {
     "data": {
      "text/plain": [
       "[1, 2, 'yara', ['haha', 'try', 'skyfall'], 'well']"
      ]
     },
     "execution_count": 27,
     "metadata": {},
     "output_type": "execute_result"
    }
   ],
   "source": [
    "list1.append(\"well\")\n",
    "list1"
   ]
  },
  {
   "cell_type": "code",
   "execution_count": 28,
   "id": "82df9d95",
   "metadata": {},
   "outputs": [
    {
     "data": {
      "text/plain": [
       "[1, 2, 'yara', ['haha', 'try', 'skyfall'], 'well', 'ok', 'see']"
      ]
     },
     "execution_count": 28,
     "metadata": {},
     "output_type": "execute_result"
    }
   ],
   "source": [
    "list1 + [\"ok\",\"see\"]"
   ]
  },
  {
   "cell_type": "code",
   "execution_count": 29,
   "id": "2eea0ab1",
   "metadata": {},
   "outputs": [
    {
     "data": {
      "text/plain": [
       "5"
      ]
     },
     "execution_count": 29,
     "metadata": {},
     "output_type": "execute_result"
    }
   ],
   "source": [
    "len(list1)"
   ]
  },
  {
   "cell_type": "code",
   "execution_count": 30,
   "id": "354e1b9e",
   "metadata": {},
   "outputs": [
    {
     "data": {
      "text/plain": [
       "[1, 2, 'ins', 'yara', ['haha', 'try', 'skyfall'], 'well']"
      ]
     },
     "execution_count": 30,
     "metadata": {},
     "output_type": "execute_result"
    }
   ],
   "source": [
    "list1.insert(2,\"ins\")\n",
    "list1"
   ]
  },
  {
   "cell_type": "code",
   "execution_count": 31,
   "id": "aee55675",
   "metadata": {},
   "outputs": [
    {
     "data": {
      "text/plain": [
       "[1, 2, 'ins', ['haha', 'try', 'skyfall'], 'well']"
      ]
     },
     "execution_count": 31,
     "metadata": {},
     "output_type": "execute_result"
    }
   ],
   "source": [
    "list1.remove(\"yara\")\n",
    "list1"
   ]
  },
  {
   "cell_type": "code",
   "execution_count": 32,
   "id": "807848a5",
   "metadata": {},
   "outputs": [
    {
     "data": {
      "text/plain": [
       "[1, 2, 'ins', ['haha', 'try', 'skyfall']]"
      ]
     },
     "execution_count": 32,
     "metadata": {},
     "output_type": "execute_result"
    }
   ],
   "source": [
    "del list1[4:]\n",
    "list1"
   ]
  },
  {
   "cell_type": "code",
   "execution_count": 33,
   "id": "2b037d74",
   "metadata": {},
   "outputs": [
    {
     "data": {
      "text/plain": [
       "[['haha', 'try', 'skyfall'], 'ins', 2, 1]"
      ]
     },
     "execution_count": 33,
     "metadata": {},
     "output_type": "execute_result"
    }
   ],
   "source": [
    "list1.reverse()\n",
    "list1"
   ]
  },
  {
   "cell_type": "markdown",
   "id": "a2fa8bd0",
   "metadata": {},
   "source": [
    "### Sets"
   ]
  },
  {
   "cell_type": "code",
   "execution_count": 34,
   "id": "2b2cc716",
   "metadata": {},
   "outputs": [],
   "source": [
    "set1 = {1,2,3,4}"
   ]
  },
  {
   "cell_type": "code",
   "execution_count": 35,
   "id": "d8796af4",
   "metadata": {},
   "outputs": [
    {
     "data": {
      "text/plain": [
       "{1, 2, 3, 4, 5, 6}"
      ]
     },
     "execution_count": 35,
     "metadata": {},
     "output_type": "execute_result"
    }
   ],
   "source": [
    "# convert from list to set\n",
    "list1 = [1,1,2,2,3,4,5,6,1,1]\n",
    "x = set(list1)\n",
    "x"
   ]
  },
  {
   "cell_type": "code",
   "execution_count": 36,
   "id": "e7ea61f8",
   "metadata": {},
   "outputs": [],
   "source": [
    "set1.add(7)"
   ]
  },
  {
   "cell_type": "code",
   "execution_count": 37,
   "id": "01f312e1",
   "metadata": {},
   "outputs": [
    {
     "data": {
      "text/plain": [
       "{1, 2, 3, 4, 7}"
      ]
     },
     "execution_count": 37,
     "metadata": {},
     "output_type": "execute_result"
    }
   ],
   "source": [
    "set1"
   ]
  },
  {
   "cell_type": "code",
   "execution_count": 38,
   "id": "b1b22527",
   "metadata": {},
   "outputs": [
    {
     "data": {
      "text/plain": [
       "{1, 3, 4, 7}"
      ]
     },
     "execution_count": 38,
     "metadata": {},
     "output_type": "execute_result"
    }
   ],
   "source": [
    "set1.discard(2)\n",
    "set1"
   ]
  },
  {
   "cell_type": "code",
   "execution_count": 39,
   "id": "641d91c1",
   "metadata": {},
   "outputs": [
    {
     "ename": "TypeError",
     "evalue": "'set' object is not subscriptable",
     "output_type": "error",
     "traceback": [
      "\u001b[1;31m---------------------------------------------------------------------------\u001b[0m",
      "\u001b[1;31mTypeError\u001b[0m                                 Traceback (most recent call last)",
      "Cell \u001b[1;32mIn[39], line 1\u001b[0m\n\u001b[1;32m----> 1\u001b[0m \u001b[43mset1\u001b[49m\u001b[43m[\u001b[49m\u001b[38;5;241;43m1\u001b[39;49m\u001b[43m]\u001b[49m \u001b[38;5;66;03m# not indexed\u001b[39;00m\n",
      "\u001b[1;31mTypeError\u001b[0m: 'set' object is not subscriptable"
     ]
    }
   ],
   "source": [
    "set1[1] # not indexed"
   ]
  },
  {
   "cell_type": "markdown",
   "id": "5e3dc27f",
   "metadata": {},
   "source": [
    "### Tuples"
   ]
  },
  {
   "cell_type": "code",
   "execution_count": 40,
   "id": "d5f0bdb1",
   "metadata": {},
   "outputs": [
    {
     "data": {
      "text/plain": [
       "(1, 2, 3, 4)"
      ]
     },
     "execution_count": 40,
     "metadata": {},
     "output_type": "execute_result"
    }
   ],
   "source": [
    "tup = (1,2,3,4)\n",
    "tup"
   ]
  },
  {
   "cell_type": "code",
   "execution_count": 41,
   "id": "201c253b",
   "metadata": {},
   "outputs": [
    {
     "data": {
      "text/plain": [
       "2"
      ]
     },
     "execution_count": 41,
     "metadata": {},
     "output_type": "execute_result"
    }
   ],
   "source": [
    "tup[1]"
   ]
  },
  {
   "cell_type": "code",
   "execution_count": 42,
   "id": "08029d73",
   "metadata": {},
   "outputs": [
    {
     "data": {
      "text/plain": [
       "3"
      ]
     },
     "execution_count": 42,
     "metadata": {},
     "output_type": "execute_result"
    }
   ],
   "source": [
    "tup.index(4)"
   ]
  },
  {
   "cell_type": "code",
   "execution_count": 43,
   "id": "43f55b00",
   "metadata": {},
   "outputs": [
    {
     "ename": "TypeError",
     "evalue": "'tuple' object does not support item assignment",
     "output_type": "error",
     "traceback": [
      "\u001b[1;31m---------------------------------------------------------------------------\u001b[0m",
      "\u001b[1;31mTypeError\u001b[0m                                 Traceback (most recent call last)",
      "Cell \u001b[1;32mIn[43], line 1\u001b[0m\n\u001b[1;32m----> 1\u001b[0m \u001b[43mtup\u001b[49m\u001b[43m[\u001b[49m\u001b[38;5;241;43m0\u001b[39;49m\u001b[43m]\u001b[49m \u001b[38;5;241m=\u001b[39m \u001b[38;5;124m'\u001b[39m\u001b[38;5;124mchange\u001b[39m\u001b[38;5;124m'\u001b[39m \u001b[38;5;66;03m# immutable\u001b[39;00m\n",
      "\u001b[1;31mTypeError\u001b[0m: 'tuple' object does not support item assignment"
     ]
    }
   ],
   "source": [
    "tup[0] = 'change' # immutable"
   ]
  },
  {
   "cell_type": "markdown",
   "id": "2c23fa20",
   "metadata": {},
   "source": [
    "# If-else statements"
   ]
  },
  {
   "cell_type": "code",
   "execution_count": 44,
   "id": "1b262534",
   "metadata": {},
   "outputs": [
    {
     "name": "stdout",
     "output_type": "stream",
     "text": [
      "finish\n"
     ]
    }
   ],
   "source": [
    "x = False\n",
    "if x:\n",
    "    print('x was True!')\n",
    "else:\n",
    "    print('finish')"
   ]
  },
  {
   "cell_type": "code",
   "execution_count": 45,
   "id": "ce5fb3cd",
   "metadata": {},
   "outputs": [
    {
     "name": "stdout",
     "output_type": "stream",
     "text": [
      "Choose an OP\n",
      "\n",
      "wrong operation\n"
     ]
    }
   ],
   "source": [
    "x = 10\n",
    "y = 5\n",
    "print(\"Choose an OP\")\n",
    "op = input()\n",
    "\n",
    "if op == '+':\n",
    "    print(f\"the sum for {x} + {y} = {x + y}\")\n",
    "elif op == '-':\n",
    "    print(f\"the subtraction for {x} - {y} = {x - y}\")\n",
    "elif op == '*':\n",
    "    print(f\"the multpling for {x} * {y} = {x * y}\")\n",
    "elif op == '/':\n",
    "    print(f\"the division for {x} / {y} = {x / y}\")\n",
    "else:\n",
    "    print('wrong operation')"
   ]
  },
  {
   "cell_type": "markdown",
   "id": "dd1aae34",
   "metadata": {},
   "source": [
    "# For and while loops"
   ]
  },
  {
   "cell_type": "code",
   "execution_count": 46,
   "id": "3e71a12e",
   "metadata": {},
   "outputs": [
    {
     "name": "stdout",
     "output_type": "stream",
     "text": [
      "10\n",
      "20\n",
      "30\n",
      "40\n",
      "50\n",
      "60\n",
      "70\n",
      "80\n",
      "90\n",
      "100\n"
     ]
    }
   ],
   "source": [
    "list1 = [10, 20, 30, 40, 50, 60, 70, 80, 90, 100]\n",
    "for n in list1:\n",
    "    print(n)"
   ]
  },
  {
   "cell_type": "code",
   "execution_count": 47,
   "id": "53a90b31",
   "metadata": {},
   "outputs": [
    {
     "name": "stdout",
     "output_type": "stream",
     "text": [
      "20\n",
      "30\n",
      "40\n",
      "50\n",
      "60\n",
      "70\n",
      "80\n",
      "90\n",
      "100\n"
     ]
    }
   ],
   "source": [
    "list1 = [10, 20, 30, 40, 50, 60, 70, 80, 90, 100]\n",
    "for n in range(1,len(list1)):\n",
    "    print(list1[n])"
   ]
  },
  {
   "cell_type": "code",
   "execution_count": 48,
   "id": "28dd9dd6",
   "metadata": {},
   "outputs": [
    {
     "name": "stdout",
     "output_type": "stream",
     "text": [
      "10\n",
      "20\n",
      "30\n",
      "40\n"
     ]
    }
   ],
   "source": [
    "for n in list1:\n",
    "    if n == 50:\n",
    "        break\n",
    "    else:\n",
    "        print(n)"
   ]
  },
  {
   "cell_type": "code",
   "execution_count": 49,
   "id": "19faf974",
   "metadata": {},
   "outputs": [
    {
     "name": "stdout",
     "output_type": "stream",
     "text": [
      "10\n",
      "20\n",
      "30\n",
      "40\n",
      "60\n",
      "70\n",
      "80\n",
      "90\n",
      "100\n"
     ]
    }
   ],
   "source": [
    "for n in list1:\n",
    "    if n == 50:\n",
    "        continue\n",
    "    else:\n",
    "        print(n)"
   ]
  },
  {
   "cell_type": "code",
   "execution_count": 50,
   "id": "d9f1717d",
   "metadata": {},
   "outputs": [
    {
     "name": "stdout",
     "output_type": "stream",
     "text": [
      "0\n",
      "1\n",
      "2\n",
      "3\n",
      "4\n",
      "5\n",
      "6\n",
      "7\n",
      "8\n",
      "9\n",
      "10\n",
      "else\n"
     ]
    }
   ],
   "source": [
    "counter = 0\n",
    "while counter <= 10:\n",
    "    print(counter)\n",
    "    counter = counter + 1\n",
    "else:\n",
    "    print(\"else\")"
   ]
  },
  {
   "cell_type": "code",
   "execution_count": 51,
   "id": "16d5c639",
   "metadata": {},
   "outputs": [
    {
     "name": "stdout",
     "output_type": "stream",
     "text": [
      "0\n",
      "1\n",
      "2\n",
      "3\n",
      "4\n",
      "5\n",
      "6\n",
      "breaking\n"
     ]
    }
   ],
   "source": [
    "counter = 0\n",
    "while counter <= 10:\n",
    "    print(counter)\n",
    "    if counter == 6:\n",
    "        print(\"breaking\")\n",
    "        break\n",
    "    counter = counter + 1\n",
    "else:\n",
    "    print(\"else\")"
   ]
  },
  {
   "cell_type": "code",
   "execution_count": 52,
   "id": "aa77c82f",
   "metadata": {},
   "outputs": [
    {
     "name": "stdout",
     "output_type": "stream",
     "text": [
      "1\n",
      "nice\n",
      "2\n",
      "nice\n",
      "3\n",
      "continuing\n",
      "4\n",
      "nice\n",
      "5\n",
      "nice\n",
      "6\n",
      "nice\n",
      "7\n",
      "breaking\n"
     ]
    }
   ],
   "source": [
    "x = 0\n",
    "while x < 10:\n",
    "    x += 1\n",
    "    print(x)\n",
    "    if x == 7:\n",
    "        print('breaking')\n",
    "        break\n",
    "    elif x == 3:\n",
    "        print('continuing')\n",
    "        continue\n",
    "    print('nice')"
   ]
  },
  {
   "cell_type": "code",
   "execution_count": 53,
   "id": "a80b194f",
   "metadata": {},
   "outputs": [
    {
     "data": {
      "text/plain": [
       "[(8, 'a'), (9, 'b'), (10, 'c'), (11, 'd'), (12, 'e')]"
      ]
     },
     "execution_count": 53,
     "metadata": {},
     "output_type": "execute_result"
    }
   ],
   "source": [
    "list(enumerate('abcde', 8))"
   ]
  },
  {
   "cell_type": "code",
   "execution_count": 54,
   "id": "2ea31318",
   "metadata": {},
   "outputs": [
    {
     "name": "stdout",
     "output_type": "stream",
     "text": [
      "at index 0 charchter is a\n",
      "at index 1 charchter is b\n",
      "at index 2 charchter is c\n",
      "at index 3 charchter is d\n",
      "at index 4 charchter is e\n"
     ]
    }
   ],
   "source": [
    "for idx, letter in enumerate('abcde'):\n",
    "    print(f'at index {idx} charchter is {letter}')"
   ]
  },
  {
   "cell_type": "markdown",
   "id": "03bd206b",
   "metadata": {},
   "source": [
    "# Functions"
   ]
  },
  {
   "cell_type": "code",
   "execution_count": 56,
   "id": "9a1058eb",
   "metadata": {},
   "outputs": [
    {
     "name": "stdout",
     "output_type": "stream",
     "text": [
      "meow\n"
     ]
    }
   ],
   "source": [
    "def sayMeow():\n",
    "    print(\"meow\")\n",
    "sayMeow()"
   ]
  },
  {
   "cell_type": "code",
   "execution_count": 58,
   "id": "aaa769fa",
   "metadata": {},
   "outputs": [
    {
     "name": "stdout",
     "output_type": "stream",
     "text": [
      "the sum for 5 + 6 = 11\n"
     ]
    }
   ],
   "source": [
    "def calc(x,y,op):\n",
    "    if op == '+':\n",
    "        print(f\"the sum for {x} + {y} = {x + y}\")\n",
    "    elif op == '-':\n",
    "        print(f\"the subtraction for {x} - {y} = {x - y}\")\n",
    "    elif op == '*':\n",
    "        print(f\"the multpling for {x} * {y} = {x * y}\")\n",
    "    elif op == '/':\n",
    "        print(f\"the division for {x} / {y} = {x / y}\")\n",
    "    else:\n",
    "        print('wrong operation')\n",
    "calc(5,6,\"+\")"
   ]
  },
  {
   "cell_type": "code",
   "execution_count": 59,
   "id": "89f0f164",
   "metadata": {},
   "outputs": [
    {
     "name": "stdout",
     "output_type": "stream",
     "text": [
      "the subtraction for 5 - 6 = -1\n"
     ]
    }
   ],
   "source": [
    "calc(5,6,\"-\")"
   ]
  },
  {
   "cell_type": "code",
   "execution_count": 60,
   "id": "82956812",
   "metadata": {},
   "outputs": [
    {
     "data": {
      "text/plain": [
       "<function __main__.<lambda>(num)>"
      ]
     },
     "execution_count": 60,
     "metadata": {},
     "output_type": "execute_result"
    }
   ],
   "source": [
    "# lambda exp\n",
    "lambda num: num ** 2"
   ]
  },
  {
   "cell_type": "code",
   "execution_count": 61,
   "id": "d391414e",
   "metadata": {},
   "outputs": [
    {
     "data": {
      "text/plain": [
       "[1, 4, 9, 16, 25]"
      ]
     },
     "execution_count": 61,
     "metadata": {},
     "output_type": "execute_result"
    }
   ],
   "source": [
    "my_nums = [1,2,3,4,5]\n",
    "list(map(lambda num: num ** 2, my_nums))"
   ]
  }
 ],
 "metadata": {
  "kernelspec": {
   "display_name": "py311",
   "language": "python",
   "name": "py311"
  },
  "language_info": {
   "codemirror_mode": {
    "name": "ipython",
    "version": 3
   },
   "file_extension": ".py",
   "mimetype": "text/x-python",
   "name": "python",
   "nbconvert_exporter": "python",
   "pygments_lexer": "ipython3",
   "version": "3.11.9"
  }
 },
 "nbformat": 4,
 "nbformat_minor": 5
}
