{
 "cells": [
  {
   "cell_type": "markdown",
   "id": "c5048f0f-52d3-4e45-8165-37d5fc02e146",
   "metadata": {},
   "source": [
    "# Welcome to my Data Preprocessing notebook\n",
    "## Content\n",
    "1. [Handling Missing Data](#null-bullet) done\n",
    "2. [Handling Duplicates](#second-bullet) done\n",
    "3. [Handling Incorrect Data Types](#third-bullet) done\n",
    "4. [Handling Outliers](#fourth-bullet) done\n",
    "5. [Handling Inconsistent Data](#fifth-bullet) done\n",
    "6. [Feature Scaling and Normalization](#sixth-bullet) done\n",
    "7. [Handling Categorical Variables](#seventh-bullet) done\n",
    "8. [Handling String Data](#eighth-bullet) done\n",
    "9. [Data Binning](#ninth-bullet) done\n",
    "10. [Feature Engineering](#tenth-bullet) done\n",
    "11. [Handling Data Encoding Issues](#eleventh-bullet) done\n",
    "12. [Data Aggregation and Grouping](#twelfth-bullet) done\n",
    "13. [Reshaping Data](#thirteenth-bullet) done\n",
    "14. [Handling Multicollinearity](#fourteenth-bullet)\n",
    "15. [Handling Date and Time Data](#fifteenth-bullet) done\n",
    "16. [Data Merging and Joining](#sixteenth-bullet)\n",
    "17. [Dealing with Sparse Data](#seventeenth-bullet) done\n",
    "18. [Type Casting](#eighteenth-bullet) done"
   ]
  },
  {
   "cell_type": "markdown",
   "id": "a66b732d-78da-4fb1-81b6-f34e8fd850f7",
   "metadata": {},
   "source": [
    "### First loading the dataset (for this task we are using the titatnic dataset (https://www.kaggle.com/c/titanic/data)"
   ]
  },
  {
   "cell_type": "code",
   "execution_count": 2,
   "id": "c38610dd-47d8-4aca-9d8d-a0e120f0a42a",
   "metadata": {},
   "outputs": [],
   "source": [
    "import pandas as pd"
   ]
  },
  {
   "cell_type": "code",
   "execution_count": 3,
   "id": "fa2be975-d3ed-4233-ad02-f166015d1208",
   "metadata": {},
   "outputs": [
    {
     "data": {
      "text/html": [
       "<div>\n",
       "<style scoped>\n",
       "    .dataframe tbody tr th:only-of-type {\n",
       "        vertical-align: middle;\n",
       "    }\n",
       "\n",
       "    .dataframe tbody tr th {\n",
       "        vertical-align: top;\n",
       "    }\n",
       "\n",
       "    .dataframe thead th {\n",
       "        text-align: right;\n",
       "    }\n",
       "</style>\n",
       "<table border=\"1\" class=\"dataframe\">\n",
       "  <thead>\n",
       "    <tr style=\"text-align: right;\">\n",
       "      <th></th>\n",
       "      <th>PassengerId</th>\n",
       "      <th>Survived</th>\n",
       "      <th>Pclass</th>\n",
       "      <th>Name</th>\n",
       "      <th>Sex</th>\n",
       "      <th>Age</th>\n",
       "      <th>SibSp</th>\n",
       "      <th>Parch</th>\n",
       "      <th>Ticket</th>\n",
       "      <th>Fare</th>\n",
       "      <th>Cabin</th>\n",
       "      <th>Embarked</th>\n",
       "    </tr>\n",
       "  </thead>\n",
       "  <tbody>\n",
       "    <tr>\n",
       "      <th>0</th>\n",
       "      <td>1</td>\n",
       "      <td>0</td>\n",
       "      <td>3</td>\n",
       "      <td>Braund, Mr. Owen Harris</td>\n",
       "      <td>male</td>\n",
       "      <td>22.0</td>\n",
       "      <td>1</td>\n",
       "      <td>0</td>\n",
       "      <td>A/5 21171</td>\n",
       "      <td>7.2500</td>\n",
       "      <td>NaN</td>\n",
       "      <td>S</td>\n",
       "    </tr>\n",
       "    <tr>\n",
       "      <th>1</th>\n",
       "      <td>2</td>\n",
       "      <td>1</td>\n",
       "      <td>1</td>\n",
       "      <td>Cumings, Mrs. John Bradley (Florence Briggs Th...</td>\n",
       "      <td>female</td>\n",
       "      <td>38.0</td>\n",
       "      <td>1</td>\n",
       "      <td>0</td>\n",
       "      <td>PC 17599</td>\n",
       "      <td>71.2833</td>\n",
       "      <td>C85</td>\n",
       "      <td>C</td>\n",
       "    </tr>\n",
       "    <tr>\n",
       "      <th>2</th>\n",
       "      <td>3</td>\n",
       "      <td>1</td>\n",
       "      <td>3</td>\n",
       "      <td>Heikkinen, Miss. Laina</td>\n",
       "      <td>female</td>\n",
       "      <td>26.0</td>\n",
       "      <td>0</td>\n",
       "      <td>0</td>\n",
       "      <td>STON/O2. 3101282</td>\n",
       "      <td>7.9250</td>\n",
       "      <td>NaN</td>\n",
       "      <td>S</td>\n",
       "    </tr>\n",
       "    <tr>\n",
       "      <th>3</th>\n",
       "      <td>4</td>\n",
       "      <td>1</td>\n",
       "      <td>1</td>\n",
       "      <td>Futrelle, Mrs. Jacques Heath (Lily May Peel)</td>\n",
       "      <td>female</td>\n",
       "      <td>35.0</td>\n",
       "      <td>1</td>\n",
       "      <td>0</td>\n",
       "      <td>113803</td>\n",
       "      <td>53.1000</td>\n",
       "      <td>C123</td>\n",
       "      <td>S</td>\n",
       "    </tr>\n",
       "    <tr>\n",
       "      <th>4</th>\n",
       "      <td>5</td>\n",
       "      <td>0</td>\n",
       "      <td>3</td>\n",
       "      <td>Allen, Mr. William Henry</td>\n",
       "      <td>male</td>\n",
       "      <td>35.0</td>\n",
       "      <td>0</td>\n",
       "      <td>0</td>\n",
       "      <td>373450</td>\n",
       "      <td>8.0500</td>\n",
       "      <td>NaN</td>\n",
       "      <td>S</td>\n",
       "    </tr>\n",
       "    <tr>\n",
       "      <th>...</th>\n",
       "      <td>...</td>\n",
       "      <td>...</td>\n",
       "      <td>...</td>\n",
       "      <td>...</td>\n",
       "      <td>...</td>\n",
       "      <td>...</td>\n",
       "      <td>...</td>\n",
       "      <td>...</td>\n",
       "      <td>...</td>\n",
       "      <td>...</td>\n",
       "      <td>...</td>\n",
       "      <td>...</td>\n",
       "    </tr>\n",
       "    <tr>\n",
       "      <th>886</th>\n",
       "      <td>887</td>\n",
       "      <td>0</td>\n",
       "      <td>2</td>\n",
       "      <td>Montvila, Rev. Juozas</td>\n",
       "      <td>male</td>\n",
       "      <td>27.0</td>\n",
       "      <td>0</td>\n",
       "      <td>0</td>\n",
       "      <td>211536</td>\n",
       "      <td>13.0000</td>\n",
       "      <td>NaN</td>\n",
       "      <td>S</td>\n",
       "    </tr>\n",
       "    <tr>\n",
       "      <th>887</th>\n",
       "      <td>888</td>\n",
       "      <td>1</td>\n",
       "      <td>1</td>\n",
       "      <td>Graham, Miss. Margaret Edith</td>\n",
       "      <td>female</td>\n",
       "      <td>19.0</td>\n",
       "      <td>0</td>\n",
       "      <td>0</td>\n",
       "      <td>112053</td>\n",
       "      <td>30.0000</td>\n",
       "      <td>B42</td>\n",
       "      <td>S</td>\n",
       "    </tr>\n",
       "    <tr>\n",
       "      <th>888</th>\n",
       "      <td>889</td>\n",
       "      <td>0</td>\n",
       "      <td>3</td>\n",
       "      <td>Johnston, Miss. Catherine Helen \"Carrie\"</td>\n",
       "      <td>female</td>\n",
       "      <td>NaN</td>\n",
       "      <td>1</td>\n",
       "      <td>2</td>\n",
       "      <td>W./C. 6607</td>\n",
       "      <td>23.4500</td>\n",
       "      <td>NaN</td>\n",
       "      <td>S</td>\n",
       "    </tr>\n",
       "    <tr>\n",
       "      <th>889</th>\n",
       "      <td>890</td>\n",
       "      <td>1</td>\n",
       "      <td>1</td>\n",
       "      <td>Behr, Mr. Karl Howell</td>\n",
       "      <td>male</td>\n",
       "      <td>26.0</td>\n",
       "      <td>0</td>\n",
       "      <td>0</td>\n",
       "      <td>111369</td>\n",
       "      <td>30.0000</td>\n",
       "      <td>C148</td>\n",
       "      <td>C</td>\n",
       "    </tr>\n",
       "    <tr>\n",
       "      <th>890</th>\n",
       "      <td>891</td>\n",
       "      <td>0</td>\n",
       "      <td>3</td>\n",
       "      <td>Dooley, Mr. Patrick</td>\n",
       "      <td>male</td>\n",
       "      <td>32.0</td>\n",
       "      <td>0</td>\n",
       "      <td>0</td>\n",
       "      <td>370376</td>\n",
       "      <td>7.7500</td>\n",
       "      <td>NaN</td>\n",
       "      <td>Q</td>\n",
       "    </tr>\n",
       "  </tbody>\n",
       "</table>\n",
       "<p>891 rows × 12 columns</p>\n",
       "</div>"
      ],
      "text/plain": [
       "     PassengerId  Survived  Pclass  \\\n",
       "0              1         0       3   \n",
       "1              2         1       1   \n",
       "2              3         1       3   \n",
       "3              4         1       1   \n",
       "4              5         0       3   \n",
       "..           ...       ...     ...   \n",
       "886          887         0       2   \n",
       "887          888         1       1   \n",
       "888          889         0       3   \n",
       "889          890         1       1   \n",
       "890          891         0       3   \n",
       "\n",
       "                                                  Name     Sex   Age  SibSp  \\\n",
       "0                              Braund, Mr. Owen Harris    male  22.0      1   \n",
       "1    Cumings, Mrs. John Bradley (Florence Briggs Th...  female  38.0      1   \n",
       "2                               Heikkinen, Miss. Laina  female  26.0      0   \n",
       "3         Futrelle, Mrs. Jacques Heath (Lily May Peel)  female  35.0      1   \n",
       "4                             Allen, Mr. William Henry    male  35.0      0   \n",
       "..                                                 ...     ...   ...    ...   \n",
       "886                              Montvila, Rev. Juozas    male  27.0      0   \n",
       "887                       Graham, Miss. Margaret Edith  female  19.0      0   \n",
       "888           Johnston, Miss. Catherine Helen \"Carrie\"  female   NaN      1   \n",
       "889                              Behr, Mr. Karl Howell    male  26.0      0   \n",
       "890                                Dooley, Mr. Patrick    male  32.0      0   \n",
       "\n",
       "     Parch            Ticket     Fare Cabin Embarked  \n",
       "0        0         A/5 21171   7.2500   NaN        S  \n",
       "1        0          PC 17599  71.2833   C85        C  \n",
       "2        0  STON/O2. 3101282   7.9250   NaN        S  \n",
       "3        0            113803  53.1000  C123        S  \n",
       "4        0            373450   8.0500   NaN        S  \n",
       "..     ...               ...      ...   ...      ...  \n",
       "886      0            211536  13.0000   NaN        S  \n",
       "887      0            112053  30.0000   B42        S  \n",
       "888      2        W./C. 6607  23.4500   NaN        S  \n",
       "889      0            111369  30.0000  C148        C  \n",
       "890      0            370376   7.7500   NaN        Q  \n",
       "\n",
       "[891 rows x 12 columns]"
      ]
     },
     "execution_count": 3,
     "metadata": {},
     "output_type": "execute_result"
    }
   ],
   "source": [
    "df = pd.read_csv(\"train.csv\")\n",
    "df"
   ]
  },
  {
   "cell_type": "code",
   "execution_count": 6,
   "id": "72d99330-1874-4bf2-93a0-b2c5a19212ac",
   "metadata": {},
   "outputs": [
    {
     "data": {
      "text/html": [
       "<div>\n",
       "<style scoped>\n",
       "    .dataframe tbody tr th:only-of-type {\n",
       "        vertical-align: middle;\n",
       "    }\n",
       "\n",
       "    .dataframe tbody tr th {\n",
       "        vertical-align: top;\n",
       "    }\n",
       "\n",
       "    .dataframe thead th {\n",
       "        text-align: right;\n",
       "    }\n",
       "</style>\n",
       "<table border=\"1\" class=\"dataframe\">\n",
       "  <thead>\n",
       "    <tr style=\"text-align: right;\">\n",
       "      <th></th>\n",
       "      <th>PassengerId</th>\n",
       "      <th>Survived</th>\n",
       "      <th>Pclass</th>\n",
       "      <th>Age</th>\n",
       "      <th>SibSp</th>\n",
       "      <th>Parch</th>\n",
       "      <th>Fare</th>\n",
       "    </tr>\n",
       "  </thead>\n",
       "  <tbody>\n",
       "    <tr>\n",
       "      <th>count</th>\n",
       "      <td>891.000000</td>\n",
       "      <td>891.000000</td>\n",
       "      <td>891.000000</td>\n",
       "      <td>714.000000</td>\n",
       "      <td>891.000000</td>\n",
       "      <td>891.000000</td>\n",
       "      <td>891.000000</td>\n",
       "    </tr>\n",
       "    <tr>\n",
       "      <th>mean</th>\n",
       "      <td>446.000000</td>\n",
       "      <td>0.383838</td>\n",
       "      <td>2.308642</td>\n",
       "      <td>29.699118</td>\n",
       "      <td>0.523008</td>\n",
       "      <td>0.381594</td>\n",
       "      <td>32.204208</td>\n",
       "    </tr>\n",
       "    <tr>\n",
       "      <th>std</th>\n",
       "      <td>257.353842</td>\n",
       "      <td>0.486592</td>\n",
       "      <td>0.836071</td>\n",
       "      <td>14.526497</td>\n",
       "      <td>1.102743</td>\n",
       "      <td>0.806057</td>\n",
       "      <td>49.693429</td>\n",
       "    </tr>\n",
       "    <tr>\n",
       "      <th>min</th>\n",
       "      <td>1.000000</td>\n",
       "      <td>0.000000</td>\n",
       "      <td>1.000000</td>\n",
       "      <td>0.420000</td>\n",
       "      <td>0.000000</td>\n",
       "      <td>0.000000</td>\n",
       "      <td>0.000000</td>\n",
       "    </tr>\n",
       "    <tr>\n",
       "      <th>25%</th>\n",
       "      <td>223.500000</td>\n",
       "      <td>0.000000</td>\n",
       "      <td>2.000000</td>\n",
       "      <td>20.125000</td>\n",
       "      <td>0.000000</td>\n",
       "      <td>0.000000</td>\n",
       "      <td>7.910400</td>\n",
       "    </tr>\n",
       "    <tr>\n",
       "      <th>50%</th>\n",
       "      <td>446.000000</td>\n",
       "      <td>0.000000</td>\n",
       "      <td>3.000000</td>\n",
       "      <td>28.000000</td>\n",
       "      <td>0.000000</td>\n",
       "      <td>0.000000</td>\n",
       "      <td>14.454200</td>\n",
       "    </tr>\n",
       "    <tr>\n",
       "      <th>75%</th>\n",
       "      <td>668.500000</td>\n",
       "      <td>1.000000</td>\n",
       "      <td>3.000000</td>\n",
       "      <td>38.000000</td>\n",
       "      <td>1.000000</td>\n",
       "      <td>0.000000</td>\n",
       "      <td>31.000000</td>\n",
       "    </tr>\n",
       "    <tr>\n",
       "      <th>max</th>\n",
       "      <td>891.000000</td>\n",
       "      <td>1.000000</td>\n",
       "      <td>3.000000</td>\n",
       "      <td>80.000000</td>\n",
       "      <td>8.000000</td>\n",
       "      <td>6.000000</td>\n",
       "      <td>512.329200</td>\n",
       "    </tr>\n",
       "  </tbody>\n",
       "</table>\n",
       "</div>"
      ],
      "text/plain": [
       "       PassengerId    Survived      Pclass         Age       SibSp  \\\n",
       "count   891.000000  891.000000  891.000000  714.000000  891.000000   \n",
       "mean    446.000000    0.383838    2.308642   29.699118    0.523008   \n",
       "std     257.353842    0.486592    0.836071   14.526497    1.102743   \n",
       "min       1.000000    0.000000    1.000000    0.420000    0.000000   \n",
       "25%     223.500000    0.000000    2.000000   20.125000    0.000000   \n",
       "50%     446.000000    0.000000    3.000000   28.000000    0.000000   \n",
       "75%     668.500000    1.000000    3.000000   38.000000    1.000000   \n",
       "max     891.000000    1.000000    3.000000   80.000000    8.000000   \n",
       "\n",
       "            Parch        Fare  \n",
       "count  891.000000  891.000000  \n",
       "mean     0.381594   32.204208  \n",
       "std      0.806057   49.693429  \n",
       "min      0.000000    0.000000  \n",
       "25%      0.000000    7.910400  \n",
       "50%      0.000000   14.454200  \n",
       "75%      0.000000   31.000000  \n",
       "max      6.000000  512.329200  "
      ]
     },
     "execution_count": 6,
     "metadata": {},
     "output_type": "execute_result"
    }
   ],
   "source": [
    "df.describe()"
   ]
  },
  {
   "cell_type": "code",
   "execution_count": 65,
   "id": "0be4acd9-8b76-40c3-915f-f96fca723f3d",
   "metadata": {},
   "outputs": [
    {
     "name": "stdout",
     "output_type": "stream",
     "text": [
      "<class 'pandas.core.frame.DataFrame'>\n",
      "RangeIndex: 891 entries, 0 to 890\n",
      "Data columns (total 12 columns):\n",
      " #   Column       Non-Null Count  Dtype  \n",
      "---  ------       --------------  -----  \n",
      " 0   PassengerId  891 non-null    int64  \n",
      " 1   Survived     891 non-null    int64  \n",
      " 2   Pclass       891 non-null    int64  \n",
      " 3   Name         891 non-null    object \n",
      " 4   Sex          891 non-null    object \n",
      " 5   Age          714 non-null    float64\n",
      " 6   SibSp        891 non-null    int64  \n",
      " 7   Parch        891 non-null    int64  \n",
      " 8   Ticket       891 non-null    object \n",
      " 9   Fare         891 non-null    float64\n",
      " 10  Cabin        204 non-null    object \n",
      " 11  Embarked     889 non-null    object \n",
      "dtypes: float64(2), int64(5), object(5)\n",
      "memory usage: 83.7+ KB\n"
     ]
    }
   ],
   "source": [
    "df.info()"
   ]
  },
  {
   "cell_type": "code",
   "execution_count": 90,
   "id": "89b8f2ff-bef8-4012-be80-4c0debb23fd9",
   "metadata": {},
   "outputs": [
    {
     "name": "stdout",
     "output_type": "stream",
     "text": [
      "Unique values in 'PassengerId': (891,)\n",
      "Unique values in 'Survived': (2,)\n",
      "Unique values in 'Pclass': (3,)\n",
      "Unique values in 'Name': (891,)\n",
      "Unique values in 'Sex': (2,)\n",
      "Unique values in 'Age': (88,)\n",
      "Unique values in 'SibSp': (7,)\n",
      "Unique values in 'Parch': (7,)\n",
      "Unique values in 'Ticket': (681,)\n",
      "Unique values in 'Fare': (248,)\n",
      "Unique values in 'Cabin': (148,)\n",
      "Unique values in 'Embarked': (3,)\n"
     ]
    }
   ],
   "source": [
    "for column in df.columns:\n",
    "    unique_values = df[column].unique()\n",
    "    print(f\"Unique values in '{column}': {unique_values.shape}\")\n"
   ]
  },
  {
   "cell_type": "markdown",
   "id": "92feacd7-d056-46c3-9ce0-531ab58fec54",
   "metadata": {
    "jp-MarkdownHeadingCollapsed": true
   },
   "source": [
    "## Handling Missing Data <a class=\"anchor\" id=\"null-bullet\"></a>"
   ]
  },
  {
   "cell_type": "code",
   "execution_count": 14,
   "id": "1f7e5ac2-fc45-489a-96ea-09f9aff84b0b",
   "metadata": {},
   "outputs": [
    {
     "data": {
      "text/plain": [
       "PassengerId      0\n",
       "Survived         0\n",
       "Pclass           0\n",
       "Name             0\n",
       "Sex              0\n",
       "Age            177\n",
       "SibSp            0\n",
       "Parch            0\n",
       "Ticket           0\n",
       "Fare             0\n",
       "Cabin          687\n",
       "Embarked         2\n",
       "dtype: int64"
      ]
     },
     "execution_count": 14,
     "metadata": {},
     "output_type": "execute_result"
    }
   ],
   "source": [
    "df.isnull().sum()"
   ]
  },
  {
   "cell_type": "markdown",
   "id": "bc9bd5be-bd82-4334-8418-4cea9b7ebe12",
   "metadata": {},
   "source": [
    "#### Remove Missing Data\n",
    "When to Use: When the percentage of missing data is very low, or if certain rows/columns with missing values aren't critical for your analysis.\n",
    "\n"
   ]
  },
  {
   "cell_type": "code",
   "execution_count": 13,
   "id": "53fd4541-d07d-40bc-8201-ed2e8b92a487",
   "metadata": {},
   "outputs": [],
   "source": [
    "# df.dropna(subset=['Embarked'], axis=0, inplace=True) # Drops rows with missing values from the embarked col"
   ]
  },
  {
   "cell_type": "code",
   "execution_count": 15,
   "id": "bee4b79c-c061-40c1-a225-5c591988f799",
   "metadata": {},
   "outputs": [
    {
     "data": {
      "text/plain": [
       "array(['S', 'C', 'Q', nan], dtype=object)"
      ]
     },
     "execution_count": 15,
     "metadata": {},
     "output_type": "execute_result"
    }
   ],
   "source": [
    "df['Embarked'].unique()"
   ]
  },
  {
   "cell_type": "code",
   "execution_count": 119,
   "id": "fe9957bc-8f39-463c-a9ba-52fcbac48871",
   "metadata": {},
   "outputs": [],
   "source": [
    "df['Embarked']=df['Embarked'].fillna(df['Embarked'].mode()[0])"
   ]
  },
  {
   "cell_type": "code",
   "execution_count": 19,
   "id": "62868442-d53f-4791-a468-f0ab91ff4009",
   "metadata": {},
   "outputs": [
    {
     "data": {
      "text/plain": [
       "PassengerId      0\n",
       "Survived         0\n",
       "Pclass           0\n",
       "Name             0\n",
       "Sex              0\n",
       "Age            177\n",
       "SibSp            0\n",
       "Parch            0\n",
       "Ticket           0\n",
       "Fare             0\n",
       "Cabin          687\n",
       "Embarked         0\n",
       "dtype: int64"
      ]
     },
     "execution_count": 19,
     "metadata": {},
     "output_type": "execute_result"
    }
   ],
   "source": [
    "df.isnull().sum()"
   ]
  },
  {
   "cell_type": "markdown",
   "id": "da7f3a18-f500-43d4-9fd5-074c4677200d",
   "metadata": {},
   "source": [
    "#### Mean is generally used for normally distributed data (skewness near 0).\n",
    "\n",
    "- Pros: Simple and easy to implement.\n",
    "- Cons: Can introduce bias if there are many outliers or if the distribution of the data is not normal.\n",
    "\n",
    "#### Median Imputation is Used when the data contains outliers (e.g., a few very young or very old passengers) that could skew the mean.\n",
    "- Pros: Robust to outliers.\n",
    "- Cons: May not reflect subtle variations in the data.\n",
    "#### Mode Imputation If there are certain age groups that dominate the data (like a majority of passengers falling into a particular age group). This is rarely used for continuous variables like age but can be used if your data has repeating values.\n"
   ]
  },
  {
   "cell_type": "code",
   "execution_count": 21,
   "id": "f1efbf13-f761-4dbf-9209-676bc9384ede",
   "metadata": {},
   "outputs": [
    {
     "data": {
      "text/plain": [
       "0.38910778230082704"
      ]
     },
     "execution_count": 21,
     "metadata": {},
     "output_type": "execute_result"
    }
   ],
   "source": [
    "df['Age'].skew()"
   ]
  },
  {
   "cell_type": "code",
   "execution_count": 68,
   "id": "d17ea785-560e-41cf-862b-2cdb6bb8430a",
   "metadata": {},
   "outputs": [
    {
     "name": "stdout",
     "output_type": "stream",
     "text": [
      "     PassengerId  Survived  Pclass                                  Name  \\\n",
      "33            34         0       2                 Wheadon, Mr. Edward H   \n",
      "54            55         0       1        Ostby, Mr. Engelhart Cornelius   \n",
      "96            97         0       1             Goldschmidt, Mr. George B   \n",
      "116          117         0       3                  Connors, Mr. Patrick   \n",
      "280          281         0       3                      Duane, Mr. Frank   \n",
      "456          457         0       1             Millet, Mr. Francis Davis   \n",
      "493          494         0       1               Artagaveytia, Mr. Ramon   \n",
      "630          631         1       1  Barkworth, Mr. Algernon Henry Wilson   \n",
      "672          673         0       2           Mitchell, Mr. Henry Michael   \n",
      "745          746         0       1          Crosby, Capt. Edward Gifford   \n",
      "851          852         0       3                   Svensson, Mr. Johan   \n",
      "\n",
      "      Sex   Age  SibSp  Parch      Ticket     Fare Cabin Embarked  \n",
      "33   male  66.0      0      0  C.A. 24579  10.5000   NaN        S  \n",
      "54   male  65.0      0      1      113509  61.9792   B30        C  \n",
      "96   male  71.0      0      0    PC 17754  34.6542    A5        C  \n",
      "116  male  70.5      0      0      370369   7.7500   NaN        Q  \n",
      "280  male  65.0      0      0      336439   7.7500   NaN        Q  \n",
      "456  male  65.0      0      0       13509  26.5500   E38        S  \n",
      "493  male  71.0      0      0    PC 17609  49.5042   NaN        C  \n",
      "630  male  80.0      0      0       27042  30.0000   A23        S  \n",
      "672  male  70.0      0      0  C.A. 24580  10.5000   NaN        S  \n",
      "745  male  70.0      1      1   WE/P 5735  71.0000   B22        S  \n",
      "851  male  74.0      0      0      347060   7.7750   NaN        S  \n",
      "(11, 12)\n"
     ]
    }
   ],
   "source": [
    "# Calculate IQR\n",
    "Q1 = df['Age'].quantile(0.25)\n",
    "Q3 = df['Age'].quantile(0.75)\n",
    "IQR = Q3 - Q1\n",
    "\n",
    "# Define the lower and upper bounds for outliers\n",
    "lower_bound = Q1 - 1.5 * IQR\n",
    "upper_bound = Q3 + 1.5 * IQR\n",
    "\n",
    "# Filter outliers\n",
    "outliers = df[(df['Age'] < lower_bound) | (df['Age'] > upper_bound)]\n",
    "\n",
    "# Display outliers\n",
    "print(outliers)\n",
    "print(outliers.shape)"
   ]
  },
  {
   "cell_type": "code",
   "execution_count": 25,
   "id": "0c366cc3-4977-48da-9fec-8bbdd7a9c5dd",
   "metadata": {},
   "outputs": [
    {
     "data": {
      "text/plain": [
       "29.69911764705882"
      ]
     },
     "execution_count": 25,
     "metadata": {},
     "output_type": "execute_result"
    }
   ],
   "source": [
    "df['Age'].mean()"
   ]
  },
  {
   "cell_type": "code",
   "execution_count": 27,
   "id": "9b31003d-a9a1-448a-b063-f0a183655f3e",
   "metadata": {},
   "outputs": [
    {
     "data": {
      "text/plain": [
       "28.0"
      ]
     },
     "execution_count": 27,
     "metadata": {},
     "output_type": "execute_result"
    }
   ],
   "source": [
    "df['Age'].median()"
   ]
  },
  {
   "cell_type": "code",
   "execution_count": 29,
   "id": "72fa8361-c09b-46a8-9a93-d7190f7401bb",
   "metadata": {},
   "outputs": [
    {
     "data": {
      "text/plain": [
       "0    24.0\n",
       "Name: Age, dtype: float64"
      ]
     },
     "execution_count": 29,
     "metadata": {},
     "output_type": "execute_result"
    }
   ],
   "source": [
    "df['Age'].mode()"
   ]
  },
  {
   "cell_type": "code",
   "execution_count": 50,
   "id": "fe24f0a6-2ebd-40f2-8c55-7e617f62fdb7",
   "metadata": {},
   "outputs": [],
   "source": [
    "df['Age_median'] = df['Age'].fillna(df['Age'].median())"
   ]
  },
  {
   "cell_type": "code",
   "execution_count": 52,
   "id": "ebddafeb-fd1e-4af9-8733-ad625847df47",
   "metadata": {},
   "outputs": [
    {
     "data": {
      "text/plain": [
       "PassengerId      0\n",
       "Survived         0\n",
       "Pclass           0\n",
       "Name             0\n",
       "Sex              0\n",
       "Age            177\n",
       "SibSp            0\n",
       "Parch            0\n",
       "Ticket           0\n",
       "Fare             0\n",
       "Cabin          687\n",
       "Embarked         2\n",
       "Age_rand         0\n",
       "Age_median       0\n",
       "dtype: int64"
      ]
     },
     "execution_count": 52,
     "metadata": {},
     "output_type": "execute_result"
    }
   ],
   "source": [
    "df.isnull().sum()"
   ]
  },
  {
   "cell_type": "markdown",
   "id": "b18159f7-9754-4f12-b8dc-6e5b2e67dd66",
   "metadata": {},
   "source": [
    "#### Random Imputation within a Distribution\n",
    "When to Use: To maintain the variability in the dataset rather than just imputing a single value for all missing entries.\n",
    "- Pros: Preserves the variability of the data.\n",
    "- Cons: Adds randomness and can introduce noise."
   ]
  },
  {
   "cell_type": "code",
   "execution_count": 44,
   "id": "a7eb3ad1-87fc-440a-a8fd-57c69879e1dd",
   "metadata": {},
   "outputs": [],
   "source": [
    "import numpy as np\n",
    "df['Age_rand'] = df['Age'].apply(lambda x: np.random.choice(df['Age'].dropna()) if np.isnan(x) else x)"
   ]
  },
  {
   "cell_type": "code",
   "execution_count": 59,
   "id": "dac079f4-bf73-43e9-9c75-245f404e96ba",
   "metadata": {},
   "outputs": [
    {
     "data": {
      "text/plain": [
       "PassengerId      0\n",
       "Survived         0\n",
       "Pclass           0\n",
       "Name             0\n",
       "Sex              0\n",
       "Age            177\n",
       "SibSp            0\n",
       "Parch            0\n",
       "Ticket           0\n",
       "Fare             0\n",
       "Cabin          676\n",
       "Embarked         2\n",
       "Age_rand         0\n",
       "Age_median       0\n",
       "dtype: int64"
      ]
     },
     "execution_count": 59,
     "metadata": {},
     "output_type": "execute_result"
    }
   ],
   "source": [
    "df.isnull().sum()"
   ]
  },
  {
   "cell_type": "code",
   "execution_count": 48,
   "id": "ebc68168-a811-49c9-9c77-ed024a6f25fb",
   "metadata": {},
   "outputs": [
    {
     "data": {
      "text/plain": [
       "29.70482603815937"
      ]
     },
     "execution_count": 48,
     "metadata": {},
     "output_type": "execute_result"
    }
   ],
   "source": [
    "df['Age_rand'].mean()"
   ]
  },
  {
   "cell_type": "code",
   "execution_count": 54,
   "id": "7b11e93b-2afb-47c5-b7b6-20e7ae474ae9",
   "metadata": {},
   "outputs": [
    {
     "data": {
      "text/plain": [
       "29.36158249158249"
      ]
     },
     "execution_count": 54,
     "metadata": {},
     "output_type": "execute_result"
    }
   ],
   "source": [
    "df['Age_median'].mean()"
   ]
  },
  {
   "cell_type": "code",
   "execution_count": 17,
   "id": "745ecc0d-e940-423a-9bd4-e4540d170a96",
   "metadata": {},
   "outputs": [],
   "source": [
    "df = df.drop(['Age_rand', 'Age_median'], axis=1)"
   ]
  },
  {
   "cell_type": "code",
   "execution_count": 16,
   "id": "1ccddd26-30be-4dc1-9bb0-f961229acd5c",
   "metadata": {},
   "outputs": [],
   "source": [
    "import numpy as np\n",
    "# finally i think random to keep variability for 177 entry\n",
    "df['Age'] = df['Age'].apply(lambda x: np.random.choice(df['Age'].dropna()) if np.isnan(x) else x)"
   ]
  },
  {
   "cell_type": "code",
   "execution_count": 39,
   "id": "db26906c-dfb3-422b-a340-48347066fb4a",
   "metadata": {},
   "outputs": [
    {
     "data": {
      "text/plain": [
       "PassengerId      0\n",
       "Survived         0\n",
       "Pclass           0\n",
       "Name             0\n",
       "Sex              0\n",
       "Age              0\n",
       "SibSp            0\n",
       "Parch            0\n",
       "Ticket           0\n",
       "Fare             0\n",
       "Cabin          687\n",
       "Embarked         0\n",
       "dtype: int64"
      ]
     },
     "execution_count": 39,
     "metadata": {},
     "output_type": "execute_result"
    }
   ],
   "source": [
    "df.isnull().sum()"
   ]
  },
  {
   "cell_type": "markdown",
   "id": "dbc421bd-d860-4b34-9647-94f75b43d537",
   "metadata": {},
   "source": [
    "#### Frequent Categorical Imputation\n",
    "   - replace NaN with frequent categorim\n",
    " If cabin assignment followed some common pattern, and you want to use the most frequent value. This works if you’re trying to maintain consistency but don’t have much to go on."
   ]
  },
  {
   "cell_type": "code",
   "execution_count": 47,
   "id": "84db29ab-75c8-4186-906c-ed53f286a2ce",
   "metadata": {},
   "outputs": [
    {
     "data": {
      "text/plain": [
       "'B96 B98'"
      ]
     },
     "execution_count": 47,
     "metadata": {},
     "output_type": "execute_result"
    }
   ],
   "source": [
    "freq = df['Cabin'].value_counts().index[0]\n",
    "freq"
   ]
  },
  {
   "cell_type": "code",
   "execution_count": 49,
   "id": "e44dd918-a872-4ae8-979d-47847e98956b",
   "metadata": {},
   "outputs": [],
   "source": [
    "df['Cabin_Freq'] = df['Cabin'].fillna(freq)"
   ]
  },
  {
   "cell_type": "code",
   "execution_count": 10,
   "id": "8ac3a450-5a2b-4661-950c-981e6bd5d26d",
   "metadata": {},
   "outputs": [
    {
     "data": {
      "text/plain": [
       "0      Unknown\n",
       "1            C\n",
       "2      Unknown\n",
       "3            C\n",
       "4      Unknown\n",
       "        ...   \n",
       "886    Unknown\n",
       "887          B\n",
       "888    Unknown\n",
       "889          C\n",
       "890    Unknown\n",
       "Name: Deck, Length: 891, dtype: object"
      ]
     },
     "execution_count": 10,
     "metadata": {},
     "output_type": "execute_result"
    }
   ],
   "source": [
    "df['Deck'] = df['Cabin'].str[0]\n",
    "df['Deck'].fillna('Unknown')\n",
    "# will have fewer categories to deal with (e.g., A, B, C, etc., or \"Unknown\"), which may help reduce the impact of the missing data."
   ]
  },
  {
   "cell_type": "code",
   "execution_count": 12,
   "id": "41679571-7838-4425-ae9e-2f8c152e0b59",
   "metadata": {},
   "outputs": [
    {
     "data": {
      "text/plain": [
       "0      C\n",
       "1      C\n",
       "2      C\n",
       "3      C\n",
       "4      C\n",
       "      ..\n",
       "886    C\n",
       "887    B\n",
       "888    C\n",
       "889    C\n",
       "890    C\n",
       "Name: Deck, Length: 891, dtype: object"
      ]
     },
     "execution_count": 12,
     "metadata": {},
     "output_type": "execute_result"
    }
   ],
   "source": [
    "most_frequent_deck = df['Deck'].mode()[0]\n",
    "df['Deck'].fillna(most_frequent_deck)"
   ]
  },
  {
   "cell_type": "markdown",
   "id": "161dbe25-39df-4df8-bbd0-0350509a98a6",
   "metadata": {},
   "source": [
    "#### Impute Missing Cabins Based on Ticket"
   ]
  },
  {
   "cell_type": "markdown",
   "id": "1e262904-932c-4037-bc01-feccb11cb385",
   "metadata": {},
   "source": [
    "Since some passengers share the same ticket (families or groups), it's possible that these passengers stayed in the same cabin. Therefore, i can fill missing cabins by grouping people with the same ticket number and assigning the cabin known for other passengers with the same ticket:"
   ]
  },
  {
   "cell_type": "code",
   "execution_count": 56,
   "id": "460f829d-bac0-4d21-931d-3e704967aa16",
   "metadata": {},
   "outputs": [
    {
     "name": "stderr",
     "output_type": "stream",
     "text": [
      "C:\\Users\\yara.maraey\\AppData\\Local\\Temp\\ipykernel_36688\\1033144338.py:2: FutureWarning: Downcasting object dtype arrays on .fillna, .ffill, .bfill is deprecated and will change in a future version. Call result.infer_objects(copy=False) instead. To opt-in to the future behavior, set `pd.set_option('future.no_silent_downcasting', True)`\n",
      "  df['Cabin'] = df.groupby('Ticket')['Cabin'].transform(lambda x: x.fillna(x.mode()[0] if not x.mode().empty else np.nan))\n"
     ]
    }
   ],
   "source": [
    "import numpy as np\n",
    "df['Cabin'] = df.groupby('Ticket')['Cabin'].transform(lambda x: x.fillna(x.mode()[0] if not x.mode().empty else np.nan))"
   ]
  },
  {
   "cell_type": "code",
   "execution_count": 27,
   "id": "1b7b9692-f84e-4415-99b9-c5f2dde047fb",
   "metadata": {},
   "outputs": [
    {
     "name": "stdout",
     "output_type": "stream",
     "text": [
      "<class 'pandas.core.series.Series'>\n",
      "RangeIndex: 891 entries, 0 to 890\n",
      "Series name: Cabin\n",
      "Non-Null Count  Dtype \n",
      "--------------  ----- \n",
      "215 non-null    object\n",
      "dtypes: object(1)\n",
      "memory usage: 7.1+ KB\n"
     ]
    }
   ],
   "source": [
    "df['Cabin'].info()"
   ]
  },
  {
   "cell_type": "markdown",
   "id": "9308b202-c529-4e97-8c4a-a6cbc89bddd0",
   "metadata": {},
   "source": [
    "if some passengers still have missing cabin data, you can impute it based on the most common cabin (or deck) for their class."
   ]
  },
  {
   "cell_type": "markdown",
   "id": "60a93085-d179-4c85-9759-77b38348bde9",
   "metadata": {},
   "source": [
    "#### Replace NaN with Mode"
   ]
  },
  {
   "cell_type": "code",
   "execution_count": 52,
   "id": "15b868b7-1534-44a2-af40-f5e6d2cba4fc",
   "metadata": {},
   "outputs": [],
   "source": [
    "df['Cabin_mode'] = df['Cabin'].fillna(df['Cabin'].mode())"
   ]
  },
  {
   "cell_type": "markdown",
   "id": "72c486e4-65c9-4a91-aa39-5b94a0f78a93",
   "metadata": {},
   "source": [
    "#### Filling with 'Unknown' or 'U'\n",
    "When to Use: If the cabin number isn’t crucial for my analysis, or if you want to preserve rows but can’t infer anything from other features, it’s common to fill missing values with a placeholder like 'Unknown' or 'U'."
   ]
  },
  {
   "cell_type": "code",
   "execution_count": 131,
   "id": "3f4606d8-ccbb-4203-a833-804c11c1a6b1",
   "metadata": {},
   "outputs": [],
   "source": [
    "df['Cabin'] = df['Cabin'].fillna('Unknown')"
   ]
  },
  {
   "cell_type": "code",
   "execution_count": 59,
   "id": "658cf737-0310-4247-af35-1833a17c2f9c",
   "metadata": {},
   "outputs": [],
   "source": [
    "df = df.drop(['Cabin_Freq', 'Cabin_mode'], axis=1)"
   ]
  },
  {
   "cell_type": "code",
   "execution_count": 43,
   "id": "34d3d011-49ce-4fd2-b880-4ae18a45b527",
   "metadata": {},
   "outputs": [
    {
     "data": {
      "text/plain": [
       "PassengerId    0\n",
       "Survived       0\n",
       "Pclass         0\n",
       "Name           0\n",
       "Sex            0\n",
       "Age            0\n",
       "SibSp          0\n",
       "Parch          0\n",
       "Ticket         0\n",
       "Fare           0\n",
       "Cabin          0\n",
       "Embarked       0\n",
       "dtype: int64"
      ]
     },
     "execution_count": 43,
     "metadata": {},
     "output_type": "execute_result"
    }
   ],
   "source": [
    "df.isnull().sum()"
   ]
  },
  {
   "cell_type": "markdown",
   "id": "5c9cd29e-3905-4f33-bd0f-2f27d1eac9c2",
   "metadata": {
    "jp-MarkdownHeadingCollapsed": true
   },
   "source": [
    "## Handling Duplicates <a class=\"anchor\" id=\"second-bullet\"></a>"
   ]
  },
  {
   "cell_type": "code",
   "execution_count": 29,
   "id": "228676fd-d7ab-4560-bc8c-d6c23fd9ee4e",
   "metadata": {},
   "outputs": [
    {
     "data": {
      "text/html": [
       "<div>\n",
       "<style scoped>\n",
       "    .dataframe tbody tr th:only-of-type {\n",
       "        vertical-align: middle;\n",
       "    }\n",
       "\n",
       "    .dataframe tbody tr th {\n",
       "        vertical-align: top;\n",
       "    }\n",
       "\n",
       "    .dataframe thead th {\n",
       "        text-align: right;\n",
       "    }\n",
       "</style>\n",
       "<table border=\"1\" class=\"dataframe\">\n",
       "  <thead>\n",
       "    <tr style=\"text-align: right;\">\n",
       "      <th></th>\n",
       "      <th>PassengerId</th>\n",
       "      <th>Survived</th>\n",
       "      <th>Pclass</th>\n",
       "      <th>Name</th>\n",
       "      <th>Sex</th>\n",
       "      <th>Age</th>\n",
       "      <th>SibSp</th>\n",
       "      <th>Parch</th>\n",
       "      <th>Ticket</th>\n",
       "      <th>Fare</th>\n",
       "      <th>Cabin</th>\n",
       "      <th>Embarked</th>\n",
       "    </tr>\n",
       "  </thead>\n",
       "  <tbody>\n",
       "  </tbody>\n",
       "</table>\n",
       "</div>"
      ],
      "text/plain": [
       "Empty DataFrame\n",
       "Columns: [PassengerId, Survived, Pclass, Name, Sex, Age, SibSp, Parch, Ticket, Fare, Cabin, Embarked]\n",
       "Index: []"
      ]
     },
     "execution_count": 29,
     "metadata": {},
     "output_type": "execute_result"
    }
   ],
   "source": [
    "# Find all duplicated rows (including first occurrence)\n",
    "duplicates = df[df.duplicated()]\n",
    "duplicates"
   ]
  },
  {
   "cell_type": "code",
   "execution_count": 31,
   "id": "418504d5-ea69-4136-9a57-9f5f8cb62a12",
   "metadata": {},
   "outputs": [
    {
     "data": {
      "text/plain": [
       "0"
      ]
     },
     "execution_count": 31,
     "metadata": {},
     "output_type": "execute_result"
    }
   ],
   "source": [
    "df['Name'].duplicated().sum()"
   ]
  },
  {
   "cell_type": "code",
   "execution_count": 17,
   "id": "9fd5c406-634f-4b3c-b4a9-fbde66b4aec2",
   "metadata": {},
   "outputs": [
    {
     "data": {
      "text/plain": [
       "210"
      ]
     },
     "execution_count": 17,
     "metadata": {},
     "output_type": "execute_result"
    }
   ],
   "source": [
    "df['Ticket'].duplicated().sum()"
   ]
  },
  {
   "cell_type": "code",
   "execution_count": 19,
   "id": "6f5abd2d-c6ca-46bc-a87e-4c038c0ba67b",
   "metadata": {},
   "outputs": [
    {
     "data": {
      "text/plain": [
       "743"
      ]
     },
     "execution_count": 19,
     "metadata": {},
     "output_type": "execute_result"
    }
   ],
   "source": [
    "df['Cabin'].duplicated().sum()"
   ]
  },
  {
   "cell_type": "code",
   "execution_count": null,
   "id": "f8d9cb3f-db5f-4f39-8c7e-a971fb7e2832",
   "metadata": {},
   "outputs": [],
   "source": [
    "df.drop_duplicates(inplace=True)"
   ]
  },
  {
   "cell_type": "markdown",
   "id": "b45823a0-df30-41c4-b1b9-4e3d8abc023e",
   "metadata": {
    "jp-MarkdownHeadingCollapsed": true
   },
   "source": [
    "## Handling Incorrect Data Types <a class=\"anchor\" id=\"third-bullet\"></a>"
   ]
  },
  {
   "cell_type": "code",
   "execution_count": 11,
   "id": "d19a3527-5e06-4f70-8965-da5bc96e8926",
   "metadata": {},
   "outputs": [
    {
     "data": {
      "text/html": [
       "<div>\n",
       "<style scoped>\n",
       "    .dataframe tbody tr th:only-of-type {\n",
       "        vertical-align: middle;\n",
       "    }\n",
       "\n",
       "    .dataframe tbody tr th {\n",
       "        vertical-align: top;\n",
       "    }\n",
       "\n",
       "    .dataframe thead th {\n",
       "        text-align: right;\n",
       "    }\n",
       "</style>\n",
       "<table border=\"1\" class=\"dataframe\">\n",
       "  <thead>\n",
       "    <tr style=\"text-align: right;\">\n",
       "      <th></th>\n",
       "      <th>PassengerId</th>\n",
       "      <th>Survived</th>\n",
       "      <th>Pclass</th>\n",
       "      <th>Name</th>\n",
       "      <th>Sex</th>\n",
       "      <th>Age</th>\n",
       "      <th>SibSp</th>\n",
       "      <th>Parch</th>\n",
       "      <th>Ticket</th>\n",
       "      <th>Fare</th>\n",
       "      <th>Cabin</th>\n",
       "      <th>Embarked</th>\n",
       "    </tr>\n",
       "  </thead>\n",
       "  <tbody>\n",
       "    <tr>\n",
       "      <th>0</th>\n",
       "      <td>1</td>\n",
       "      <td>0</td>\n",
       "      <td>3</td>\n",
       "      <td>Braund, Mr. Owen Harris</td>\n",
       "      <td>male</td>\n",
       "      <td>22.0</td>\n",
       "      <td>1</td>\n",
       "      <td>0</td>\n",
       "      <td>A/5 21171</td>\n",
       "      <td>7.2500</td>\n",
       "      <td>NaN</td>\n",
       "      <td>S</td>\n",
       "    </tr>\n",
       "    <tr>\n",
       "      <th>1</th>\n",
       "      <td>2</td>\n",
       "      <td>1</td>\n",
       "      <td>1</td>\n",
       "      <td>Cumings, Mrs. John Bradley (Florence Briggs Th...</td>\n",
       "      <td>female</td>\n",
       "      <td>38.0</td>\n",
       "      <td>1</td>\n",
       "      <td>0</td>\n",
       "      <td>PC 17599</td>\n",
       "      <td>71.2833</td>\n",
       "      <td>C85</td>\n",
       "      <td>C</td>\n",
       "    </tr>\n",
       "    <tr>\n",
       "      <th>2</th>\n",
       "      <td>3</td>\n",
       "      <td>1</td>\n",
       "      <td>3</td>\n",
       "      <td>Heikkinen, Miss. Laina</td>\n",
       "      <td>female</td>\n",
       "      <td>26.0</td>\n",
       "      <td>0</td>\n",
       "      <td>0</td>\n",
       "      <td>STON/O2. 3101282</td>\n",
       "      <td>7.9250</td>\n",
       "      <td>NaN</td>\n",
       "      <td>S</td>\n",
       "    </tr>\n",
       "    <tr>\n",
       "      <th>3</th>\n",
       "      <td>4</td>\n",
       "      <td>1</td>\n",
       "      <td>1</td>\n",
       "      <td>Futrelle, Mrs. Jacques Heath (Lily May Peel)</td>\n",
       "      <td>female</td>\n",
       "      <td>35.0</td>\n",
       "      <td>1</td>\n",
       "      <td>0</td>\n",
       "      <td>113803</td>\n",
       "      <td>53.1000</td>\n",
       "      <td>C123</td>\n",
       "      <td>S</td>\n",
       "    </tr>\n",
       "    <tr>\n",
       "      <th>4</th>\n",
       "      <td>5</td>\n",
       "      <td>0</td>\n",
       "      <td>3</td>\n",
       "      <td>Allen, Mr. William Henry</td>\n",
       "      <td>male</td>\n",
       "      <td>35.0</td>\n",
       "      <td>0</td>\n",
       "      <td>0</td>\n",
       "      <td>373450</td>\n",
       "      <td>8.0500</td>\n",
       "      <td>NaN</td>\n",
       "      <td>S</td>\n",
       "    </tr>\n",
       "    <tr>\n",
       "      <th>...</th>\n",
       "      <td>...</td>\n",
       "      <td>...</td>\n",
       "      <td>...</td>\n",
       "      <td>...</td>\n",
       "      <td>...</td>\n",
       "      <td>...</td>\n",
       "      <td>...</td>\n",
       "      <td>...</td>\n",
       "      <td>...</td>\n",
       "      <td>...</td>\n",
       "      <td>...</td>\n",
       "      <td>...</td>\n",
       "    </tr>\n",
       "    <tr>\n",
       "      <th>886</th>\n",
       "      <td>887</td>\n",
       "      <td>0</td>\n",
       "      <td>2</td>\n",
       "      <td>Montvila, Rev. Juozas</td>\n",
       "      <td>male</td>\n",
       "      <td>27.0</td>\n",
       "      <td>0</td>\n",
       "      <td>0</td>\n",
       "      <td>211536</td>\n",
       "      <td>13.0000</td>\n",
       "      <td>NaN</td>\n",
       "      <td>S</td>\n",
       "    </tr>\n",
       "    <tr>\n",
       "      <th>887</th>\n",
       "      <td>888</td>\n",
       "      <td>1</td>\n",
       "      <td>1</td>\n",
       "      <td>Graham, Miss. Margaret Edith</td>\n",
       "      <td>female</td>\n",
       "      <td>19.0</td>\n",
       "      <td>0</td>\n",
       "      <td>0</td>\n",
       "      <td>112053</td>\n",
       "      <td>30.0000</td>\n",
       "      <td>B42</td>\n",
       "      <td>S</td>\n",
       "    </tr>\n",
       "    <tr>\n",
       "      <th>888</th>\n",
       "      <td>889</td>\n",
       "      <td>0</td>\n",
       "      <td>3</td>\n",
       "      <td>Johnston, Miss. Catherine Helen \"Carrie\"</td>\n",
       "      <td>female</td>\n",
       "      <td>NaN</td>\n",
       "      <td>1</td>\n",
       "      <td>2</td>\n",
       "      <td>W./C. 6607</td>\n",
       "      <td>23.4500</td>\n",
       "      <td>NaN</td>\n",
       "      <td>S</td>\n",
       "    </tr>\n",
       "    <tr>\n",
       "      <th>889</th>\n",
       "      <td>890</td>\n",
       "      <td>1</td>\n",
       "      <td>1</td>\n",
       "      <td>Behr, Mr. Karl Howell</td>\n",
       "      <td>male</td>\n",
       "      <td>26.0</td>\n",
       "      <td>0</td>\n",
       "      <td>0</td>\n",
       "      <td>111369</td>\n",
       "      <td>30.0000</td>\n",
       "      <td>C148</td>\n",
       "      <td>C</td>\n",
       "    </tr>\n",
       "    <tr>\n",
       "      <th>890</th>\n",
       "      <td>891</td>\n",
       "      <td>0</td>\n",
       "      <td>3</td>\n",
       "      <td>Dooley, Mr. Patrick</td>\n",
       "      <td>male</td>\n",
       "      <td>32.0</td>\n",
       "      <td>0</td>\n",
       "      <td>0</td>\n",
       "      <td>370376</td>\n",
       "      <td>7.7500</td>\n",
       "      <td>NaN</td>\n",
       "      <td>Q</td>\n",
       "    </tr>\n",
       "  </tbody>\n",
       "</table>\n",
       "<p>891 rows × 12 columns</p>\n",
       "</div>"
      ],
      "text/plain": [
       "     PassengerId  Survived  Pclass  \\\n",
       "0              1         0       3   \n",
       "1              2         1       1   \n",
       "2              3         1       3   \n",
       "3              4         1       1   \n",
       "4              5         0       3   \n",
       "..           ...       ...     ...   \n",
       "886          887         0       2   \n",
       "887          888         1       1   \n",
       "888          889         0       3   \n",
       "889          890         1       1   \n",
       "890          891         0       3   \n",
       "\n",
       "                                                  Name     Sex   Age  SibSp  \\\n",
       "0                              Braund, Mr. Owen Harris    male  22.0      1   \n",
       "1    Cumings, Mrs. John Bradley (Florence Briggs Th...  female  38.0      1   \n",
       "2                               Heikkinen, Miss. Laina  female  26.0      0   \n",
       "3         Futrelle, Mrs. Jacques Heath (Lily May Peel)  female  35.0      1   \n",
       "4                             Allen, Mr. William Henry    male  35.0      0   \n",
       "..                                                 ...     ...   ...    ...   \n",
       "886                              Montvila, Rev. Juozas    male  27.0      0   \n",
       "887                       Graham, Miss. Margaret Edith  female  19.0      0   \n",
       "888           Johnston, Miss. Catherine Helen \"Carrie\"  female   NaN      1   \n",
       "889                              Behr, Mr. Karl Howell    male  26.0      0   \n",
       "890                                Dooley, Mr. Patrick    male  32.0      0   \n",
       "\n",
       "     Parch            Ticket     Fare Cabin Embarked  \n",
       "0        0         A/5 21171   7.2500   NaN        S  \n",
       "1        0          PC 17599  71.2833   C85        C  \n",
       "2        0  STON/O2. 3101282   7.9250   NaN        S  \n",
       "3        0            113803  53.1000  C123        S  \n",
       "4        0            373450   8.0500   NaN        S  \n",
       "..     ...               ...      ...   ...      ...  \n",
       "886      0            211536  13.0000   NaN        S  \n",
       "887      0            112053  30.0000   B42        S  \n",
       "888      2        W./C. 6607  23.4500   NaN        S  \n",
       "889      0            111369  30.0000  C148        C  \n",
       "890      0            370376   7.7500   NaN        Q  \n",
       "\n",
       "[891 rows x 12 columns]"
      ]
     },
     "execution_count": 11,
     "metadata": {},
     "output_type": "execute_result"
    }
   ],
   "source": [
    "# If categorical variables are stored as strings, you can convert them into categorical data types for memory efficiency and better performance.\n",
    "df['Embarked'] = df['Embarked'].astype('category')\n",
    "df['Sex'] = df['Sex'].astype('category')\n",
    "df"
   ]
  },
  {
   "cell_type": "code",
   "execution_count": 13,
   "id": "ce527c25-613c-434c-baa1-b1345a0d9da0",
   "metadata": {},
   "outputs": [
    {
     "name": "stdout",
     "output_type": "stream",
     "text": [
      "<class 'pandas.core.frame.DataFrame'>\n",
      "RangeIndex: 891 entries, 0 to 890\n",
      "Data columns (total 12 columns):\n",
      " #   Column       Non-Null Count  Dtype   \n",
      "---  ------       --------------  -----   \n",
      " 0   PassengerId  891 non-null    int64   \n",
      " 1   Survived     891 non-null    int64   \n",
      " 2   Pclass       891 non-null    int64   \n",
      " 3   Name         891 non-null    object  \n",
      " 4   Sex          891 non-null    category\n",
      " 5   Age          714 non-null    float64 \n",
      " 6   SibSp        891 non-null    int64   \n",
      " 7   Parch        891 non-null    int64   \n",
      " 8   Ticket       891 non-null    object  \n",
      " 9   Fare         891 non-null    float64 \n",
      " 10  Cabin        204 non-null    object  \n",
      " 11  Embarked     889 non-null    category\n",
      "dtypes: category(2), float64(2), int64(5), object(3)\n",
      "memory usage: 71.7+ KB\n"
     ]
    }
   ],
   "source": [
    "df.info()"
   ]
  },
  {
   "cell_type": "markdown",
   "id": "5ce76de3-8eea-4fa2-bb10-962d95762dff",
   "metadata": {
    "jp-MarkdownHeadingCollapsed": true
   },
   "source": [
    "## Handling Outliers <a class=\"anchor\" id=\"fourth-bullet\"></a>"
   ]
  },
  {
   "cell_type": "code",
   "execution_count": 71,
   "id": "00984bc1-32fe-40f1-ab70-798530297d7a",
   "metadata": {},
   "outputs": [
    {
     "name": "stdout",
     "output_type": "stream",
     "text": [
      "     PassengerId  Survived  Pclass                                  Name  \\\n",
      "33            34         0       2                 Wheadon, Mr. Edward H   \n",
      "54            55         0       1        Ostby, Mr. Engelhart Cornelius   \n",
      "96            97         0       1             Goldschmidt, Mr. George B   \n",
      "116          117         0       3                  Connors, Mr. Patrick   \n",
      "280          281         0       3                      Duane, Mr. Frank   \n",
      "456          457         0       1             Millet, Mr. Francis Davis   \n",
      "493          494         0       1               Artagaveytia, Mr. Ramon   \n",
      "630          631         1       1  Barkworth, Mr. Algernon Henry Wilson   \n",
      "672          673         0       2           Mitchell, Mr. Henry Michael   \n",
      "745          746         0       1          Crosby, Capt. Edward Gifford   \n",
      "851          852         0       3                   Svensson, Mr. Johan   \n",
      "\n",
      "      Sex   Age  SibSp  Parch      Ticket     Fare Cabin Embarked  \n",
      "33   male  66.0      0      0  C.A. 24579  10.5000   NaN        S  \n",
      "54   male  65.0      0      1      113509  61.9792   B30        C  \n",
      "96   male  71.0      0      0    PC 17754  34.6542    A5        C  \n",
      "116  male  70.5      0      0      370369   7.7500   NaN        Q  \n",
      "280  male  65.0      0      0      336439   7.7500   NaN        Q  \n",
      "456  male  65.0      0      0       13509  26.5500   E38        S  \n",
      "493  male  71.0      0      0    PC 17609  49.5042   NaN        C  \n",
      "630  male  80.0      0      0       27042  30.0000   A23        S  \n",
      "672  male  70.0      0      0  C.A. 24580  10.5000   NaN        S  \n",
      "745  male  70.0      1      1   WE/P 5735  71.0000   B22        S  \n",
      "851  male  74.0      0      0      347060   7.7750   NaN        S  \n",
      "(11, 12)\n"
     ]
    }
   ],
   "source": [
    "# Calculate IQR\n",
    "Q1 = df['Age'].quantile(0.25)\n",
    "Q3 = df['Age'].quantile(0.75)\n",
    "IQR = Q3 - Q1\n",
    "\n",
    "# Define the lower and upper bounds for outliers\n",
    "lower_bound = Q1 - 1.5 * IQR\n",
    "upper_bound = Q3 + 1.5 * IQR\n",
    "\n",
    "# Filter outliers\n",
    "outliers = df[(df['Age'] < lower_bound) | (df['Age'] > upper_bound)]\n",
    "\n",
    "# Display outliers\n",
    "print(outliers)\n",
    "print(outliers.shape)"
   ]
  },
  {
   "cell_type": "code",
   "execution_count": 73,
   "id": "d2fd6216-790a-45f6-915f-b3d5ac0785c8",
   "metadata": {},
   "outputs": [
    {
     "data": {
      "text/plain": [
       "Text(0, 0.5, 'No. of Passengers')"
      ]
     },
     "execution_count": 73,
     "metadata": {},
     "output_type": "execute_result"
    },
    {
     "data": {
      "image/png": "[encoded data removed]",
      "text/plain": [
       "<Figure size 640x480 with 1 Axes>"
      ]
     },
     "metadata": {},
     "output_type": "display_data"
    }
   ],
   "source": [
    "import matplotlib.pyplot as plt\n",
    "figure=df.Age.hist(bins=50)\n",
    "figure.set_title('Age')\n",
    "figure.set_xlabel('Age')\n",
    "figure.set_ylabel('No. of Passengers')"
   ]
  },
  {
   "cell_type": "code",
   "execution_count": 75,
   "id": "88bb10d0-c375-4a87-b1ad-c97578f94dad",
   "metadata": {},
   "outputs": [
    {
     "data": {
      "text/plain": [
       "count    714.000000\n",
       "mean      29.699118\n",
       "std       14.526497\n",
       "min        0.420000\n",
       "25%       20.125000\n",
       "50%       28.000000\n",
       "75%       38.000000\n",
       "max       80.000000\n",
       "Name: Age, dtype: float64"
      ]
     },
     "execution_count": 75,
     "metadata": {},
     "output_type": "execute_result"
    }
   ],
   "source": [
    "df['Age'].describe()"
   ]
  },
  {
   "cell_type": "code",
   "execution_count": 77,
   "id": "8d6abfc2-9a4a-4eda-a94e-78d24787985b",
   "metadata": {},
   "outputs": [
    {
     "data": {
      "image/png": "[encoded data removed]",
      "text/plain": [
       "<Figure size 640x480 with 1 Axes>"
      ]
     },
     "metadata": {},
     "output_type": "display_data"
    }
   ],
   "source": [
    "import seaborn as sns\n",
    "sns.boxplot(x=df['Age'])\n",
    "plt.title('Age Box Plot')\n",
    "plt.show()"
   ]
  },
  {
   "cell_type": "code",
   "execution_count": 79,
   "id": "f2b00613-eb63-48fb-a1be-a6211361d90c",
   "metadata": {},
   "outputs": [
    {
     "data": {
      "text/plain": [
       "Text(0, 0.5, 'No. of Passengers')"
      ]
     },
     "execution_count": 79,
     "metadata": {},
     "output_type": "execute_result"
    },
    {
     "data": {
      "image/png": "[encoded data removed]",
      "text/plain": [
       "<Figure size 640x480 with 1 Axes>"
      ]
     },
     "metadata": {},
     "output_type": "display_data"
    }
   ],
   "source": [
    "figure=df.Fare.hist(bins=50)\n",
    "figure.set_title('Fare')\n",
    "figure.set_xlabel('Fare')\n",
    "figure.set_ylabel('No. of Passengers')"
   ]
  },
  {
   "cell_type": "code",
   "execution_count": 81,
   "id": "7d2429a2-8d35-4c53-ac49-f04a95f10431",
   "metadata": {},
   "outputs": [
    {
     "data": {
      "image/png": "[encoded data removed]",
      "text/plain": [
       "<Figure size 640x480 with 1 Axes>"
      ]
     },
     "metadata": {},
     "output_type": "display_data"
    }
   ],
   "source": [
    "sns.boxplot(x=df['Fare'])\n",
    "plt.title('Fare Box Plot')\n",
    "plt.show()"
   ]
  },
  {
   "cell_type": "code",
   "execution_count": 83,
   "id": "5fdb9597-bdda-4347-99ff-0d46b7e4758d",
   "metadata": {},
   "outputs": [
    {
     "data": {
      "text/plain": [
       "count    891.000000\n",
       "mean      32.204208\n",
       "std       49.693429\n",
       "min        0.000000\n",
       "25%        7.910400\n",
       "50%       14.454200\n",
       "75%       31.000000\n",
       "max      512.329200\n",
       "Name: Fare, dtype: float64"
      ]
     },
     "execution_count": 83,
     "metadata": {},
     "output_type": "execute_result"
    }
   ],
   "source": [
    "df['Fare'].describe()"
   ]
  },
  {
   "cell_type": "code",
   "execution_count": 87,
   "id": "2c48b170-cc9f-47cc-b16a-cdd862e17468",
   "metadata": {},
   "outputs": [
    {
     "data": {
      "text/plain": [
       "15"
      ]
     },
     "execution_count": 87,
     "metadata": {},
     "output_type": "execute_result"
    }
   ],
   "source": [
    "num_zeros = (df['Fare'] == 0).sum()\n",
    "num_zeros"
   ]
  },
  {
   "cell_type": "code",
   "execution_count": 71,
   "id": "def32def-4101-4a58-82fa-4eb45279d482",
   "metadata": {},
   "outputs": [
    {
     "name": "stdout",
     "output_type": "stream",
     "text": [
      "-61.358399999999996\n",
      "100.2688\n",
      "(53, 12)\n"
     ]
    }
   ],
   "source": [
    "# Calculate IQR for Fare\n",
    "Q1 = df['Fare'].quantile(0.25)\n",
    "Q3 = df['Fare'].quantile(0.75)\n",
    "IQR = Q3 - Q1\n",
    "\n",
    "# Define lower and upper bounds for outliers\n",
    "lower_bound = Q1 - 3 * IQR\n",
    "upper_bound = Q3 + 3 * IQR\n",
    "print(lower_bound)\n",
    "print(upper_bound)\n",
    "\n",
    "# Identify outliers in Fare\n",
    "outliers_fare = df[(df['Fare'] < lower_bound) | (df['Fare'] > upper_bound)]\n",
    "print(outliers_fare.shape)"
   ]
  },
  {
   "cell_type": "code",
   "execution_count": 89,
   "id": "88194119-1a63-4ba0-a5e6-f9c7cfabb4e6",
   "metadata": {},
   "outputs": [
    {
     "data": {
      "image/png": "[encoded data removed]",
      "text/plain": [
       "<Figure size 640x480 with 1 Axes>"
      ]
     },
     "metadata": {},
     "output_type": "display_data"
    }
   ],
   "source": [
    "import seaborn as sns\n",
    "sns.boxplot(x=df['Fare'])\n",
    "plt.title('Fare Box Plot')\n",
    "plt.show()"
   ]
  },
  {
   "cell_type": "code",
   "execution_count": 91,
   "id": "6b89a6a3-919b-4686-9a12-ff0cdd1cf972",
   "metadata": {},
   "outputs": [],
   "source": [
    "# Remove outliers from Fare\n",
    "df = df[(df['Fare'] >= lower_bound) & (df['Fare'] <= upper_bound)]"
   ]
  },
  {
   "cell_type": "code",
   "execution_count": 1,
   "id": "4040fbd1-c90a-43ba-9d95-d5f4ff619948",
   "metadata": {},
   "outputs": [
    {
     "ename": "NameError",
     "evalue": "name 'df' is not defined",
     "output_type": "error",
     "traceback": [
      "\u001b[1;31m---------------------------------------------------------------------------\u001b[0m",
      "\u001b[1;31mNameError\u001b[0m                                 Traceback (most recent call last)",
      "Cell \u001b[1;32mIn[1], line 1\u001b[0m\n\u001b[1;32m----> 1\u001b[0m df[\u001b[38;5;124m'\u001b[39m\u001b[38;5;124mFare_clipped\u001b[39m\u001b[38;5;124m'\u001b[39m] \u001b[38;5;241m=\u001b[39m df[\u001b[38;5;124m'\u001b[39m\u001b[38;5;124mFare\u001b[39m\u001b[38;5;124m'\u001b[39m]\u001b[38;5;241m.\u001b[39mclip(lower\u001b[38;5;241m=\u001b[39mlower_bound, upper\u001b[38;5;241m=\u001b[39mupper_bound)\n",
      "\u001b[1;31mNameError\u001b[0m: name 'df' is not defined"
     ]
    }
   ],
   "source": [
    "df['Fare_clipped'] = df['Fare'].clip(lower=lower_bound, upper=upper_bound)"
   ]
  },
  {
   "cell_type": "code",
   "execution_count": 93,
   "id": "99bd9d07-394c-4d87-870a-b887837f928d",
   "metadata": {},
   "outputs": [
    {
     "name": "stdout",
     "output_type": "stream",
     "text": [
      "-46.416799999999995\n",
      "80.3126\n",
      "(0, 12)\n"
     ]
    }
   ],
   "source": [
    "# Calculate IQR for Fare\n",
    "Q1 = df['Fare'].quantile(0.25)\n",
    "Q3 = df['Fare'].quantile(0.75)\n",
    "IQR = Q3 - Q1\n",
    "\n",
    "# Define lower and upper bounds for outliers\n",
    "lower_bound = Q1 - 3 * IQR\n",
    "upper_bound = Q3 + 3 * IQR\n",
    "print(lower_bound)\n",
    "print(upper_bound)\n",
    "\n",
    "# Identify outliers in Fare\n",
    "outliers_fare = df[(df['Fare'] < lower_bound) | (df['Fare'] > upper_bound)]\n",
    "print(outliers_fare.shape)"
   ]
  },
  {
   "cell_type": "markdown",
   "id": "cdc80cf4-c52a-4e42-83c5-7ea7eb4193e8",
   "metadata": {},
   "source": [
    "## Handling Inconsistent Data <a class=\"anchor\" id=\"fifth-bullet\"></a>"
   ]
  },
  {
   "cell_type": "code",
   "execution_count": 21,
   "id": "3939c56b-555f-4767-b44a-9f0b16f651c6",
   "metadata": {},
   "outputs": [
    {
     "name": "stdout",
     "output_type": "stream",
     "text": [
      "Embarked\n",
      "S    644\n",
      "C    168\n",
      "Q     77\n",
      "Name: count, dtype: int64\n",
      "Sex\n",
      "male      577\n",
      "female    314\n",
      "Name: count, dtype: int64\n"
     ]
    }
   ],
   "source": [
    "# Check for inconsistent values in categorical columns\n",
    "print(df['Embarked'].value_counts())\n",
    "print(df['Sex'].value_counts())"
   ]
  },
  {
   "cell_type": "code",
   "execution_count": 23,
   "id": "8721cdc3-433b-4367-98f2-7129fa282be3",
   "metadata": {},
   "outputs": [],
   "source": [
    "df['Sex'] = df['Sex'].str.lower()\n",
    "df['Embarked'] = df['Embarked'].str.upper()  # You can choose upper/lower as needed"
   ]
  },
  {
   "cell_type": "code",
   "execution_count": 25,
   "id": "016ca375-0124-41d7-8dbc-e8fdb93238d2",
   "metadata": {},
   "outputs": [],
   "source": [
    "df['Embarked'] = df['Embarked'].replace({\n",
    "    'C ': 'C',  # Fix any extra spaces\n",
    "    'SOUTHAMPTON': 'S'  # Fix names with full spelling\n",
    "})"
   ]
  },
  {
   "cell_type": "code",
   "execution_count": 27,
   "id": "ca88e7a5-3d97-4981-be56-b5602675d2c0",
   "metadata": {},
   "outputs": [],
   "source": [
    "df['Name'] = df['Name'].str.strip()\n",
    "df['Cabin'] = df['Cabin'].str.strip() # removing leading and trailing whitespace"
   ]
  },
  {
   "cell_type": "markdown",
   "id": "be1aee57-7675-4e59-b61d-ef964862fd64",
   "metadata": {},
   "source": [
    "## Feature Scaling and Normalization <a class=\"anchor\" id=\"sixth-bullet\"></a>\n",
    "\n",
    "#### Feature Scaling (Standardization)\n",
    "Purpose: Ensures that all features contribute equally to distance-based algorithms. It centers the data around 0 and standardizes the range to have a mean of 0 and a standard deviation of 1 and ensures that continuous data appears normally distributed.\n",
    "- Use when your data features have different units or magnitudes.\n",
    "If you're using algorithms like SVM, logistic regression, or k-nearest neighbors (k-NN), which can be sensitive to the scale of the input data.\n",
    "For features where the distribution of the data is approximately normal (Gaussian distribution)."
   ]
  },
  {
   "attachments": {
    "93350a31-9dcd-4fe5-b250-99a08bc0da5b.png": {
     "image/png": "[encoded data removed]"
    }
   },
   "cell_type": "markdown",
   "id": "80f5586f-9755-4975-a57a-829627bd00b2",
   "metadata": {},
   "source": [
    "#### Standardization (Z-score normalization)\n",
    "\n",
    "![image.png](attachment:93350a31-9dcd-4fe5-b250-99a08bc0da5b.png)\n",
    "​\n",
    "- When to Use:\n",
    "\n",
    "1. When the data has a Gaussian (normal) distribution or when you want all features to contribute equally, regardless of original scale. Works well for algorithms like SVM and linear regression, which assume normally distributed data.\n",
    "\n",
    "- Why: Maintains feature relationships and makes data more interpretable for algorithms sensitive to the magnitude of differences.\n"
   ]
  },
  {
   "cell_type": "code",
   "execution_count": 98,
   "id": "3fec3456-d15b-48d5-96a0-21d48079359e",
   "metadata": {},
   "outputs": [
    {
     "name": "stdout",
     "output_type": "stream",
     "text": [
      "        Age      Fare\n",
      "0 -0.482211 -0.781444\n",
      "2 -0.203617 -0.730968\n",
      "3  0.423220  2.647181\n",
      "4  0.423220 -0.721621\n",
      "5       NaN -0.691089\n"
     ]
    }
   ],
   "source": [
    "from sklearn.preprocessing import StandardScaler\n",
    "features = ['Age', 'Fare']\n",
    "scaler = StandardScaler()\n",
    "# Fit and transform the selected features\n",
    "df.loc[:, features] = scaler.fit_transform(df[features]) # Applied to continous features\n",
    "print(df[features_to_scale].head())"
   ]
  },
  {
   "attachments": {
    "7e86c68a-8847-4630-ab89-85dbeb86ffb8.png": {
     "image/png": "[encoded data removed]"
    }
   },
   "cell_type": "markdown",
   "id": "799fbcc8-19f1-460c-99e1-7435d2305f9c",
   "metadata": {},
   "source": [
    "#### Normalization (Min-Max Scaling)\n",
    "Purpose: Transforms features by scaling each feature to a given range (usually [0, 1]). This is useful when you want all the features to be on the same scale.\n",
    "\n",
    "![image.png](attachment:7e86c68a-8847-4630-ab89-85dbeb86ffb8.png)\n",
    "\n",
    "- Use if you're using algorithms that require a bounded input (e.g., neural networks).\n",
    "  \n",
    "When you don’t assume a normal distribution of data, and you want to preserve the distribution of the data (since min-max scaling maintains relative distances between data points).\n",
    "\n",
    "When features have different ranges and need to be scaled equally without affecting outliers too much.\n"
   ]
  },
  {
   "cell_type": "code",
   "execution_count": 101,
   "id": "fcf7412b-6ad4-4842-9042-11cf3d6591ae",
   "metadata": {},
   "outputs": [
    {
     "name": "stdout",
     "output_type": "stream",
     "text": [
      "        Age      Fare\n",
      "0  0.271174  0.077540\n",
      "1  0.472229  0.762388\n",
      "2  0.321438  0.084759\n",
      "3  0.434531  0.567914\n",
      "4  0.434531  0.086096\n"
     ]
    }
   ],
   "source": [
    "from sklearn.preprocessing import MinMaxScaler\n",
    "\n",
    "# Initialize the MinMaxScaler\n",
    "scaler = MinMaxScaler()\n",
    "df.loc[:, features] = scaler.fit_transform(df[features])\n",
    "print(df[features_to_scale].head())"
   ]
  },
  {
   "attachments": {
    "9c17f600-39dc-444d-8396-5b8424e65b84.png": {
     "image/png": "[encoded data removed]"
    }
   },
   "cell_type": "markdown",
   "id": "0792f78b-c7a7-4bc7-ae14-6d2ffc15656d",
   "metadata": {},
   "source": [
    "#### MaxAbs Scaling\n",
    "This scales the data to the range [-1, 1], maintaining the sign of the data values.\n",
    "\n",
    "![image.png](attachment:9c17f600-39dc-444d-8396-5b8424e65b84.png)\n",
    "\n",
    "- When to Use:\n",
    "\n",
    "1. When data has both positive and negative values and you want to preserve this feature.\n",
    "2. Works well when the data is sparse (lots of zeros) and you don’t want to center it around 0.\n",
    "- Use Case: Often used for sparse data because it maintains sparse data structure, important in algorithms where sparsity should be preserved, like text classification."
   ]
  },
  {
   "cell_type": "code",
   "execution_count": 97,
   "id": "53fe8755-0f3c-4832-b05e-1d862aede972",
   "metadata": {},
   "outputs": [
    {
     "name": "stdout",
     "output_type": "stream",
     "text": [
      "        Age      Fare\n",
      "0  0.271174  0.077540\n",
      "1  0.472229  0.762388\n",
      "2  0.321438  0.084759\n",
      "3  0.434531  0.567914\n",
      "4  0.434531  0.086096\n"
     ]
    }
   ],
   "source": [
    "from sklearn.preprocessing import MaxAbsScaler\n",
    "features = ['Age', 'Fare']\n",
    "scaler = MaxAbsScaler()\n",
    "df.loc[:, features] = scaler.fit_transform(df[features])\n",
    "print(df[features].head())"
   ]
  },
  {
   "attachments": {
    "a866e6eb-7644-41e9-97d2-30552a12f8de.png": {
     "image/png": "[encoded data removed]"
    }
   },
   "cell_type": "markdown",
   "id": "210fd687-74ff-49d6-aa21-bf5a5f648c1f",
   "metadata": {},
   "source": [
    "#### Robust Scaler\n",
    "​\n",
    "where IQR is the interquartile range (Q3 - Q1).\n",
    "\n",
    "![image.png](attachment:a866e6eb-7644-41e9-97d2-30552a12f8de.png)\n",
    "\n",
    "- When to Use:\n",
    "\n",
    "1. When your data has many outliers.\n",
    "2. Rather than using the mean and standard deviation (which can be influenced by outliers), it uses the median and IQR.\n",
    "3. Suitable for algorithms that may not handle outliers well, like linear models or k-Means clustering.\n",
    "\n",
    "- Use Case: Data that contains outliers, such as income or housing prices, where you want to scale but avoid the impact of extreme values.\n",
    "\n"
   ]
  },
  {
   "cell_type": "code",
   "execution_count": 103,
   "id": "92539ed0-a9d1-4d5d-addc-8645d4d0063d",
   "metadata": {},
   "outputs": [
    {
     "name": "stdout",
     "output_type": "stream",
     "text": [
      "        Age      Fare\n",
      "0 -0.117647 -0.290038\n",
      "1  0.823529  2.939889\n",
      "2  0.117647 -0.255990\n",
      "3  0.647059  2.022699\n",
      "4  0.647059 -0.249685\n"
     ]
    }
   ],
   "source": [
    "from sklearn.preprocessing import RobustScaler\n",
    "\n",
    "# Initialize RobustScaler\n",
    "scaler = RobustScaler()\n",
    "df.loc[:, features] = scaler.fit_transform(df[features])\n",
    "print(df[features].head())"
   ]
  },
  {
   "cell_type": "markdown",
   "id": "9d99ac74-0ecb-4883-a732-3433023de9c8",
   "metadata": {},
   "source": [
    "#### Unit Vector (Normalization)\n",
    "​\n",
    "  This scales each feature vector to have a length (or norm) of 1.\n",
    "\n",
    "- When to Use:\n",
    "\n",
    "1. When you need to scale a feature vector to a specific length, such as for some optimization problems.\n",
    "2. Used in text classification or other cases where the direction of the data is more important than the magnitude (e.g., cosine similarity).\n",
    "- Use Case: Common in text mining or when using cosine similarity in clustering or classification tasks.\n",
    "\n"
   ]
  },
  {
   "cell_type": "code",
   "execution_count": 106,
   "id": "03c9320e-e16f-4529-a4a8-67ed3078c809",
   "metadata": {},
   "outputs": [
    {
     "name": "stdout",
     "output_type": "stream",
     "text": [
      "        Age      Fare\n",
      "0 -0.375881 -0.926668\n",
      "1  0.269739  0.962933\n",
      "2  0.417588 -0.908636\n",
      "3  0.304688  0.952452\n",
      "4  0.932951 -0.360004\n"
     ]
    }
   ],
   "source": [
    "from sklearn.preprocessing import Normalizer\n",
    "\n",
    "# Initialize Normalizer\n",
    "scaler = Normalizer()\n",
    "df.loc[:, features] = scaler.fit_transform(df[features])\n",
    "print(df[features].head())"
   ]
  },
  {
   "attachments": {
    "4d213272-8f38-4b60-ae01-2b45c553bd98.png": {
     "image/png": "[encoded data removed]"
    }
   },
   "cell_type": "markdown",
   "id": "56eeb06e-802a-4010-b97d-62c0552d2d4e",
   "metadata": {},
   "source": [
    "#### Log Transformation\n",
    "\n",
    "![image.png](attachment:4d213272-8f38-4b60-ae01-2b45c553bd98.png)\n",
    "\n",
    "- When to Use:\n",
    "\n",
    "1. When your data has an exponential distribution (e.g., certain financial data).\n",
    "2. It can be used to compress large values and expand small values, making the distribution more normal-like.\n",
    "- Use Case: Especially useful for right-skewed data, such as income or population data and features with high variance "
   ]
  },
  {
   "cell_type": "code",
   "execution_count": 57,
   "id": "8fb0fc90-a2a1-405b-b253-079957a012f2",
   "metadata": {},
   "outputs": [
    {
     "name": "stdout",
     "output_type": "stream",
     "text": [
      "        Age      Fare\n",
      "0  3.135494  2.110213\n",
      "1  3.663562  4.280593\n",
      "2  3.295837  2.188856\n",
      "3  3.583519  3.990834\n",
      "4  3.583519  2.202765\n"
     ]
    }
   ],
   "source": [
    "import numpy as np\n",
    "features = ['Age', 'Fare']\n",
    "# Apply log transformation (adding 1 to avoid log(0))\n",
    "df[features] = np.log1p(df[features])\n",
    "print(df[features].head())"
   ]
  },
  {
   "attachments": {
    "0ef43a58-3fc2-4a4f-ba86-833ca742405f.png": {
     "image/png": "[encoded data removed]"
    },
    "a4a09905-0866-44a5-b118-dfedb1423e24.png": {
     "image/png": "[encoded data removed]"
    }
   },
   "cell_type": "markdown",
   "id": "f5691e8c-c96b-4fd8-a69c-094e55284989",
   "metadata": {},
   "source": [
    "#### L1 and L2 Normalization\n",
    "L1 Normalization (Least Absolute Deviations) scales data by dividing each value by the sum of absolute values in the dataset. It is sensitive to outliers because it considers absolute values.\n",
    "\n",
    "![image.png](attachment:a4a09905-0866-44a5-b118-dfedb1423e24.png)\n",
    "\n",
    "L2 Normalization (Least Squares) scales data by dividing each value by the Euclidean norm (square root of the sum of squared values). It reduces the influence of outliers because squaring small values makes them even smaller.\n",
    "\n",
    "![image.png](attachment:0ef43a58-3fc2-4a4f-ba86-833ca742405f.png)\n",
    "\n",
    "- When to use L1 and L2 Normalization:\n",
    " \n",
    "L1 Normalization is ideal when you have sparse data or want a model robust to individual large feature values, such as in natural language processing or text data with high-dimensional, sparse vectors.\n",
    "\n",
    "L2 Normalization is generally preferable when you have data with a roughly uniform distribution without extreme outliers, as squaring values penalizes larger differences."
   ]
  },
  {
   "cell_type": "code",
   "execution_count": 20,
   "id": "67b09673-0393-4bc9-a183-14456af2e330",
   "metadata": {},
   "outputs": [
    {
     "data": {
      "text/html": [
       "<div>\n",
       "<style scoped>\n",
       "    .dataframe tbody tr th:only-of-type {\n",
       "        vertical-align: middle;\n",
       "    }\n",
       "\n",
       "    .dataframe tbody tr th {\n",
       "        vertical-align: top;\n",
       "    }\n",
       "\n",
       "    .dataframe thead th {\n",
       "        text-align: right;\n",
       "    }\n",
       "</style>\n",
       "<table border=\"1\" class=\"dataframe\">\n",
       "  <thead>\n",
       "    <tr style=\"text-align: right;\">\n",
       "      <th></th>\n",
       "      <th>PassengerId</th>\n",
       "      <th>Survived</th>\n",
       "      <th>Pclass</th>\n",
       "      <th>Name</th>\n",
       "      <th>Sex</th>\n",
       "      <th>Age</th>\n",
       "      <th>SibSp</th>\n",
       "      <th>Parch</th>\n",
       "      <th>Ticket</th>\n",
       "      <th>Fare</th>\n",
       "      <th>Cabin</th>\n",
       "      <th>Embarked</th>\n",
       "    </tr>\n",
       "  </thead>\n",
       "  <tbody>\n",
       "    <tr>\n",
       "      <th>0</th>\n",
       "      <td>1</td>\n",
       "      <td>0</td>\n",
       "      <td>3</td>\n",
       "      <td>Braund, Mr. Owen Harris</td>\n",
       "      <td>male</td>\n",
       "      <td>0.022105</td>\n",
       "      <td>1</td>\n",
       "      <td>0</td>\n",
       "      <td>A/5 21171</td>\n",
       "      <td>0.004103</td>\n",
       "      <td>NaN</td>\n",
       "      <td>S</td>\n",
       "    </tr>\n",
       "    <tr>\n",
       "      <th>1</th>\n",
       "      <td>2</td>\n",
       "      <td>1</td>\n",
       "      <td>1</td>\n",
       "      <td>Cumings, Mrs. John Bradley (Florence Briggs Th...</td>\n",
       "      <td>female</td>\n",
       "      <td>0.038182</td>\n",
       "      <td>1</td>\n",
       "      <td>0</td>\n",
       "      <td>PC 17599</td>\n",
       "      <td>0.040344</td>\n",
       "      <td>C85</td>\n",
       "      <td>C</td>\n",
       "    </tr>\n",
       "    <tr>\n",
       "      <th>2</th>\n",
       "      <td>3</td>\n",
       "      <td>1</td>\n",
       "      <td>3</td>\n",
       "      <td>Heikkinen, Miss. Laina</td>\n",
       "      <td>female</td>\n",
       "      <td>0.026124</td>\n",
       "      <td>0</td>\n",
       "      <td>0</td>\n",
       "      <td>STON/O2. 3101282</td>\n",
       "      <td>0.004485</td>\n",
       "      <td>NaN</td>\n",
       "      <td>S</td>\n",
       "    </tr>\n",
       "    <tr>\n",
       "      <th>3</th>\n",
       "      <td>4</td>\n",
       "      <td>1</td>\n",
       "      <td>1</td>\n",
       "      <td>Futrelle, Mrs. Jacques Heath (Lily May Peel)</td>\n",
       "      <td>female</td>\n",
       "      <td>0.035168</td>\n",
       "      <td>1</td>\n",
       "      <td>0</td>\n",
       "      <td>113803</td>\n",
       "      <td>0.030053</td>\n",
       "      <td>C123</td>\n",
       "      <td>S</td>\n",
       "    </tr>\n",
       "    <tr>\n",
       "      <th>4</th>\n",
       "      <td>5</td>\n",
       "      <td>0</td>\n",
       "      <td>3</td>\n",
       "      <td>Allen, Mr. William Henry</td>\n",
       "      <td>male</td>\n",
       "      <td>0.035168</td>\n",
       "      <td>0</td>\n",
       "      <td>0</td>\n",
       "      <td>373450</td>\n",
       "      <td>0.004556</td>\n",
       "      <td>NaN</td>\n",
       "      <td>S</td>\n",
       "    </tr>\n",
       "    <tr>\n",
       "      <th>...</th>\n",
       "      <td>...</td>\n",
       "      <td>...</td>\n",
       "      <td>...</td>\n",
       "      <td>...</td>\n",
       "      <td>...</td>\n",
       "      <td>...</td>\n",
       "      <td>...</td>\n",
       "      <td>...</td>\n",
       "      <td>...</td>\n",
       "      <td>...</td>\n",
       "      <td>...</td>\n",
       "      <td>...</td>\n",
       "    </tr>\n",
       "    <tr>\n",
       "      <th>886</th>\n",
       "      <td>887</td>\n",
       "      <td>0</td>\n",
       "      <td>2</td>\n",
       "      <td>Montvila, Rev. Juozas</td>\n",
       "      <td>male</td>\n",
       "      <td>0.027129</td>\n",
       "      <td>0</td>\n",
       "      <td>0</td>\n",
       "      <td>211536</td>\n",
       "      <td>0.007358</td>\n",
       "      <td>NaN</td>\n",
       "      <td>S</td>\n",
       "    </tr>\n",
       "    <tr>\n",
       "      <th>887</th>\n",
       "      <td>888</td>\n",
       "      <td>1</td>\n",
       "      <td>1</td>\n",
       "      <td>Graham, Miss. Margaret Edith</td>\n",
       "      <td>female</td>\n",
       "      <td>0.019091</td>\n",
       "      <td>0</td>\n",
       "      <td>0</td>\n",
       "      <td>112053</td>\n",
       "      <td>0.016979</td>\n",
       "      <td>B42</td>\n",
       "      <td>S</td>\n",
       "    </tr>\n",
       "    <tr>\n",
       "      <th>888</th>\n",
       "      <td>889</td>\n",
       "      <td>0</td>\n",
       "      <td>3</td>\n",
       "      <td>Johnston, Miss. Catherine Helen \"Carrie\"</td>\n",
       "      <td>female</td>\n",
       "      <td>0.030144</td>\n",
       "      <td>1</td>\n",
       "      <td>2</td>\n",
       "      <td>W./C. 6607</td>\n",
       "      <td>0.013272</td>\n",
       "      <td>NaN</td>\n",
       "      <td>S</td>\n",
       "    </tr>\n",
       "    <tr>\n",
       "      <th>889</th>\n",
       "      <td>890</td>\n",
       "      <td>1</td>\n",
       "      <td>1</td>\n",
       "      <td>Behr, Mr. Karl Howell</td>\n",
       "      <td>male</td>\n",
       "      <td>0.026124</td>\n",
       "      <td>0</td>\n",
       "      <td>0</td>\n",
       "      <td>111369</td>\n",
       "      <td>0.016979</td>\n",
       "      <td>C148</td>\n",
       "      <td>C</td>\n",
       "    </tr>\n",
       "    <tr>\n",
       "      <th>890</th>\n",
       "      <td>891</td>\n",
       "      <td>0</td>\n",
       "      <td>3</td>\n",
       "      <td>Dooley, Mr. Patrick</td>\n",
       "      <td>male</td>\n",
       "      <td>0.032153</td>\n",
       "      <td>0</td>\n",
       "      <td>0</td>\n",
       "      <td>370376</td>\n",
       "      <td>0.004386</td>\n",
       "      <td>NaN</td>\n",
       "      <td>Q</td>\n",
       "    </tr>\n",
       "  </tbody>\n",
       "</table>\n",
       "<p>891 rows × 12 columns</p>\n",
       "</div>"
      ],
      "text/plain": [
       "     PassengerId  Survived  Pclass  \\\n",
       "0              1         0       3   \n",
       "1              2         1       1   \n",
       "2              3         1       3   \n",
       "3              4         1       1   \n",
       "4              5         0       3   \n",
       "..           ...       ...     ...   \n",
       "886          887         0       2   \n",
       "887          888         1       1   \n",
       "888          889         0       3   \n",
       "889          890         1       1   \n",
       "890          891         0       3   \n",
       "\n",
       "                                                  Name     Sex       Age  \\\n",
       "0                              Braund, Mr. Owen Harris    male  0.022105   \n",
       "1    Cumings, Mrs. John Bradley (Florence Briggs Th...  female  0.038182   \n",
       "2                               Heikkinen, Miss. Laina  female  0.026124   \n",
       "3         Futrelle, Mrs. Jacques Heath (Lily May Peel)  female  0.035168   \n",
       "4                             Allen, Mr. William Henry    male  0.035168   \n",
       "..                                                 ...     ...       ...   \n",
       "886                              Montvila, Rev. Juozas    male  0.027129   \n",
       "887                       Graham, Miss. Margaret Edith  female  0.019091   \n",
       "888           Johnston, Miss. Catherine Helen \"Carrie\"  female  0.030144   \n",
       "889                              Behr, Mr. Karl Howell    male  0.026124   \n",
       "890                                Dooley, Mr. Patrick    male  0.032153   \n",
       "\n",
       "     SibSp  Parch            Ticket      Fare Cabin Embarked  \n",
       "0        1      0         A/5 21171  0.004103   NaN        S  \n",
       "1        1      0          PC 17599  0.040344   C85        C  \n",
       "2        0      0  STON/O2. 3101282  0.004485   NaN        S  \n",
       "3        1      0            113803  0.030053  C123        S  \n",
       "4        0      0            373450  0.004556   NaN        S  \n",
       "..     ...    ...               ...       ...   ...      ...  \n",
       "886      0      0            211536  0.007358   NaN        S  \n",
       "887      0      0            112053  0.016979   B42        S  \n",
       "888      1      2        W./C. 6607  0.013272   NaN        S  \n",
       "889      0      0            111369  0.016979  C148        C  \n",
       "890      0      0            370376  0.004386   NaN        Q  \n",
       "\n",
       "[891 rows x 12 columns]"
      ]
     },
     "execution_count": 20,
     "metadata": {},
     "output_type": "execute_result"
    }
   ],
   "source": [
    "from sklearn.preprocessing import normalize\n",
    "import pandas as pd\n",
    "\n",
    "features = ['Fare', 'Age']\n",
    "\n",
    "# L1 Normalization\n",
    "df[features] = normalize(df[features], norm='l1', axis=0)\n",
    "\n",
    "# L2 Normalization\n",
    "df[features] = normalize(df[features], norm='l2', axis=0)\n",
    "df"
   ]
  },
  {
   "attachments": {
    "84ce8eba-9a3b-4d2b-b71d-34012b9d72a3.png": {
     "image/png": "[encoded data removed]"
    }
   },
   "cell_type": "markdown",
   "id": "67cd61f6-322a-48e7-8349-192a090e3343",
   "metadata": {},
   "source": [
    "#### Decimal Scaling\n",
    "Decimal scaling moves the decimal point of values based on the maximum absolute value in the data. For example, if the maximum value in Fare is 512.3292, we'd shift all values by 3 decimal places to standardize the scale.\n",
    "\n",
    "![image.png](attachment:84ce8eba-9a3b-4d2b-b71d-34012b9d72a3.png)\n",
    "\n",
    "- When to use Decimal Scaling:\n",
    "\n",
    "When data has a very large range but isn’t skewed. often used in datasets with natural bounds or constraints and when the interpretability of values on a normalized scale is important."
   ]
  },
  {
   "cell_type": "code",
   "execution_count": null,
   "id": "98bc0d28-de93-4972-a89a-06dfe95e2650",
   "metadata": {},
   "outputs": [],
   "source": [
    "import numpy as np\n",
    "\n",
    "# Decimal Scaling for 'Fare' and 'Age'\n",
    "def decimal_scaling(column):\n",
    "    max_abs_val = np.max(np.abs(column))\n",
    "    scaling_factor = 10 ** np.ceil(np.log10(max_abs_val))\n",
    "    return column / scaling_factor\n",
    "\n",
    "df['Fare'] = decimal_scaling(df['Fare'])\n",
    "df['Age'] = decimal_scaling(df['Age'])\n"
   ]
  },
  {
   "attachments": {
    "52112145-4dd3-4dbb-ae8a-78b0ca4b473a.png": {
     "image/png": "[encoded data removed]"
    }
   },
   "cell_type": "markdown",
   "id": "59eb540b-fa4e-48d5-81cf-dd3cdd897ebf",
   "metadata": {},
   "source": [
    "#### Power Transformation\n",
    "Power transformations (e.g., Box-Cox or Yeo-Johnson) aim to make data more Gaussian (normal) and reduce skewness. \n",
    "\n",
    "![image.png](attachment:52112145-4dd3-4dbb-ae8a-78b0ca4b473a.png)\n",
    "\n",
    "- When to use Power Transformation:\n",
    "\n",
    "Power transformations are beneficial for features with skewed distributions, like Fare or Age in the Titanic dataset, where some passengers paid significantly higher fares than others.\n",
    "\n",
    "This transformation helps linear regression, linear discriminant analysis, and other models sensitive to skewness."
   ]
  },
  {
   "cell_type": "code",
   "execution_count": 6,
   "id": "92c0d719-60d8-4e85-aec5-982bcf7cf410",
   "metadata": {},
   "outputs": [
    {
     "name": "stdout",
     "output_type": "stream",
     "text": [
      "        Age      Fare\n",
      "0 -0.487080 -0.991127\n",
      "1  0.624272  1.541572\n",
      "2 -0.187950 -0.919992\n",
      "3  0.432234  1.305559\n",
      "4  0.432234 -0.906989\n"
     ]
    }
   ],
   "source": [
    "from sklearn.preprocessing import PowerTransformer\n",
    "\n",
    "# Initialize PowerTransformer (method='yeo-johnson' works with non-positive values)\n",
    "scaler = PowerTransformer(method='yeo-johnson')\n",
    "df.loc[:, features] = scaler.fit_transform(df[features])\n",
    "print(df[features].head())"
   ]
  },
  {
   "cell_type": "markdown",
   "id": "f583b6bc-6eaa-458c-ae0f-3f2e81f01db8",
   "metadata": {},
   "source": [
    "| Technique                  | When to Use                                      | Why                                                                                  |\r\n",
    "|----------------------------|--------------------------------------------------|--------------------------------------------------------------------------------------|\r\n",
    "| **Min-Max Scaling**        | Data with a known range, neural networks         | Scales to \\[0, 1\\], efficient for models needing bounded values                      |\r\n",
    "| **Z-score Normalization**  | Gaussian-distributed data, SVM, linear models    | Centers on mean 0, variance 1, makes data comparable in standard deviation units     |\r\n",
    "| **Robust Scaling**         | Data with outliers or skewness                   | Reduces outlier impact by centering on median and scaling by IQR                     |\r\n",
    "| **Max Abs Scaling**        | Sparse data, text data, or data where zero sparsity matters | Maintains data sparsity while scaling features to unit range            |\r\n",
    "| **L1 and L2 Normalization**| Sparse data (L1), unit vector norm (L2)          | Standardizes feature magnitude, useful for distance-based models                     |\r\n",
    "| **Decimal Scaling**        | Data with natural scale, interpretable count or financial data | Maintains relative feature differences while fitting within a standard range |\r\n",
    "| **Log Transformation**     | Data with right skew, exponential growth (e.g., income) | Reduces skewness, often brings data closer to normal for linear models      |\r\n",
    "| **Power Transformation**   | Data requiring normality, Gaussian-based models  | Reduces skewness, stabilizes variance, useful for regression and parametric tests    |\r\n"
   ]
  },
  {
   "cell_type": "markdown",
   "id": "3b8ec974-4f95-4a6c-9303-4e83ba3a12a5",
   "metadata": {
    "jp-MarkdownHeadingCollapsed": true
   },
   "source": [
    "## Handling Categorical Variables <a class=\"anchor\" id=\"seventh-bullet\"></a>"
   ]
  },
  {
   "cell_type": "markdown",
   "id": "baad206d-691f-42c3-8f54-ed474bf692ed",
   "metadata": {},
   "source": [
    "#### Label Encoding\n",
    "This method assigns a unique integer (label) to each category in a feature. It's simple but can introduce unintended ordinal relationships, which may not be suitable for all algorithms.\n",
    "\n",
    "+ Simple and efficient for ordinal data (e.g., rankings like ['Low', 'Medium', 'High']).\n",
    "+ Suitable when the categorical feature has a natural order.\n",
    "\n",
    "Cons: If used on nominal data (no ordinal relationship), it may cause the model to assume that some categories are larger or more important than others. "
   ]
  },
  {
   "cell_type": "code",
   "execution_count": 137,
   "id": "644f6cef-8e9e-43b5-8888-3f3e2710b60c",
   "metadata": {},
   "outputs": [
    {
     "data": {
      "text/html": [
       "<div>\n",
       "<style scoped>\n",
       "    .dataframe tbody tr th:only-of-type {\n",
       "        vertical-align: middle;\n",
       "    }\n",
       "\n",
       "    .dataframe tbody tr th {\n",
       "        vertical-align: top;\n",
       "    }\n",
       "\n",
       "    .dataframe thead th {\n",
       "        text-align: right;\n",
       "    }\n",
       "</style>\n",
       "<table border=\"1\" class=\"dataframe\">\n",
       "  <thead>\n",
       "    <tr style=\"text-align: right;\">\n",
       "      <th></th>\n",
       "      <th>Sex</th>\n",
       "    </tr>\n",
       "  </thead>\n",
       "  <tbody>\n",
       "    <tr>\n",
       "      <th>0</th>\n",
       "      <td>1</td>\n",
       "    </tr>\n",
       "    <tr>\n",
       "      <th>1</th>\n",
       "      <td>0</td>\n",
       "    </tr>\n",
       "    <tr>\n",
       "      <th>2</th>\n",
       "      <td>0</td>\n",
       "    </tr>\n",
       "    <tr>\n",
       "      <th>3</th>\n",
       "      <td>0</td>\n",
       "    </tr>\n",
       "    <tr>\n",
       "      <th>4</th>\n",
       "      <td>1</td>\n",
       "    </tr>\n",
       "  </tbody>\n",
       "</table>\n",
       "</div>"
      ],
      "text/plain": [
       "   Sex\n",
       "0    1\n",
       "1    0\n",
       "2    0\n",
       "3    0\n",
       "4    1"
      ]
     },
     "execution_count": 137,
     "metadata": {},
     "output_type": "execute_result"
    }
   ],
   "source": [
    "from sklearn.preprocessing import LabelEncoder\n",
    "le = LabelEncoder()\n",
    "df['Sex'] = le.fit_transform(df['Sex'])\n",
    "df[['Sex']].head()"
   ]
  },
  {
   "cell_type": "code",
   "execution_count": 139,
   "id": "d03aa0eb-cad0-4de2-9572-8c42f9bc2c8b",
   "metadata": {},
   "outputs": [
    {
     "data": {
      "text/html": [
       "<div>\n",
       "<style scoped>\n",
       "    .dataframe tbody tr th:only-of-type {\n",
       "        vertical-align: middle;\n",
       "    }\n",
       "\n",
       "    .dataframe tbody tr th {\n",
       "        vertical-align: top;\n",
       "    }\n",
       "\n",
       "    .dataframe thead th {\n",
       "        text-align: right;\n",
       "    }\n",
       "</style>\n",
       "<table border=\"1\" class=\"dataframe\">\n",
       "  <thead>\n",
       "    <tr style=\"text-align: right;\">\n",
       "      <th></th>\n",
       "      <th>Embarked</th>\n",
       "    </tr>\n",
       "  </thead>\n",
       "  <tbody>\n",
       "    <tr>\n",
       "      <th>0</th>\n",
       "      <td>2</td>\n",
       "    </tr>\n",
       "    <tr>\n",
       "      <th>1</th>\n",
       "      <td>0</td>\n",
       "    </tr>\n",
       "    <tr>\n",
       "      <th>2</th>\n",
       "      <td>2</td>\n",
       "    </tr>\n",
       "    <tr>\n",
       "      <th>3</th>\n",
       "      <td>2</td>\n",
       "    </tr>\n",
       "    <tr>\n",
       "      <th>4</th>\n",
       "      <td>2</td>\n",
       "    </tr>\n",
       "  </tbody>\n",
       "</table>\n",
       "</div>"
      ],
      "text/plain": [
       "   Embarked\n",
       "0         2\n",
       "1         0\n",
       "2         2\n",
       "3         2\n",
       "4         2"
      ]
     },
     "execution_count": 139,
     "metadata": {},
     "output_type": "execute_result"
    }
   ],
   "source": [
    "le = LabelEncoder()\n",
    "df['Embarked'] = le.fit_transform(df['Embarked'])\n",
    "df[['Embarked']].head()"
   ]
  },
  {
   "cell_type": "markdown",
   "id": "5af1b01f-1b69-41e4-b4b5-111c58e23422",
   "metadata": {},
   "source": [
    "#### One-Hot Encoding\n",
    "This method creates a new binary column for each category in the feature. A value of 1 represents the presence of the category, and 0 indicates absence. It avoids introducing an ordinal relationship between categories.\n",
    "\n",
    "- Example:\n",
    "  \n",
    "For Embarked:\n",
    "Create new columns: Embarked_C, Embarked_S, Embarked_Q\n",
    "The value in each column will be either 1 or 0, representing whether the passenger embarked from that port.\n",
    "\n",
    "- One-Hot Encoding is best for nominal features where there is no order between categories, as it represents each category as a separate binary column."
   ]
  },
  {
   "cell_type": "code",
   "execution_count": 98,
   "id": "9e8c85fb-e552-47b1-b13e-371853fff561",
   "metadata": {},
   "outputs": [
    {
     "name": "stdout",
     "output_type": "stream",
     "text": [
      "   PassengerId  Survived  Pclass  \\\n",
      "0            1         0       3   \n",
      "1            2         1       1   \n",
      "2            3         1       3   \n",
      "3            4         1       1   \n",
      "4            5         0       3   \n",
      "\n",
      "                                                Name  Sex   Age  SibSp  Parch  \\\n",
      "0                            Braund, Mr. Owen Harris    1  22.0      1      0   \n",
      "1  Cumings, Mrs. John Bradley (Florence Briggs Th...    0  38.0      1      0   \n",
      "2                             Heikkinen, Miss. Laina    0  26.0      0      0   \n",
      "3       Futrelle, Mrs. Jacques Heath (Lily May Peel)    0  35.0      1      0   \n",
      "4                           Allen, Mr. William Henry    1  35.0      0      0   \n",
      "\n",
      "             Ticket     Fare Cabin  Embarked_Q  Embarked_S  \n",
      "0         A/5 21171   7.2500   NaN       False        True  \n",
      "1          PC 17599  71.2833   C85       False       False  \n",
      "2  STON/O2. 3101282   7.9250   NaN       False        True  \n",
      "3            113803  53.1000  C123       False        True  \n",
      "4            373450   8.0500   NaN       False        True  \n"
     ]
    }
   ],
   "source": [
    "# Using pandas get_dummies() for one-hot encoding\n",
    "df = pd.get_dummies(df, columns=['Embarked'], drop_first=True)\n",
    "# Check the result\n",
    "print(df.head())"
   ]
  },
  {
   "cell_type": "markdown",
   "id": "7241772c-752e-409f-b1c1-f1c7b750a8e6",
   "metadata": {},
   "source": [
    "#### Ordinal Encoding\n",
    "This method is similar to label encoding but assumes the categories have a specific order or ranking. For example, Pclass in the Titanic dataset has an inherent order: 1st class > 2nd class > 3rd class.\n",
    "- Use ordinal encoding when the categories have a natural order (e.g., ranks, satisfaction levels)."
   ]
  },
  {
   "cell_type": "code",
   "execution_count": 139,
   "id": "998c6bf1-6a72-4fde-aa54-cfdf55b6b0de",
   "metadata": {},
   "outputs": [],
   "source": [
    "# Mapping Pclass to ordinal values (already ordinal, but could use mapping)\n",
    "df['Pclass'] = df['Pclass'].map({1: 1, 2: 2, 3: 3})"
   ]
  },
  {
   "cell_type": "markdown",
   "id": "280d7661-3452-4e01-8c69-34e54870cf16",
   "metadata": {},
   "source": [
    "#### Target Encoding\n",
    "This method encodes categorical variables based on the target variable. For each category, the mean of the target variable (e.g., survival rate in a classification problem) is calculated and used to replace the category.\n",
    "- Target encoding can be useful when the dataset is small, and the categories have a strong correlation with the target.\n",
    "- However, it can lead to overfitting, so techniques like cross-validation or adding regularization are required."
   ]
  },
  {
   "cell_type": "code",
   "execution_count": 143,
   "id": "dabe106d-4461-4d74-9b53-7c34c73108e2",
   "metadata": {},
   "outputs": [
    {
     "name": "stdout",
     "output_type": "stream",
     "text": [
      "  Cabin  Cabin_encoded\n",
      "0   NaN            NaN\n",
      "1   C85            1.0\n",
      "2   NaN            NaN\n",
      "3  C123            0.5\n",
      "4   NaN            NaN\n"
     ]
    }
   ],
   "source": [
    "# Example using target encoding\n",
    "df['Cabin_encoded'] = df.groupby('Cabin')['Survived'].transform('mean')\n",
    "print(df[['Cabin', 'Cabin_encoded']].head())"
   ]
  },
  {
   "cell_type": "markdown",
   "id": "2a11e722-ec97-4e3b-bd51-f9886575c0be",
   "metadata": {
    "jp-MarkdownHeadingCollapsed": true
   },
   "source": [
    "## Handling String Data <a class=\"anchor\" id=\"eighth-bullet\"></a>"
   ]
  },
  {
   "cell_type": "markdown",
   "id": "92a503de-1bd2-41d1-9c40-3228ea6734d2",
   "metadata": {},
   "source": [
    "Handling string data in the Titanic dataset involves cleaning, transforming, and encoding textual features to make them useful for machine learning models. Several features in the Titanic dataset, like Name, Sex, and Cabin, are string-based and need to be processed. Here are some common methods for handling string data:\n",
    "#### Text Extraction from Strings\n",
    "- Some string columns contain complex information that can be useful. You can extract specific parts:\n",
    "\n",
    "Extracting titles from Name: The Name column contains titles like \"Mr.\", \"Mrs.\", etc. These titles can be extracted and used as features."
   ]
  },
  {
   "cell_type": "code",
   "execution_count": 9,
   "id": "7e52ce14-a7ce-4518-8899-ae0c7752a08b",
   "metadata": {},
   "outputs": [],
   "source": [
    "df['Title'] = df['Name'].str.extract(r' ([A-Za-z]+)\\.', expand=False)# Extract title from name"
   ]
  },
  {
   "cell_type": "code",
   "execution_count": 11,
   "id": "f0f108c3-fc4b-457d-992d-155a67171b63",
   "metadata": {},
   "outputs": [
    {
     "data": {
      "text/plain": [
       "0      Mr\n",
       "1     Mrs\n",
       "2    Miss\n",
       "3     Mrs\n",
       "4      Mr\n",
       "Name: Title, dtype: object"
      ]
     },
     "execution_count": 11,
     "metadata": {},
     "output_type": "execute_result"
    }
   ],
   "source": [
    "df['Title'].head()"
   ]
  },
  {
   "cell_type": "markdown",
   "id": "3f64eec6-d536-4801-a788-97a0cc68d0f7",
   "metadata": {},
   "source": [
    "#### Regex for String Matching\n",
    "Use regular expressions (regex) to clean or extract data from strings."
   ]
  },
  {
   "cell_type": "code",
   "execution_count": 143,
   "id": "cbcfc6da-1d1e-4128-98ae-9aa198630459",
   "metadata": {},
   "outputs": [
    {
     "data": {
      "text/plain": [
       "0    U\n",
       "1    C\n",
       "2    U\n",
       "3    C\n",
       "4    U\n",
       "5    U\n",
       "6    E\n",
       "7    U\n",
       "8    U\n",
       "9    U\n",
       "Name: Deck, dtype: object"
      ]
     },
     "execution_count": 143,
     "metadata": {},
     "output_type": "execute_result"
    }
   ],
   "source": [
    "import re\n",
    "# Clean 'Cabin' column, for example, extract the deck (first letter of the cabin)\n",
    "df['Deck'] = df['Cabin'].apply(lambda x: re.search(r'[A-Za-z]', x).group() if pd.notnull(x) else 'U')\n",
    "df['Deck'].head(10)"
   ]
  },
  {
   "cell_type": "markdown",
   "id": "c9ce24e7-7559-4e9e-b2d2-0d8923312c6b",
   "metadata": {
    "jp-MarkdownHeadingCollapsed": true
   },
   "source": [
    "## Data Binning <a class=\"anchor\" id=\"ninth-bullet\"></a>"
   ]
  },
  {
   "cell_type": "markdown",
   "id": "fb118252-c1ae-4ec0-8a7a-4578a4facef8",
   "metadata": {},
   "source": [
    "Data binning (or discretization) is a technique used to group continuous or categorical values into bins or ranges. This can simplify the analysis, make patterns more evident, and reduce the noise in a dataset. Here's how you can use data binning with examples, including both continuous variables and categorical variables.\n",
    "\n",
    "- Binning Continuous Variables\n",
    "When you have a continuous numerical feature, you can bin it into discrete intervals or ranges."
   ]
  },
  {
   "cell_type": "code",
   "execution_count": 26,
   "id": "84d8a5d5-b0b8-49ce-a1da-012dfb747a12",
   "metadata": {},
   "outputs": [
    {
     "data": {
      "text/plain": [
       "0    Young Adult\n",
       "1          Adult\n",
       "2    Young Adult\n",
       "3          Adult\n",
       "4          Adult\n",
       "5            NaN\n",
       "6          Adult\n",
       "7          Child\n",
       "8    Young Adult\n",
       "9       Teenager\n",
       "Name: Age_Bin, dtype: category\n",
       "Categories (5, object): ['Child' < 'Teenager' < 'Young Adult' < 'Adult' < 'Senior']"
      ]
     },
     "execution_count": 26,
     "metadata": {},
     "output_type": "execute_result"
    }
   ],
   "source": [
    "# The Age feature is a continuous variable. We can bin passengers into age groups.\n",
    "bins = [0, 12, 18, 35, 60, 100]  # Define bin edges\n",
    "labels = ['Child', 'Teenager', 'Young Adult', 'Adult', 'Senior']  # Define bin labels\n",
    "df['Age_Bin'] = pd.cut(df['Age'], bins=bins, labels=labels, right=False)  # Binning 'Age'\n",
    "df['Age_Bin'].head(10)"
   ]
  },
  {
   "cell_type": "code",
   "execution_count": 28,
   "id": "3c50f1c2-dbe3-4df7-96a9-f842d05ec800",
   "metadata": {},
   "outputs": [
    {
     "data": {
      "text/plain": [
       "0       Low Fare\n",
       "1    Medium Fare\n",
       "2       Low Fare\n",
       "3    Medium Fare\n",
       "4       Low Fare\n",
       "5       Low Fare\n",
       "6    Medium Fare\n",
       "7       Low Fare\n",
       "8       Low Fare\n",
       "9       Low Fare\n",
       "Name: Fare_Bin, dtype: category\n",
       "Categories (3, object): ['Low Fare' < 'Medium Fare' < 'High Fare']"
      ]
     },
     "execution_count": 28,
     "metadata": {},
     "output_type": "execute_result"
    }
   ],
   "source": [
    "# Another continuous feature is Fare, which can have a large range. We can bin it into low, medium, and high fare categories.\n",
    "bins = [0, 50, 100, 500]  # Define bin edges\n",
    "labels = ['Low Fare', 'Medium Fare', 'High Fare']  # Define bin labels\n",
    "df['Fare_Bin'] = pd.cut(df['Fare'], bins=bins, labels=labels, right=False)\n",
    "df['Fare_Bin'].head(10)"
   ]
  },
  {
   "cell_type": "markdown",
   "id": "2b72ba16-1fee-4576-8ab9-32a29bbb99fe",
   "metadata": {},
   "source": [
    "- Equal-Frequency Binning (Quantile Binning)\n",
    "This divides the data into bins such that each bin contains approximately the same number of data points. For example, splitting the Fare feature into quartiles:"
   ]
  },
  {
   "cell_type": "code",
   "execution_count": 33,
   "id": "86fa43a8-674c-455b-b237-8a93beea936c",
   "metadata": {},
   "outputs": [
    {
     "data": {
      "text/plain": [
       "0    Q1\n",
       "1    Q4\n",
       "2    Q2\n",
       "3    Q4\n",
       "4    Q2\n",
       "5    Q2\n",
       "6    Q4\n",
       "7    Q3\n",
       "8    Q2\n",
       "9    Q3\n",
       "Name: Fare_Bin_Quantile, dtype: category\n",
       "Categories (4, object): ['Q1' < 'Q2' < 'Q3' < 'Q4']"
      ]
     },
     "execution_count": 33,
     "metadata": {},
     "output_type": "execute_result"
    }
   ],
   "source": [
    "df['Fare_Bin_Quantile'] = pd.qcut(df['Fare'], q=4, labels=['Q1', 'Q2', 'Q3', 'Q4'])\n",
    "df['Fare_Bin_Quantile'].head(10)"
   ]
  },
  {
   "cell_type": "markdown",
   "id": "543034f0-59df-4035-a727-c39a4620e857",
   "metadata": {
    "jp-MarkdownHeadingCollapsed": true
   },
   "source": [
    "## Feature Engineering <a class=\"anchor\" id=\"tenth-bullet\"></a>\n",
    "Feature engineering is the process of creating new features or transforming existing ones to improve the performance of machine learning models."
   ]
  },
  {
   "cell_type": "markdown",
   "id": "0a0f1eb5-b309-43bb-a534-bdbd1bf38356",
   "metadata": {},
   "source": [
    "- Combining Features\n",
    "  \n",
    "You can create new features by combining existing ones to represent relationships between different variables."
   ]
  },
  {
   "cell_type": "code",
   "execution_count": 40,
   "id": "d15e7fee-766f-4556-9435-9cd917675834",
   "metadata": {},
   "outputs": [],
   "source": [
    "# combine SibSp (siblings/spouses aboard) and Parch (parents/children aboard) to create a FamilySize feature,\n",
    "# which indicates the total number of family members on board, including the passenger.\n",
    "df['FamilySize'] = df['SibSp'] + df['Parch'] + 1  # Add 1 to include the passenger themselves"
   ]
  },
  {
   "cell_type": "code",
   "execution_count": 42,
   "id": "57a341ee-2fdf-4413-8eed-e62b55db5483",
   "metadata": {},
   "outputs": [
    {
     "data": {
      "text/plain": [
       "0    2\n",
       "1    2\n",
       "2    1\n",
       "3    2\n",
       "4    1\n",
       "Name: FamilySize, dtype: int64"
      ]
     },
     "execution_count": 42,
     "metadata": {},
     "output_type": "execute_result"
    }
   ],
   "source": [
    "df['FamilySize'].head()"
   ]
  },
  {
   "cell_type": "markdown",
   "id": "3b2ee941-aa78-455c-8d14-771ccbc645b4",
   "metadata": {},
   "source": [
    "- Creating Boolean Features\n",
    "\n",
    "Sometimes, you can create binary (Boolean) features based on the presence or absence of certain values."
   ]
  },
  {
   "cell_type": "code",
   "execution_count": 45,
   "id": "00bb06b7-eb5d-4d2e-9227-6dfc6cbec8aa",
   "metadata": {},
   "outputs": [
    {
     "data": {
      "text/plain": [
       "881    1\n",
       "882    1\n",
       "883    1\n",
       "884    1\n",
       "885    0\n",
       "886    1\n",
       "887    1\n",
       "888    0\n",
       "889    1\n",
       "890    1\n",
       "Name: IsAlone, dtype: int32"
      ]
     },
     "execution_count": 45,
     "metadata": {},
     "output_type": "execute_result"
    }
   ],
   "source": [
    "# Example: IsAlone Feature\n",
    "# You can create a new feature to identify passengers who are traveling alone by checking if their FamilySize is 1.\n",
    "df['IsAlone'] = (df['FamilySize'] == 1).astype(int)  # 1 if alone, 0 if not\n",
    "df['IsAlone'].tail(10)"
   ]
  },
  {
   "cell_type": "markdown",
   "id": "6c9c1957-70c4-4db0-ae32-47616e0c183b",
   "metadata": {
    "jp-MarkdownHeadingCollapsed": true
   },
   "source": [
    "## Handling Data Encoding Issues <a class=\"anchor\" id=\"eleventh-bullet\"></a>"
   ]
  },
  {
   "cell_type": "markdown",
   "id": "d1707265-36ff-4fc6-8cc8-b798c62d66b5",
   "metadata": {},
   "source": [
    "#### Common Encodings:\n",
    "- UTF-8: Widely used, supports all Unicode characters.\n",
    "- ISO-8859-1 (Latin-1): Common in Western Europe, used in many older systems.\n",
    "- ASCII: Basic character set, but doesn’t support characters like é, ü, etc."
   ]
  },
  {
   "cell_type": "code",
   "execution_count": null,
   "id": "6fe77632-8460-49d3-ae39-f766756a8ba4",
   "metadata": {},
   "outputs": [],
   "source": [
    "# Load Titanic dataset using the detected or known encoding\n",
    "df = pd.read_csv('titanic.csv', encoding='ISO-8859-1')  # Or 'utf-8', 'latin1', etc.\n"
   ]
  },
  {
   "cell_type": "markdown",
   "id": "19d9ac8c-cbb1-4e31-8b4c-461a4a37c9bd",
   "metadata": {},
   "source": [
    "- Convert the Encoding\n",
    "If the dataset is already loaded but you notice encoding issues (e.g., special characters appear as \"�\"), you can convert the text columns to the correct encoding. Here’s how you can re-encode text columns:"
   ]
  },
  {
   "cell_type": "code",
   "execution_count": null,
   "id": "f624d906-a8e4-4323-af53-6ff56cdfbd45",
   "metadata": {},
   "outputs": [],
   "source": [
    "df['Name'] = df['Name'].str.encode('ISO-8859-1').str.decode('utf-8')"
   ]
  },
  {
   "cell_type": "markdown",
   "id": "59c09485-7802-47d2-b064-ae12f9fe08f0",
   "metadata": {
    "jp-MarkdownHeadingCollapsed": true
   },
   "source": [
    "## Data Aggregation and Grouping <a class=\"anchor\" id=\"twelfth-bullet\"></a>"
   ]
  },
  {
   "cell_type": "markdown",
   "id": "7dd2d483-8967-497e-8770-02ad5c699afa",
   "metadata": {},
   "source": [
    "- Key Aggregation and Grouping Functions\n",
    "1. groupby(): Group data based on one or more categorical columns.\n",
    "2. Aggregation Functions: sum(), mean(), median(), min(), max(), count(), std(), etc."
   ]
  },
  {
   "cell_type": "code",
   "execution_count": 49,
   "id": "d10e3558-cbcf-4a58-b409-487843aceaad",
   "metadata": {},
   "outputs": [
    {
     "data": {
      "text/plain": [
       "Pclass\n",
       "1    84.154687\n",
       "2    20.662183\n",
       "3    13.675550\n",
       "Name: Fare, dtype: float64"
      ]
     },
     "execution_count": 49,
     "metadata": {},
     "output_type": "execute_result"
    }
   ],
   "source": [
    "# Group by 'Pclass' and calculate the mean of 'Fare'\n",
    "df.groupby('Pclass')['Fare'].mean()"
   ]
  },
  {
   "cell_type": "code",
   "execution_count": 51,
   "id": "4349ce40-1b28-4354-bdc9-a7cfb995e0d2",
   "metadata": {},
   "outputs": [
    {
     "data": {
      "text/plain": [
       "Sex\n",
       "female    0.742038\n",
       "male      0.188908\n",
       "Name: Survived, dtype: float64"
      ]
     },
     "execution_count": 51,
     "metadata": {},
     "output_type": "execute_result"
    }
   ],
   "source": [
    "# Group by 'Sex' and calculate the survival rate (mean of 'Survived')\n",
    "df.groupby('Sex')['Survived'].mean()"
   ]
  },
  {
   "cell_type": "code",
   "execution_count": 53,
   "id": "554546bd-4333-4891-b5fb-d21d1353f469",
   "metadata": {},
   "outputs": [
    {
     "data": {
      "text/plain": [
       "Pclass  Sex   \n",
       "1       female    0.968085\n",
       "        male      0.368852\n",
       "2       female    0.921053\n",
       "        male      0.157407\n",
       "3       female    0.500000\n",
       "        male      0.135447\n",
       "Name: Survived, dtype: float64"
      ]
     },
     "execution_count": 53,
     "metadata": {},
     "output_type": "execute_result"
    }
   ],
   "source": [
    "# Group by 'Pclass' and 'Sex' and calculate the survival rate\n",
    "df.groupby(['Pclass', 'Sex'])['Survived'].mean()"
   ]
  },
  {
   "cell_type": "code",
   "execution_count": 55,
   "id": "dff593b9-2a32-40e5-a54a-4843eb4c6ea8",
   "metadata": {},
   "outputs": [
    {
     "data": {
      "text/plain": [
       "Pclass  Embarked\n",
       "1       C            85\n",
       "        Q             2\n",
       "        S           127\n",
       "2       C            17\n",
       "        Q             3\n",
       "        S           164\n",
       "3       C            66\n",
       "        Q            72\n",
       "        S           353\n",
       "dtype: int64"
      ]
     },
     "execution_count": 55,
     "metadata": {},
     "output_type": "execute_result"
    }
   ],
   "source": [
    "# Group by 'Pclass' and 'Embarked' and count the number of passengers\n",
    "df.groupby(['Pclass', 'Embarked']).size()"
   ]
  },
  {
   "cell_type": "code",
   "execution_count": 57,
   "id": "93807b74-cd8e-4f5b-9501-e4338892595e",
   "metadata": {},
   "outputs": [
    {
     "data": {
      "text/html": [
       "<div>\n",
       "<style scoped>\n",
       "    .dataframe tbody tr th:only-of-type {\n",
       "        vertical-align: middle;\n",
       "    }\n",
       "\n",
       "    .dataframe tbody tr th {\n",
       "        vertical-align: top;\n",
       "    }\n",
       "\n",
       "    .dataframe thead th {\n",
       "        text-align: right;\n",
       "    }\n",
       "</style>\n",
       "<table border=\"1\" class=\"dataframe\">\n",
       "  <thead>\n",
       "    <tr style=\"text-align: right;\">\n",
       "      <th></th>\n",
       "      <th>mean</th>\n",
       "      <th>std</th>\n",
       "    </tr>\n",
       "    <tr>\n",
       "      <th>Pclass</th>\n",
       "      <th></th>\n",
       "      <th></th>\n",
       "    </tr>\n",
       "  </thead>\n",
       "  <tbody>\n",
       "    <tr>\n",
       "      <th>1</th>\n",
       "      <td>38.233441</td>\n",
       "      <td>14.802856</td>\n",
       "    </tr>\n",
       "    <tr>\n",
       "      <th>2</th>\n",
       "      <td>29.877630</td>\n",
       "      <td>14.001077</td>\n",
       "    </tr>\n",
       "    <tr>\n",
       "      <th>3</th>\n",
       "      <td>25.140620</td>\n",
       "      <td>12.495398</td>\n",
       "    </tr>\n",
       "  </tbody>\n",
       "</table>\n",
       "</div>"
      ],
      "text/plain": [
       "             mean        std\n",
       "Pclass                      \n",
       "1       38.233441  14.802856\n",
       "2       29.877630  14.001077\n",
       "3       25.140620  12.495398"
      ]
     },
     "execution_count": 57,
     "metadata": {},
     "output_type": "execute_result"
    }
   ],
   "source": [
    "# Group by 'Pclass' and calculate both mean and std for 'Age'\n",
    "df.groupby('Pclass')['Age'].agg(['mean', 'std'])"
   ]
  },
  {
   "cell_type": "code",
   "execution_count": 59,
   "id": "8746b61e-7e84-4404-b7ab-71c9b1b370fc",
   "metadata": {},
   "outputs": [
    {
     "data": {
      "text/html": [
       "<div>\n",
       "<style scoped>\n",
       "    .dataframe tbody tr th:only-of-type {\n",
       "        vertical-align: middle;\n",
       "    }\n",
       "\n",
       "    .dataframe tbody tr th {\n",
       "        vertical-align: top;\n",
       "    }\n",
       "\n",
       "    .dataframe thead th {\n",
       "        text-align: right;\n",
       "    }\n",
       "</style>\n",
       "<table border=\"1\" class=\"dataframe\">\n",
       "  <thead>\n",
       "    <tr style=\"text-align: right;\">\n",
       "      <th></th>\n",
       "      <th>Fare</th>\n",
       "      <th>Age</th>\n",
       "    </tr>\n",
       "    <tr>\n",
       "      <th>Sex</th>\n",
       "      <th></th>\n",
       "      <th></th>\n",
       "    </tr>\n",
       "  </thead>\n",
       "  <tbody>\n",
       "    <tr>\n",
       "      <th>female</th>\n",
       "      <td>44.479818</td>\n",
       "      <td>27.915709</td>\n",
       "    </tr>\n",
       "    <tr>\n",
       "      <th>male</th>\n",
       "      <td>25.523893</td>\n",
       "      <td>30.726645</td>\n",
       "    </tr>\n",
       "  </tbody>\n",
       "</table>\n",
       "</div>"
      ],
      "text/plain": [
       "             Fare        Age\n",
       "Sex                         \n",
       "female  44.479818  27.915709\n",
       "male    25.523893  30.726645"
      ]
     },
     "execution_count": 59,
     "metadata": {},
     "output_type": "execute_result"
    }
   ],
   "source": [
    "# Group by 'Sex' and calculate mean of both 'Fare' and 'Age'\n",
    "df.groupby('Sex')[['Fare', 'Age']].mean()"
   ]
  },
  {
   "cell_type": "code",
   "execution_count": 63,
   "id": "ee81060a-77d4-465d-84b4-c9b54bcb9bed",
   "metadata": {},
   "outputs": [
    {
     "data": {
      "text/plain": [
       "Pclass\n",
       "1    (80.0, 0.92)\n",
       "2    (70.0, 0.67)\n",
       "3    (74.0, 0.42)\n",
       "Name: Age, dtype: object"
      ]
     },
     "execution_count": 63,
     "metadata": {},
     "output_type": "execute_result"
    }
   ],
   "source": [
    "# Define a custom aggregation function\n",
    "def age_range(x):\n",
    "    return x.max() , x.min()\n",
    "\n",
    "# Apply the custom aggregation function using groupby\n",
    "df.groupby('Pclass')['Age'].agg(age_range)"
   ]
  },
  {
   "cell_type": "code",
   "execution_count": 65,
   "id": "aaaa37d1-626e-4a93-868a-c9e8cc29e357",
   "metadata": {},
   "outputs": [
    {
     "data": {
      "text/html": [
       "<div>\n",
       "<style scoped>\n",
       "    .dataframe tbody tr th:only-of-type {\n",
       "        vertical-align: middle;\n",
       "    }\n",
       "\n",
       "    .dataframe tbody tr th {\n",
       "        vertical-align: top;\n",
       "    }\n",
       "\n",
       "    .dataframe thead th {\n",
       "        text-align: right;\n",
       "    }\n",
       "</style>\n",
       "<table border=\"1\" class=\"dataframe\">\n",
       "  <thead>\n",
       "    <tr style=\"text-align: right;\">\n",
       "      <th>Pclass</th>\n",
       "      <th>1</th>\n",
       "      <th>2</th>\n",
       "      <th>3</th>\n",
       "    </tr>\n",
       "    <tr>\n",
       "      <th>Sex</th>\n",
       "      <th></th>\n",
       "      <th></th>\n",
       "      <th></th>\n",
       "    </tr>\n",
       "  </thead>\n",
       "  <tbody>\n",
       "    <tr>\n",
       "      <th>female</th>\n",
       "      <td>0.968085</td>\n",
       "      <td>0.921053</td>\n",
       "      <td>0.500000</td>\n",
       "    </tr>\n",
       "    <tr>\n",
       "      <th>male</th>\n",
       "      <td>0.368852</td>\n",
       "      <td>0.157407</td>\n",
       "      <td>0.135447</td>\n",
       "    </tr>\n",
       "  </tbody>\n",
       "</table>\n",
       "</div>"
      ],
      "text/plain": [
       "Pclass         1         2         3\n",
       "Sex                                 \n",
       "female  0.968085  0.921053  0.500000\n",
       "male    0.368852  0.157407  0.135447"
      ]
     },
     "execution_count": 65,
     "metadata": {},
     "output_type": "execute_result"
    }
   ],
   "source": [
    "# Pivot table for survival rate by 'Sex' and 'Pclass'\n",
    "df.pivot_table('Survived', index='Sex', columns='Pclass', aggfunc='mean')"
   ]
  },
  {
   "cell_type": "code",
   "execution_count": 67,
   "id": "3297cbff-a791-4f07-bc68-6eab1e03385e",
   "metadata": {},
   "outputs": [
    {
     "name": "stderr",
     "output_type": "stream",
     "text": [
      "C:\\Users\\yara.maraey\\AppData\\Local\\Temp\\ipykernel_24880\\3921926635.py:7: DeprecationWarning: DataFrameGroupBy.apply operated on the grouping columns. This behavior is deprecated, and in a future version of pandas the grouping columns will be excluded from the operation. Either pass `include_groups=False` to exclude the groupings or explicitly select the grouping columns after groupby to silence this warning.\n",
      "  df = df.groupby(['Pclass', 'Sex']).apply(fill_missing_age)\n"
     ]
    }
   ],
   "source": [
    "# Define a function to fill missing 'Age' with the group's median\n",
    "def fill_missing_age(group):\n",
    "    group['Age'] = group['Age'].fillna(group['Age'].median())\n",
    "    return group\n",
    "\n",
    "# Apply the function to each group\n",
    "df = df.groupby(['Pclass', 'Sex']).apply(fill_missing_age)"
   ]
  },
  {
   "cell_type": "markdown",
   "id": "b9e4df38-df3c-4909-b896-de82899b44e8",
   "metadata": {
    "jp-MarkdownHeadingCollapsed": true
   },
   "source": [
    "## Reshaping Data <a class=\"anchor\" id=\"thirteenth-bullet\"></a>"
   ]
  },
  {
   "cell_type": "code",
   "execution_count": 80,
   "id": "7d26b395-95b6-4233-9f32-49e5143a50fc",
   "metadata": {},
   "outputs": [
    {
     "data": {
      "text/html": [
       "<div>\n",
       "<style scoped>\n",
       "    .dataframe tbody tr th:only-of-type {\n",
       "        vertical-align: middle;\n",
       "    }\n",
       "\n",
       "    .dataframe tbody tr th {\n",
       "        vertical-align: top;\n",
       "    }\n",
       "\n",
       "    .dataframe thead th {\n",
       "        text-align: right;\n",
       "    }\n",
       "</style>\n",
       "<table border=\"1\" class=\"dataframe\">\n",
       "  <thead>\n",
       "    <tr style=\"text-align: right;\">\n",
       "      <th>Pclass</th>\n",
       "      <th>1</th>\n",
       "      <th>2</th>\n",
       "      <th>3</th>\n",
       "    </tr>\n",
       "    <tr>\n",
       "      <th>Sex</th>\n",
       "      <th></th>\n",
       "      <th></th>\n",
       "      <th></th>\n",
       "    </tr>\n",
       "  </thead>\n",
       "  <tbody>\n",
       "    <tr>\n",
       "      <th>female</th>\n",
       "      <td>106.125798</td>\n",
       "      <td>21.970121</td>\n",
       "      <td>16.118810</td>\n",
       "    </tr>\n",
       "    <tr>\n",
       "      <th>male</th>\n",
       "      <td>67.226127</td>\n",
       "      <td>19.741782</td>\n",
       "      <td>12.661633</td>\n",
       "    </tr>\n",
       "  </tbody>\n",
       "</table>\n",
       "</div>"
      ],
      "text/plain": [
       "Pclass           1          2          3\n",
       "Sex                                     \n",
       "female  106.125798  21.970121  16.118810\n",
       "male     67.226127  19.741782  12.661633"
      ]
     },
     "execution_count": 80,
     "metadata": {},
     "output_type": "execute_result"
    }
   ],
   "source": [
    "# Create a pivot table and reset the index to avoid ambiguity\n",
    "pivot_table = df.pivot_table(values='Fare', index='Sex', columns='Pclass', aggfunc='mean')\n",
    "pivot_table"
   ]
  },
  {
   "cell_type": "code",
   "execution_count": 88,
   "id": "80ac002f-6d81-4a8a-a19a-28102c01dee2",
   "metadata": {},
   "outputs": [
    {
     "name": "stdout",
     "output_type": "stream",
     "text": [
      "Pclass  Sex   \n",
      "1       female    0.968085\n",
      "        male      0.368852\n",
      "2       female    0.921053\n",
      "        male      0.157407\n",
      "3       female    0.500000\n",
      "        male      0.135447\n",
      "dtype: float64\n",
      "Sex     Pclass\n",
      "female  1         0.968085\n",
      "        2         0.921053\n",
      "        3         0.500000\n",
      "male    1         0.368852\n",
      "        2         0.157407\n",
      "        3         0.135447\n",
      "dtype: float64\n"
     ]
    }
   ],
   "source": [
    "# Group data by 'Pclass' and 'Sex', then calculate survival rate\n",
    "grouped = df.groupby(['Pclass', 'Sex'])['Survived'].mean().unstack()\n",
    "\n",
    "# Stack the 'Sex' level to rows\n",
    "stacked = grouped.stack()\n",
    "\n",
    "# Unstack the 'Pclass' level to column\n",
    "unstacked = grouped.unstack()\n",
    "print(stacked)\n",
    "print(unstacked)"
   ]
  },
  {
   "cell_type": "code",
   "execution_count": 90,
   "id": "82c67663-c17c-4875-951e-8ae05d08cbef",
   "metadata": {},
   "outputs": [
    {
     "data": {
      "text/html": [
       "<div>\n",
       "<style scoped>\n",
       "    .dataframe tbody tr th:only-of-type {\n",
       "        vertical-align: middle;\n",
       "    }\n",
       "\n",
       "    .dataframe tbody tr th {\n",
       "        vertical-align: top;\n",
       "    }\n",
       "\n",
       "    .dataframe thead th {\n",
       "        text-align: right;\n",
       "    }\n",
       "</style>\n",
       "<table border=\"1\" class=\"dataframe\">\n",
       "  <thead>\n",
       "    <tr style=\"text-align: right;\">\n",
       "      <th></th>\n",
       "      <th>0</th>\n",
       "      <th>1</th>\n",
       "      <th>2</th>\n",
       "      <th>3</th>\n",
       "      <th>4</th>\n",
       "    </tr>\n",
       "  </thead>\n",
       "  <tbody>\n",
       "    <tr>\n",
       "      <th>Pclass</th>\n",
       "      <td>3</td>\n",
       "      <td>1</td>\n",
       "      <td>3</td>\n",
       "      <td>1</td>\n",
       "      <td>3</td>\n",
       "    </tr>\n",
       "    <tr>\n",
       "      <th>Sex</th>\n",
       "      <td>male</td>\n",
       "      <td>female</td>\n",
       "      <td>female</td>\n",
       "      <td>female</td>\n",
       "      <td>male</td>\n",
       "    </tr>\n",
       "    <tr>\n",
       "      <th>Age</th>\n",
       "      <td>22.0</td>\n",
       "      <td>38.0</td>\n",
       "      <td>26.0</td>\n",
       "      <td>35.0</td>\n",
       "      <td>35.0</td>\n",
       "    </tr>\n",
       "  </tbody>\n",
       "</table>\n",
       "</div>"
      ],
      "text/plain": [
       "           0       1       2       3     4\n",
       "Pclass     3       1       3       1     3\n",
       "Sex     male  female  female  female  male\n",
       "Age     22.0    38.0    26.0    35.0  35.0"
      ]
     },
     "execution_count": 90,
     "metadata": {},
     "output_type": "execute_result"
    }
   ],
   "source": [
    "# Transpose a DataFrame (swap rows and columns)\n",
    "transposed_df = df[['Pclass', 'Sex', 'Age']].head().transpose()\n",
    "transposed_df"
   ]
  },
  {
   "cell_type": "code",
   "execution_count": 92,
   "id": "2e36b573-dde8-4f90-987c-b522c55b019f",
   "metadata": {},
   "outputs": [
    {
     "data": {
      "text/plain": [
       "Sex     Pclass\n",
       "female  1         0.968085\n",
       "male    1         0.368852\n",
       "female  2         0.921053\n",
       "male    2         0.157407\n",
       "female  3         0.500000\n",
       "male    3         0.135447\n",
       "Name: Survived, dtype: float64"
      ]
     },
     "execution_count": 92,
     "metadata": {},
     "output_type": "execute_result"
    }
   ],
   "source": [
    "# Create a MultiIndex by grouping by 'Pclass' and 'Sex'\n",
    "grouped = df.groupby(['Pclass', 'Sex'])['Survived'].mean()\n",
    "\n",
    "# Swap the levels of the MultiIndex\n",
    "swapped = grouped.swaplevel()\n",
    "swapped"
   ]
  },
  {
   "cell_type": "markdown",
   "id": "1f4363cb-b26e-45fb-a106-08bbcd669703",
   "metadata": {
    "jp-MarkdownHeadingCollapsed": true
   },
   "source": [
    "## Handling Multicollinearity <a class=\"anchor\" id=\"fourteenth-bullet\"></a>"
   ]
  },
  {
   "cell_type": "code",
   "execution_count": 121,
   "id": "d01f0af5-0a75-400c-9664-592808f35cc5",
   "metadata": {},
   "outputs": [],
   "source": [
    "df = df.drop(['Name', 'Ticket'], axis=1)"
   ]
  },
  {
   "cell_type": "code",
   "execution_count": 123,
   "id": "6dc8b7a5-0488-42c7-a357-e2202ca1d383",
   "metadata": {},
   "outputs": [],
   "source": [
    "df = df.drop(['PassengerId'], axis=1)"
   ]
  },
  {
   "cell_type": "code",
   "execution_count": 147,
   "id": "acd2bcaf-0678-42b0-a03d-cf3ad6b6cdfd",
   "metadata": {},
   "outputs": [],
   "source": [
    "df = df.drop(['Cabin'], axis=1)"
   ]
  },
  {
   "cell_type": "code",
   "execution_count": 155,
   "id": "38f6a516-34b2-49cb-afd9-35970606e763",
   "metadata": {},
   "outputs": [
    {
     "data": {
      "text/plain": [
       "0    8\n",
       "1    2\n",
       "2    8\n",
       "3    2\n",
       "4    8\n",
       "Name: Deck, dtype: int32"
      ]
     },
     "execution_count": 155,
     "metadata": {},
     "output_type": "execute_result"
    }
   ],
   "source": [
    "from sklearn.preprocessing import LabelEncoder\n",
    "le = LabelEncoder()\n",
    "df['Deck'] = le.fit_transform(df['Deck'])\n",
    "df['Deck'].head()"
   ]
  },
  {
   "cell_type": "code",
   "execution_count": 157,
   "id": "738c161d-3742-4816-bf95-a221dce7056d",
   "metadata": {},
   "outputs": [
    {
     "data": {
      "text/plain": [
       "0    8\n",
       "1    2\n",
       "2    8\n",
       "3    2\n",
       "4    8\n",
       "5    8\n",
       "6    4\n",
       "7    8\n",
       "8    8\n",
       "9    8\n",
       "Name: Deck, dtype: int32"
      ]
     },
     "execution_count": 157,
     "metadata": {},
     "output_type": "execute_result"
    }
   ],
   "source": [
    "df['Deck'].head(10)"
   ]
  },
  {
   "cell_type": "code",
   "execution_count": 159,
   "id": "29845edf-cc3e-453f-85da-c2d67878548a",
   "metadata": {},
   "outputs": [
    {
     "data": {
      "text/html": [
       "<div>\n",
       "<style scoped>\n",
       "    .dataframe tbody tr th:only-of-type {\n",
       "        vertical-align: middle;\n",
       "    }\n",
       "\n",
       "    .dataframe tbody tr th {\n",
       "        vertical-align: top;\n",
       "    }\n",
       "\n",
       "    .dataframe thead th {\n",
       "        text-align: right;\n",
       "    }\n",
       "</style>\n",
       "<table border=\"1\" class=\"dataframe\">\n",
       "  <thead>\n",
       "    <tr style=\"text-align: right;\">\n",
       "      <th></th>\n",
       "      <th>Survived</th>\n",
       "      <th>Pclass</th>\n",
       "      <th>Sex</th>\n",
       "      <th>Age</th>\n",
       "      <th>SibSp</th>\n",
       "      <th>Parch</th>\n",
       "      <th>Fare</th>\n",
       "      <th>Embarked</th>\n",
       "      <th>Deck</th>\n",
       "    </tr>\n",
       "  </thead>\n",
       "  <tbody>\n",
       "    <tr>\n",
       "      <th>0</th>\n",
       "      <td>0</td>\n",
       "      <td>3</td>\n",
       "      <td>1</td>\n",
       "      <td>22.0</td>\n",
       "      <td>1</td>\n",
       "      <td>0</td>\n",
       "      <td>7.2500</td>\n",
       "      <td>2</td>\n",
       "      <td>8</td>\n",
       "    </tr>\n",
       "    <tr>\n",
       "      <th>1</th>\n",
       "      <td>1</td>\n",
       "      <td>1</td>\n",
       "      <td>0</td>\n",
       "      <td>38.0</td>\n",
       "      <td>1</td>\n",
       "      <td>0</td>\n",
       "      <td>71.2833</td>\n",
       "      <td>0</td>\n",
       "      <td>2</td>\n",
       "    </tr>\n",
       "    <tr>\n",
       "      <th>2</th>\n",
       "      <td>1</td>\n",
       "      <td>3</td>\n",
       "      <td>0</td>\n",
       "      <td>26.0</td>\n",
       "      <td>0</td>\n",
       "      <td>0</td>\n",
       "      <td>7.9250</td>\n",
       "      <td>2</td>\n",
       "      <td>8</td>\n",
       "    </tr>\n",
       "    <tr>\n",
       "      <th>3</th>\n",
       "      <td>1</td>\n",
       "      <td>1</td>\n",
       "      <td>0</td>\n",
       "      <td>35.0</td>\n",
       "      <td>1</td>\n",
       "      <td>0</td>\n",
       "      <td>53.1000</td>\n",
       "      <td>2</td>\n",
       "      <td>2</td>\n",
       "    </tr>\n",
       "    <tr>\n",
       "      <th>4</th>\n",
       "      <td>0</td>\n",
       "      <td>3</td>\n",
       "      <td>1</td>\n",
       "      <td>35.0</td>\n",
       "      <td>0</td>\n",
       "      <td>0</td>\n",
       "      <td>8.0500</td>\n",
       "      <td>2</td>\n",
       "      <td>8</td>\n",
       "    </tr>\n",
       "    <tr>\n",
       "      <th>5</th>\n",
       "      <td>0</td>\n",
       "      <td>3</td>\n",
       "      <td>1</td>\n",
       "      <td>34.0</td>\n",
       "      <td>0</td>\n",
       "      <td>0</td>\n",
       "      <td>8.4583</td>\n",
       "      <td>1</td>\n",
       "      <td>8</td>\n",
       "    </tr>\n",
       "    <tr>\n",
       "      <th>6</th>\n",
       "      <td>0</td>\n",
       "      <td>1</td>\n",
       "      <td>1</td>\n",
       "      <td>54.0</td>\n",
       "      <td>0</td>\n",
       "      <td>0</td>\n",
       "      <td>51.8625</td>\n",
       "      <td>2</td>\n",
       "      <td>4</td>\n",
       "    </tr>\n",
       "    <tr>\n",
       "      <th>7</th>\n",
       "      <td>0</td>\n",
       "      <td>3</td>\n",
       "      <td>1</td>\n",
       "      <td>2.0</td>\n",
       "      <td>3</td>\n",
       "      <td>1</td>\n",
       "      <td>21.0750</td>\n",
       "      <td>2</td>\n",
       "      <td>8</td>\n",
       "    </tr>\n",
       "    <tr>\n",
       "      <th>8</th>\n",
       "      <td>1</td>\n",
       "      <td>3</td>\n",
       "      <td>0</td>\n",
       "      <td>27.0</td>\n",
       "      <td>0</td>\n",
       "      <td>2</td>\n",
       "      <td>11.1333</td>\n",
       "      <td>2</td>\n",
       "      <td>8</td>\n",
       "    </tr>\n",
       "    <tr>\n",
       "      <th>9</th>\n",
       "      <td>1</td>\n",
       "      <td>2</td>\n",
       "      <td>0</td>\n",
       "      <td>14.0</td>\n",
       "      <td>1</td>\n",
       "      <td>0</td>\n",
       "      <td>30.0708</td>\n",
       "      <td>0</td>\n",
       "      <td>8</td>\n",
       "    </tr>\n",
       "  </tbody>\n",
       "</table>\n",
       "</div>"
      ],
      "text/plain": [
       "   Survived  Pclass  Sex   Age  SibSp  Parch     Fare  Embarked  Deck\n",
       "0         0       3    1  22.0      1      0   7.2500         2     8\n",
       "1         1       1    0  38.0      1      0  71.2833         0     2\n",
       "2         1       3    0  26.0      0      0   7.9250         2     8\n",
       "3         1       1    0  35.0      1      0  53.1000         2     2\n",
       "4         0       3    1  35.0      0      0   8.0500         2     8\n",
       "5         0       3    1  34.0      0      0   8.4583         1     8\n",
       "6         0       1    1  54.0      0      0  51.8625         2     4\n",
       "7         0       3    1   2.0      3      1  21.0750         2     8\n",
       "8         1       3    0  27.0      0      2  11.1333         2     8\n",
       "9         1       2    0  14.0      1      0  30.0708         0     8"
      ]
     },
     "execution_count": 159,
     "metadata": {},
     "output_type": "execute_result"
    }
   ],
   "source": [
    "df.head(10)"
   ]
  },
  {
   "cell_type": "code",
   "execution_count": 161,
   "id": "684d3869-ce38-4220-8198-fb00152ca130",
   "metadata": {},
   "outputs": [
    {
     "data": {
      "text/html": [
       "<div>\n",
       "<style scoped>\n",
       "    .dataframe tbody tr th:only-of-type {\n",
       "        vertical-align: middle;\n",
       "    }\n",
       "\n",
       "    .dataframe tbody tr th {\n",
       "        vertical-align: top;\n",
       "    }\n",
       "\n",
       "    .dataframe thead th {\n",
       "        text-align: right;\n",
       "    }\n",
       "</style>\n",
       "<table border=\"1\" class=\"dataframe\">\n",
       "  <thead>\n",
       "    <tr style=\"text-align: right;\">\n",
       "      <th></th>\n",
       "      <th>Survived</th>\n",
       "      <th>Pclass</th>\n",
       "      <th>Sex</th>\n",
       "      <th>Age</th>\n",
       "      <th>SibSp</th>\n",
       "      <th>Parch</th>\n",
       "      <th>Fare</th>\n",
       "      <th>Embarked</th>\n",
       "      <th>Deck</th>\n",
       "    </tr>\n",
       "  </thead>\n",
       "  <tbody>\n",
       "    <tr>\n",
       "      <th>Survived</th>\n",
       "      <td>1.000000</td>\n",
       "      <td>-0.338481</td>\n",
       "      <td>-0.543351</td>\n",
       "      <td>-0.081278</td>\n",
       "      <td>-0.035322</td>\n",
       "      <td>0.081629</td>\n",
       "      <td>0.257307</td>\n",
       "      <td>-0.167675</td>\n",
       "      <td>-0.301116</td>\n",
       "    </tr>\n",
       "    <tr>\n",
       "      <th>Pclass</th>\n",
       "      <td>-0.338481</td>\n",
       "      <td>1.000000</td>\n",
       "      <td>0.131900</td>\n",
       "      <td>-0.305847</td>\n",
       "      <td>0.083081</td>\n",
       "      <td>0.018443</td>\n",
       "      <td>-0.549500</td>\n",
       "      <td>0.162098</td>\n",
       "      <td>0.746616</td>\n",
       "    </tr>\n",
       "    <tr>\n",
       "      <th>Sex</th>\n",
       "      <td>-0.543351</td>\n",
       "      <td>0.131900</td>\n",
       "      <td>1.000000</td>\n",
       "      <td>0.090658</td>\n",
       "      <td>-0.114631</td>\n",
       "      <td>-0.245489</td>\n",
       "      <td>-0.182333</td>\n",
       "      <td>0.108262</td>\n",
       "      <td>0.123076</td>\n",
       "    </tr>\n",
       "    <tr>\n",
       "      <th>Age</th>\n",
       "      <td>-0.081278</td>\n",
       "      <td>-0.305847</td>\n",
       "      <td>0.090658</td>\n",
       "      <td>1.000000</td>\n",
       "      <td>-0.228141</td>\n",
       "      <td>-0.193896</td>\n",
       "      <td>0.077594</td>\n",
       "      <td>-0.046516</td>\n",
       "      <td>-0.229431</td>\n",
       "    </tr>\n",
       "    <tr>\n",
       "      <th>SibSp</th>\n",
       "      <td>-0.035322</td>\n",
       "      <td>0.083081</td>\n",
       "      <td>-0.114631</td>\n",
       "      <td>-0.228141</td>\n",
       "      <td>1.000000</td>\n",
       "      <td>0.414838</td>\n",
       "      <td>0.159651</td>\n",
       "      <td>0.068230</td>\n",
       "      <td>0.041540</td>\n",
       "    </tr>\n",
       "    <tr>\n",
       "      <th>Parch</th>\n",
       "      <td>0.081629</td>\n",
       "      <td>0.018443</td>\n",
       "      <td>-0.245489</td>\n",
       "      <td>-0.193896</td>\n",
       "      <td>0.414838</td>\n",
       "      <td>1.000000</td>\n",
       "      <td>0.216225</td>\n",
       "      <td>0.039798</td>\n",
       "      <td>-0.032548</td>\n",
       "    </tr>\n",
       "    <tr>\n",
       "      <th>Fare</th>\n",
       "      <td>0.257307</td>\n",
       "      <td>-0.549500</td>\n",
       "      <td>-0.182333</td>\n",
       "      <td>0.077594</td>\n",
       "      <td>0.159651</td>\n",
       "      <td>0.216225</td>\n",
       "      <td>1.000000</td>\n",
       "      <td>-0.224719</td>\n",
       "      <td>-0.523013</td>\n",
       "    </tr>\n",
       "    <tr>\n",
       "      <th>Embarked</th>\n",
       "      <td>-0.167675</td>\n",
       "      <td>0.162098</td>\n",
       "      <td>0.108262</td>\n",
       "      <td>-0.046516</td>\n",
       "      <td>0.068230</td>\n",
       "      <td>0.039798</td>\n",
       "      <td>-0.224719</td>\n",
       "      <td>1.000000</td>\n",
       "      <td>0.194255</td>\n",
       "    </tr>\n",
       "    <tr>\n",
       "      <th>Deck</th>\n",
       "      <td>-0.301116</td>\n",
       "      <td>0.746616</td>\n",
       "      <td>0.123076</td>\n",
       "      <td>-0.229431</td>\n",
       "      <td>0.041540</td>\n",
       "      <td>-0.032548</td>\n",
       "      <td>-0.523013</td>\n",
       "      <td>0.194255</td>\n",
       "      <td>1.000000</td>\n",
       "    </tr>\n",
       "  </tbody>\n",
       "</table>\n",
       "</div>"
      ],
      "text/plain": [
       "          Survived    Pclass       Sex       Age     SibSp     Parch  \\\n",
       "Survived  1.000000 -0.338481 -0.543351 -0.081278 -0.035322  0.081629   \n",
       "Pclass   -0.338481  1.000000  0.131900 -0.305847  0.083081  0.018443   \n",
       "Sex      -0.543351  0.131900  1.000000  0.090658 -0.114631 -0.245489   \n",
       "Age      -0.081278 -0.305847  0.090658  1.000000 -0.228141 -0.193896   \n",
       "SibSp    -0.035322  0.083081 -0.114631 -0.228141  1.000000  0.414838   \n",
       "Parch     0.081629  0.018443 -0.245489 -0.193896  0.414838  1.000000   \n",
       "Fare      0.257307 -0.549500 -0.182333  0.077594  0.159651  0.216225   \n",
       "Embarked -0.167675  0.162098  0.108262 -0.046516  0.068230  0.039798   \n",
       "Deck     -0.301116  0.746616  0.123076 -0.229431  0.041540 -0.032548   \n",
       "\n",
       "              Fare  Embarked      Deck  \n",
       "Survived  0.257307 -0.167675 -0.301116  \n",
       "Pclass   -0.549500  0.162098  0.746616  \n",
       "Sex      -0.182333  0.108262  0.123076  \n",
       "Age       0.077594 -0.046516 -0.229431  \n",
       "SibSp     0.159651  0.068230  0.041540  \n",
       "Parch     0.216225  0.039798 -0.032548  \n",
       "Fare      1.000000 -0.224719 -0.523013  \n",
       "Embarked -0.224719  1.000000  0.194255  \n",
       "Deck     -0.523013  0.194255  1.000000  "
      ]
     },
     "execution_count": 161,
     "metadata": {},
     "output_type": "execute_result"
    }
   ],
   "source": [
    "# Calculate the correlation matrix\n",
    "correlation_matrix = df.corr()\n",
    "correlation_matrix"
   ]
  },
  {
   "cell_type": "code",
   "execution_count": null,
   "id": "b78e6fe3-6b5c-4b96-b5a8-4a08d9449a13",
   "metadata": {},
   "outputs": [],
   "source": []
  },
  {
   "cell_type": "code",
   "execution_count": null,
   "id": "de0df2e8-18a4-462b-9420-91c5cfe135b8",
   "metadata": {},
   "outputs": [],
   "source": []
  },
  {
   "cell_type": "markdown",
   "id": "40f882c6-e719-4395-9961-fa597ad5f06f",
   "metadata": {
    "jp-MarkdownHeadingCollapsed": true
   },
   "source": [
    "## Handling Date and Time Data <a class=\"anchor\" id=\"fifteenth-bullet\"></a>"
   ]
  },
  {
   "cell_type": "code",
   "execution_count": 3,
   "id": "e4a9a088-a177-40af-b65b-67094c94717b",
   "metadata": {},
   "outputs": [],
   "source": [
    "import pandas as pd"
   ]
  },
  {
   "cell_type": "code",
   "execution_count": 13,
   "id": "b7472251-ea46-4343-a54a-dcbc95de25a6",
   "metadata": {},
   "outputs": [],
   "source": [
    "date=pd.read_csv(\"orders.csv\")\n",
    "time=pd.read_csv(\"messages.csv\")"
   ]
  },
  {
   "cell_type": "code",
   "execution_count": 15,
   "id": "f66a3fef-cb56-427c-8273-ffa021d11f10",
   "metadata": {},
   "outputs": [
    {
     "data": {
      "text/html": [
       "<div>\n",
       "<style scoped>\n",
       "    .dataframe tbody tr th:only-of-type {\n",
       "        vertical-align: middle;\n",
       "    }\n",
       "\n",
       "    .dataframe tbody tr th {\n",
       "        vertical-align: top;\n",
       "    }\n",
       "\n",
       "    .dataframe thead th {\n",
       "        text-align: right;\n",
       "    }\n",
       "</style>\n",
       "<table border=\"1\" class=\"dataframe\">\n",
       "  <thead>\n",
       "    <tr style=\"text-align: right;\">\n",
       "      <th></th>\n",
       "      <th>date</th>\n",
       "      <th>product_id</th>\n",
       "      <th>city_id</th>\n",
       "      <th>orders</th>\n",
       "    </tr>\n",
       "  </thead>\n",
       "  <tbody>\n",
       "    <tr>\n",
       "      <th>0</th>\n",
       "      <td>2019-12-10</td>\n",
       "      <td>5628</td>\n",
       "      <td>25</td>\n",
       "      <td>3</td>\n",
       "    </tr>\n",
       "    <tr>\n",
       "      <th>1</th>\n",
       "      <td>2018-08-15</td>\n",
       "      <td>3646</td>\n",
       "      <td>14</td>\n",
       "      <td>157</td>\n",
       "    </tr>\n",
       "    <tr>\n",
       "      <th>2</th>\n",
       "      <td>2018-10-23</td>\n",
       "      <td>1859</td>\n",
       "      <td>25</td>\n",
       "      <td>1</td>\n",
       "    </tr>\n",
       "    <tr>\n",
       "      <th>3</th>\n",
       "      <td>2019-08-17</td>\n",
       "      <td>7292</td>\n",
       "      <td>25</td>\n",
       "      <td>1</td>\n",
       "    </tr>\n",
       "    <tr>\n",
       "      <th>4</th>\n",
       "      <td>2019-01-06</td>\n",
       "      <td>4344</td>\n",
       "      <td>25</td>\n",
       "      <td>3</td>\n",
       "    </tr>\n",
       "  </tbody>\n",
       "</table>\n",
       "</div>"
      ],
      "text/plain": [
       "         date  product_id  city_id  orders\n",
       "0  2019-12-10        5628       25       3\n",
       "1  2018-08-15        3646       14     157\n",
       "2  2018-10-23        1859       25       1\n",
       "3  2019-08-17        7292       25       1\n",
       "4  2019-01-06        4344       25       3"
      ]
     },
     "execution_count": 15,
     "metadata": {},
     "output_type": "execute_result"
    }
   ],
   "source": [
    "date.head()"
   ]
  },
  {
   "cell_type": "code",
   "execution_count": 17,
   "id": "58fd933c-5907-478e-97d7-cab84745c9de",
   "metadata": {},
   "outputs": [
    {
     "data": {
      "text/html": [
       "<div>\n",
       "<style scoped>\n",
       "    .dataframe tbody tr th:only-of-type {\n",
       "        vertical-align: middle;\n",
       "    }\n",
       "\n",
       "    .dataframe tbody tr th {\n",
       "        vertical-align: top;\n",
       "    }\n",
       "\n",
       "    .dataframe thead th {\n",
       "        text-align: right;\n",
       "    }\n",
       "</style>\n",
       "<table border=\"1\" class=\"dataframe\">\n",
       "  <thead>\n",
       "    <tr style=\"text-align: right;\">\n",
       "      <th></th>\n",
       "      <th>date</th>\n",
       "      <th>msg</th>\n",
       "    </tr>\n",
       "  </thead>\n",
       "  <tbody>\n",
       "    <tr>\n",
       "      <th>0</th>\n",
       "      <td>2013-12-15 00:50:00</td>\n",
       "      <td>ищу на сегодня мужика 37</td>\n",
       "    </tr>\n",
       "    <tr>\n",
       "      <th>1</th>\n",
       "      <td>2014-04-29 23:40:00</td>\n",
       "      <td>ПАРЕНЬ БИ ИЩЕТ ДРУГА СЕЙЧАС!! СМС ММС 0955532826</td>\n",
       "    </tr>\n",
       "    <tr>\n",
       "      <th>2</th>\n",
       "      <td>2012-12-30 00:21:00</td>\n",
       "      <td>Днепр.м 43 позн.с д/ж *.о  067.16.34.576</td>\n",
       "    </tr>\n",
       "    <tr>\n",
       "      <th>3</th>\n",
       "      <td>2014-11-28 00:31:00</td>\n",
       "      <td>КИЕВ ИЩУ Д/Ж ДО 45 МНЕ СЕЙЧАС СКУЧНО 093 629 9...</td>\n",
       "    </tr>\n",
       "    <tr>\n",
       "      <th>4</th>\n",
       "      <td>2013-10-26 23:11:00</td>\n",
       "      <td>Зая я тебя никогда не обижу  люблю тебя!)  Даше</td>\n",
       "    </tr>\n",
       "  </tbody>\n",
       "</table>\n",
       "</div>"
      ],
      "text/plain": [
       "                  date                                                msg\n",
       "0  2013-12-15 00:50:00                           ищу на сегодня мужика 37\n",
       "1  2014-04-29 23:40:00   ПАРЕНЬ БИ ИЩЕТ ДРУГА СЕЙЧАС!! СМС ММС 0955532826\n",
       "2  2012-12-30 00:21:00           Днепр.м 43 позн.с д/ж *.о  067.16.34.576\n",
       "3  2014-11-28 00:31:00  КИЕВ ИЩУ Д/Ж ДО 45 МНЕ СЕЙЧАС СКУЧНО 093 629 9...\n",
       "4  2013-10-26 23:11:00    Зая я тебя никогда не обижу  люблю тебя!)  Даше"
      ]
     },
     "execution_count": 17,
     "metadata": {},
     "output_type": "execute_result"
    }
   ],
   "source": [
    "time.head()"
   ]
  },
  {
   "cell_type": "code",
   "execution_count": 19,
   "id": "4106781a-d326-46ee-839d-76a644a06cf8",
   "metadata": {},
   "outputs": [
    {
     "name": "stdout",
     "output_type": "stream",
     "text": [
      "<class 'pandas.core.frame.DataFrame'>\n",
      "RangeIndex: 1000 entries, 0 to 999\n",
      "Data columns (total 4 columns):\n",
      " #   Column      Non-Null Count  Dtype \n",
      "---  ------      --------------  ----- \n",
      " 0   date        1000 non-null   object\n",
      " 1   product_id  1000 non-null   int64 \n",
      " 2   city_id     1000 non-null   int64 \n",
      " 3   orders      1000 non-null   int64 \n",
      "dtypes: int64(3), object(1)\n",
      "memory usage: 31.4+ KB\n"
     ]
    }
   ],
   "source": [
    "date.info()"
   ]
  },
  {
   "cell_type": "code",
   "execution_count": 21,
   "id": "b4cc2c48-09e2-4cd2-8d0c-97de8c97b2c0",
   "metadata": {},
   "outputs": [],
   "source": [
    "# Converting to datetime datatype\n",
    "date['date']=pd.to_datetime(date['date'])"
   ]
  },
  {
   "cell_type": "code",
   "execution_count": 23,
   "id": "9764918b-417e-4d24-a21d-22283f93fbad",
   "metadata": {},
   "outputs": [
    {
     "name": "stdout",
     "output_type": "stream",
     "text": [
      "<class 'pandas.core.frame.DataFrame'>\n",
      "RangeIndex: 1000 entries, 0 to 999\n",
      "Data columns (total 4 columns):\n",
      " #   Column      Non-Null Count  Dtype         \n",
      "---  ------      --------------  -----         \n",
      " 0   date        1000 non-null   datetime64[ns]\n",
      " 1   product_id  1000 non-null   int64         \n",
      " 2   city_id     1000 non-null   int64         \n",
      " 3   orders      1000 non-null   int64         \n",
      "dtypes: datetime64[ns](1), int64(3)\n",
      "memory usage: 31.4 KB\n"
     ]
    }
   ],
   "source": [
    "date.info()"
   ]
  },
  {
   "cell_type": "code",
   "execution_count": 25,
   "id": "9e7903be-64d4-4c69-a002-840e12d97b63",
   "metadata": {},
   "outputs": [
    {
     "data": {
      "text/html": [
       "<div>\n",
       "<style scoped>\n",
       "    .dataframe tbody tr th:only-of-type {\n",
       "        vertical-align: middle;\n",
       "    }\n",
       "\n",
       "    .dataframe tbody tr th {\n",
       "        vertical-align: top;\n",
       "    }\n",
       "\n",
       "    .dataframe thead th {\n",
       "        text-align: right;\n",
       "    }\n",
       "</style>\n",
       "<table border=\"1\" class=\"dataframe\">\n",
       "  <thead>\n",
       "    <tr style=\"text-align: right;\">\n",
       "      <th></th>\n",
       "      <th>date</th>\n",
       "      <th>product_id</th>\n",
       "      <th>city_id</th>\n",
       "      <th>orders</th>\n",
       "      <th>year</th>\n",
       "    </tr>\n",
       "  </thead>\n",
       "  <tbody>\n",
       "    <tr>\n",
       "      <th>0</th>\n",
       "      <td>2019-12-10</td>\n",
       "      <td>5628</td>\n",
       "      <td>25</td>\n",
       "      <td>3</td>\n",
       "      <td>2019</td>\n",
       "    </tr>\n",
       "    <tr>\n",
       "      <th>1</th>\n",
       "      <td>2018-08-15</td>\n",
       "      <td>3646</td>\n",
       "      <td>14</td>\n",
       "      <td>157</td>\n",
       "      <td>2018</td>\n",
       "    </tr>\n",
       "    <tr>\n",
       "      <th>2</th>\n",
       "      <td>2018-10-23</td>\n",
       "      <td>1859</td>\n",
       "      <td>25</td>\n",
       "      <td>1</td>\n",
       "      <td>2018</td>\n",
       "    </tr>\n",
       "    <tr>\n",
       "      <th>3</th>\n",
       "      <td>2019-08-17</td>\n",
       "      <td>7292</td>\n",
       "      <td>25</td>\n",
       "      <td>1</td>\n",
       "      <td>2019</td>\n",
       "    </tr>\n",
       "    <tr>\n",
       "      <th>4</th>\n",
       "      <td>2019-01-06</td>\n",
       "      <td>4344</td>\n",
       "      <td>25</td>\n",
       "      <td>3</td>\n",
       "      <td>2019</td>\n",
       "    </tr>\n",
       "    <tr>\n",
       "      <th>...</th>\n",
       "      <td>...</td>\n",
       "      <td>...</td>\n",
       "      <td>...</td>\n",
       "      <td>...</td>\n",
       "      <td>...</td>\n",
       "    </tr>\n",
       "    <tr>\n",
       "      <th>995</th>\n",
       "      <td>2018-10-08</td>\n",
       "      <td>255</td>\n",
       "      <td>13</td>\n",
       "      <td>1</td>\n",
       "      <td>2018</td>\n",
       "    </tr>\n",
       "    <tr>\n",
       "      <th>996</th>\n",
       "      <td>2018-12-06</td>\n",
       "      <td>5521</td>\n",
       "      <td>7</td>\n",
       "      <td>1</td>\n",
       "      <td>2018</td>\n",
       "    </tr>\n",
       "    <tr>\n",
       "      <th>997</th>\n",
       "      <td>2019-05-07</td>\n",
       "      <td>487</td>\n",
       "      <td>26</td>\n",
       "      <td>14</td>\n",
       "      <td>2019</td>\n",
       "    </tr>\n",
       "    <tr>\n",
       "      <th>998</th>\n",
       "      <td>2019-03-03</td>\n",
       "      <td>1503</td>\n",
       "      <td>21</td>\n",
       "      <td>2</td>\n",
       "      <td>2019</td>\n",
       "    </tr>\n",
       "    <tr>\n",
       "      <th>999</th>\n",
       "      <td>2019-10-15</td>\n",
       "      <td>6371</td>\n",
       "      <td>7</td>\n",
       "      <td>22</td>\n",
       "      <td>2019</td>\n",
       "    </tr>\n",
       "  </tbody>\n",
       "</table>\n",
       "<p>1000 rows × 5 columns</p>\n",
       "</div>"
      ],
      "text/plain": [
       "          date  product_id  city_id  orders  year\n",
       "0   2019-12-10        5628       25       3  2019\n",
       "1   2018-08-15        3646       14     157  2018\n",
       "2   2018-10-23        1859       25       1  2018\n",
       "3   2019-08-17        7292       25       1  2019\n",
       "4   2019-01-06        4344       25       3  2019\n",
       "..         ...         ...      ...     ...   ...\n",
       "995 2018-10-08         255       13       1  2018\n",
       "996 2018-12-06        5521        7       1  2018\n",
       "997 2019-05-07         487       26      14  2019\n",
       "998 2019-03-03        1503       21       2  2019\n",
       "999 2019-10-15        6371        7      22  2019\n",
       "\n",
       "[1000 rows x 5 columns]"
      ]
     },
     "execution_count": 25,
     "metadata": {},
     "output_type": "execute_result"
    }
   ],
   "source": [
    "# extract year\n",
    "date['year']=date['date'].dt.year\n",
    "date"
   ]
  },
  {
   "cell_type": "code",
   "execution_count": 27,
   "id": "25d950a3-2771-4cf6-bd21-4f5a4427abb5",
   "metadata": {},
   "outputs": [
    {
     "data": {
      "text/html": [
       "<div>\n",
       "<style scoped>\n",
       "    .dataframe tbody tr th:only-of-type {\n",
       "        vertical-align: middle;\n",
       "    }\n",
       "\n",
       "    .dataframe tbody tr th {\n",
       "        vertical-align: top;\n",
       "    }\n",
       "\n",
       "    .dataframe thead th {\n",
       "        text-align: right;\n",
       "    }\n",
       "</style>\n",
       "<table border=\"1\" class=\"dataframe\">\n",
       "  <thead>\n",
       "    <tr style=\"text-align: right;\">\n",
       "      <th></th>\n",
       "      <th>date</th>\n",
       "      <th>product_id</th>\n",
       "      <th>city_id</th>\n",
       "      <th>orders</th>\n",
       "      <th>year</th>\n",
       "      <th>month_no</th>\n",
       "    </tr>\n",
       "  </thead>\n",
       "  <tbody>\n",
       "    <tr>\n",
       "      <th>0</th>\n",
       "      <td>2019-12-10</td>\n",
       "      <td>5628</td>\n",
       "      <td>25</td>\n",
       "      <td>3</td>\n",
       "      <td>2019</td>\n",
       "      <td>12</td>\n",
       "    </tr>\n",
       "    <tr>\n",
       "      <th>1</th>\n",
       "      <td>2018-08-15</td>\n",
       "      <td>3646</td>\n",
       "      <td>14</td>\n",
       "      <td>157</td>\n",
       "      <td>2018</td>\n",
       "      <td>8</td>\n",
       "    </tr>\n",
       "    <tr>\n",
       "      <th>2</th>\n",
       "      <td>2018-10-23</td>\n",
       "      <td>1859</td>\n",
       "      <td>25</td>\n",
       "      <td>1</td>\n",
       "      <td>2018</td>\n",
       "      <td>10</td>\n",
       "    </tr>\n",
       "    <tr>\n",
       "      <th>3</th>\n",
       "      <td>2019-08-17</td>\n",
       "      <td>7292</td>\n",
       "      <td>25</td>\n",
       "      <td>1</td>\n",
       "      <td>2019</td>\n",
       "      <td>8</td>\n",
       "    </tr>\n",
       "    <tr>\n",
       "      <th>4</th>\n",
       "      <td>2019-01-06</td>\n",
       "      <td>4344</td>\n",
       "      <td>25</td>\n",
       "      <td>3</td>\n",
       "      <td>2019</td>\n",
       "      <td>1</td>\n",
       "    </tr>\n",
       "  </tbody>\n",
       "</table>\n",
       "</div>"
      ],
      "text/plain": [
       "        date  product_id  city_id  orders  year  month_no\n",
       "0 2019-12-10        5628       25       3  2019        12\n",
       "1 2018-08-15        3646       14     157  2018         8\n",
       "2 2018-10-23        1859       25       1  2018        10\n",
       "3 2019-08-17        7292       25       1  2019         8\n",
       "4 2019-01-06        4344       25       3  2019         1"
      ]
     },
     "execution_count": 27,
     "metadata": {},
     "output_type": "execute_result"
    }
   ],
   "source": [
    "date['month_no']=date['date'].dt.month\n",
    "date.head()"
   ]
  },
  {
   "cell_type": "code",
   "execution_count": 29,
   "id": "348d745d-1700-492f-9332-08eff63151c1",
   "metadata": {},
   "outputs": [],
   "source": [
    "date['month_name']=date['date'].dt.month_name()"
   ]
  },
  {
   "cell_type": "code",
   "execution_count": 31,
   "id": "3e3ef38c-5a26-45f7-bf86-4b4aade96942",
   "metadata": {},
   "outputs": [
    {
     "data": {
      "text/html": [
       "<div>\n",
       "<style scoped>\n",
       "    .dataframe tbody tr th:only-of-type {\n",
       "        vertical-align: middle;\n",
       "    }\n",
       "\n",
       "    .dataframe tbody tr th {\n",
       "        vertical-align: top;\n",
       "    }\n",
       "\n",
       "    .dataframe thead th {\n",
       "        text-align: right;\n",
       "    }\n",
       "</style>\n",
       "<table border=\"1\" class=\"dataframe\">\n",
       "  <thead>\n",
       "    <tr style=\"text-align: right;\">\n",
       "      <th></th>\n",
       "      <th>date</th>\n",
       "      <th>product_id</th>\n",
       "      <th>city_id</th>\n",
       "      <th>orders</th>\n",
       "      <th>year</th>\n",
       "      <th>month_no</th>\n",
       "      <th>month_name</th>\n",
       "    </tr>\n",
       "  </thead>\n",
       "  <tbody>\n",
       "    <tr>\n",
       "      <th>0</th>\n",
       "      <td>2019-12-10</td>\n",
       "      <td>5628</td>\n",
       "      <td>25</td>\n",
       "      <td>3</td>\n",
       "      <td>2019</td>\n",
       "      <td>12</td>\n",
       "      <td>December</td>\n",
       "    </tr>\n",
       "    <tr>\n",
       "      <th>1</th>\n",
       "      <td>2018-08-15</td>\n",
       "      <td>3646</td>\n",
       "      <td>14</td>\n",
       "      <td>157</td>\n",
       "      <td>2018</td>\n",
       "      <td>8</td>\n",
       "      <td>August</td>\n",
       "    </tr>\n",
       "    <tr>\n",
       "      <th>2</th>\n",
       "      <td>2018-10-23</td>\n",
       "      <td>1859</td>\n",
       "      <td>25</td>\n",
       "      <td>1</td>\n",
       "      <td>2018</td>\n",
       "      <td>10</td>\n",
       "      <td>October</td>\n",
       "    </tr>\n",
       "    <tr>\n",
       "      <th>3</th>\n",
       "      <td>2019-08-17</td>\n",
       "      <td>7292</td>\n",
       "      <td>25</td>\n",
       "      <td>1</td>\n",
       "      <td>2019</td>\n",
       "      <td>8</td>\n",
       "      <td>August</td>\n",
       "    </tr>\n",
       "    <tr>\n",
       "      <th>4</th>\n",
       "      <td>2019-01-06</td>\n",
       "      <td>4344</td>\n",
       "      <td>25</td>\n",
       "      <td>3</td>\n",
       "      <td>2019</td>\n",
       "      <td>1</td>\n",
       "      <td>January</td>\n",
       "    </tr>\n",
       "  </tbody>\n",
       "</table>\n",
       "</div>"
      ],
      "text/plain": [
       "        date  product_id  city_id  orders  year  month_no month_name\n",
       "0 2019-12-10        5628       25       3  2019        12   December\n",
       "1 2018-08-15        3646       14     157  2018         8     August\n",
       "2 2018-10-23        1859       25       1  2018        10    October\n",
       "3 2019-08-17        7292       25       1  2019         8     August\n",
       "4 2019-01-06        4344       25       3  2019         1    January"
      ]
     },
     "execution_count": 31,
     "metadata": {},
     "output_type": "execute_result"
    }
   ],
   "source": [
    "date.head()"
   ]
  },
  {
   "cell_type": "code",
   "execution_count": 33,
   "id": "fdd46c31-fd34-4090-af2a-9b9c5c17ed64",
   "metadata": {},
   "outputs": [
    {
     "data": {
      "text/html": [
       "<div>\n",
       "<style scoped>\n",
       "    .dataframe tbody tr th:only-of-type {\n",
       "        vertical-align: middle;\n",
       "    }\n",
       "\n",
       "    .dataframe tbody tr th {\n",
       "        vertical-align: top;\n",
       "    }\n",
       "\n",
       "    .dataframe thead th {\n",
       "        text-align: right;\n",
       "    }\n",
       "</style>\n",
       "<table border=\"1\" class=\"dataframe\">\n",
       "  <thead>\n",
       "    <tr style=\"text-align: right;\">\n",
       "      <th></th>\n",
       "      <th>date</th>\n",
       "      <th>product_id</th>\n",
       "      <th>city_id</th>\n",
       "      <th>orders</th>\n",
       "      <th>year</th>\n",
       "      <th>month_no</th>\n",
       "      <th>month_name</th>\n",
       "      <th>day</th>\n",
       "    </tr>\n",
       "  </thead>\n",
       "  <tbody>\n",
       "    <tr>\n",
       "      <th>0</th>\n",
       "      <td>2019-12-10</td>\n",
       "      <td>5628</td>\n",
       "      <td>25</td>\n",
       "      <td>3</td>\n",
       "      <td>2019</td>\n",
       "      <td>12</td>\n",
       "      <td>December</td>\n",
       "      <td>10</td>\n",
       "    </tr>\n",
       "    <tr>\n",
       "      <th>1</th>\n",
       "      <td>2018-08-15</td>\n",
       "      <td>3646</td>\n",
       "      <td>14</td>\n",
       "      <td>157</td>\n",
       "      <td>2018</td>\n",
       "      <td>8</td>\n",
       "      <td>August</td>\n",
       "      <td>15</td>\n",
       "    </tr>\n",
       "    <tr>\n",
       "      <th>2</th>\n",
       "      <td>2018-10-23</td>\n",
       "      <td>1859</td>\n",
       "      <td>25</td>\n",
       "      <td>1</td>\n",
       "      <td>2018</td>\n",
       "      <td>10</td>\n",
       "      <td>October</td>\n",
       "      <td>23</td>\n",
       "    </tr>\n",
       "    <tr>\n",
       "      <th>3</th>\n",
       "      <td>2019-08-17</td>\n",
       "      <td>7292</td>\n",
       "      <td>25</td>\n",
       "      <td>1</td>\n",
       "      <td>2019</td>\n",
       "      <td>8</td>\n",
       "      <td>August</td>\n",
       "      <td>17</td>\n",
       "    </tr>\n",
       "    <tr>\n",
       "      <th>4</th>\n",
       "      <td>2019-01-06</td>\n",
       "      <td>4344</td>\n",
       "      <td>25</td>\n",
       "      <td>3</td>\n",
       "      <td>2019</td>\n",
       "      <td>1</td>\n",
       "      <td>January</td>\n",
       "      <td>6</td>\n",
       "    </tr>\n",
       "  </tbody>\n",
       "</table>\n",
       "</div>"
      ],
      "text/plain": [
       "        date  product_id  city_id  orders  year  month_no month_name  day\n",
       "0 2019-12-10        5628       25       3  2019        12   December   10\n",
       "1 2018-08-15        3646       14     157  2018         8     August   15\n",
       "2 2018-10-23        1859       25       1  2018        10    October   23\n",
       "3 2019-08-17        7292       25       1  2019         8     August   17\n",
       "4 2019-01-06        4344       25       3  2019         1    January    6"
      ]
     },
     "execution_count": 33,
     "metadata": {},
     "output_type": "execute_result"
    }
   ],
   "source": [
    "# extract day\n",
    "date['day']=date['date'].dt.day\n",
    "date.head()"
   ]
  },
  {
   "cell_type": "code",
   "execution_count": 35,
   "id": "9bf7a1e7-3390-4855-8f4d-e89f8f808325",
   "metadata": {},
   "outputs": [
    {
     "data": {
      "text/html": [
       "<div>\n",
       "<style scoped>\n",
       "    .dataframe tbody tr th:only-of-type {\n",
       "        vertical-align: middle;\n",
       "    }\n",
       "\n",
       "    .dataframe tbody tr th {\n",
       "        vertical-align: top;\n",
       "    }\n",
       "\n",
       "    .dataframe thead th {\n",
       "        text-align: right;\n",
       "    }\n",
       "</style>\n",
       "<table border=\"1\" class=\"dataframe\">\n",
       "  <thead>\n",
       "    <tr style=\"text-align: right;\">\n",
       "      <th></th>\n",
       "      <th>date</th>\n",
       "      <th>product_id</th>\n",
       "      <th>city_id</th>\n",
       "      <th>orders</th>\n",
       "      <th>year</th>\n",
       "      <th>month_no</th>\n",
       "      <th>month_name</th>\n",
       "      <th>day</th>\n",
       "      <th>date_dow_name</th>\n",
       "    </tr>\n",
       "  </thead>\n",
       "  <tbody>\n",
       "    <tr>\n",
       "      <th>0</th>\n",
       "      <td>2019-12-10</td>\n",
       "      <td>5628</td>\n",
       "      <td>25</td>\n",
       "      <td>3</td>\n",
       "      <td>2019</td>\n",
       "      <td>12</td>\n",
       "      <td>December</td>\n",
       "      <td>10</td>\n",
       "      <td>Tuesday</td>\n",
       "    </tr>\n",
       "    <tr>\n",
       "      <th>1</th>\n",
       "      <td>2018-08-15</td>\n",
       "      <td>3646</td>\n",
       "      <td>14</td>\n",
       "      <td>157</td>\n",
       "      <td>2018</td>\n",
       "      <td>8</td>\n",
       "      <td>August</td>\n",
       "      <td>15</td>\n",
       "      <td>Wednesday</td>\n",
       "    </tr>\n",
       "    <tr>\n",
       "      <th>2</th>\n",
       "      <td>2018-10-23</td>\n",
       "      <td>1859</td>\n",
       "      <td>25</td>\n",
       "      <td>1</td>\n",
       "      <td>2018</td>\n",
       "      <td>10</td>\n",
       "      <td>October</td>\n",
       "      <td>23</td>\n",
       "      <td>Tuesday</td>\n",
       "    </tr>\n",
       "    <tr>\n",
       "      <th>3</th>\n",
       "      <td>2019-08-17</td>\n",
       "      <td>7292</td>\n",
       "      <td>25</td>\n",
       "      <td>1</td>\n",
       "      <td>2019</td>\n",
       "      <td>8</td>\n",
       "      <td>August</td>\n",
       "      <td>17</td>\n",
       "      <td>Saturday</td>\n",
       "    </tr>\n",
       "    <tr>\n",
       "      <th>4</th>\n",
       "      <td>2019-01-06</td>\n",
       "      <td>4344</td>\n",
       "      <td>25</td>\n",
       "      <td>3</td>\n",
       "      <td>2019</td>\n",
       "      <td>1</td>\n",
       "      <td>January</td>\n",
       "      <td>6</td>\n",
       "      <td>Sunday</td>\n",
       "    </tr>\n",
       "  </tbody>\n",
       "</table>\n",
       "</div>"
      ],
      "text/plain": [
       "        date  product_id  city_id  orders  year  month_no month_name  day  \\\n",
       "0 2019-12-10        5628       25       3  2019        12   December   10   \n",
       "1 2018-08-15        3646       14     157  2018         8     August   15   \n",
       "2 2018-10-23        1859       25       1  2018        10    October   23   \n",
       "3 2019-08-17        7292       25       1  2019         8     August   17   \n",
       "4 2019-01-06        4344       25       3  2019         1    January    6   \n",
       "\n",
       "  date_dow_name  \n",
       "0       Tuesday  \n",
       "1     Wednesday  \n",
       "2       Tuesday  \n",
       "3      Saturday  \n",
       "4        Sunday  "
      ]
     },
     "execution_count": 35,
     "metadata": {},
     "output_type": "execute_result"
    }
   ],
   "source": [
    "# day of week name\n",
    "date['date_dow_name']=date['date'].dt.day_name()\n",
    "date.head()"
   ]
  },
  {
   "cell_type": "code",
   "execution_count": 37,
   "id": "e4aae19f-792d-4e75-8671-6e85cf95b6ca",
   "metadata": {},
   "outputs": [
    {
     "data": {
      "text/html": [
       "<div>\n",
       "<style scoped>\n",
       "    .dataframe tbody tr th:only-of-type {\n",
       "        vertical-align: middle;\n",
       "    }\n",
       "\n",
       "    .dataframe tbody tr th {\n",
       "        vertical-align: top;\n",
       "    }\n",
       "\n",
       "    .dataframe thead th {\n",
       "        text-align: right;\n",
       "    }\n",
       "</style>\n",
       "<table border=\"1\" class=\"dataframe\">\n",
       "  <thead>\n",
       "    <tr style=\"text-align: right;\">\n",
       "      <th></th>\n",
       "      <th>date</th>\n",
       "      <th>year</th>\n",
       "      <th>month_no</th>\n",
       "      <th>month_name</th>\n",
       "      <th>day</th>\n",
       "      <th>date_dow_name</th>\n",
       "    </tr>\n",
       "  </thead>\n",
       "  <tbody>\n",
       "    <tr>\n",
       "      <th>0</th>\n",
       "      <td>2019-12-10</td>\n",
       "      <td>2019</td>\n",
       "      <td>12</td>\n",
       "      <td>December</td>\n",
       "      <td>10</td>\n",
       "      <td>Tuesday</td>\n",
       "    </tr>\n",
       "    <tr>\n",
       "      <th>1</th>\n",
       "      <td>2018-08-15</td>\n",
       "      <td>2018</td>\n",
       "      <td>8</td>\n",
       "      <td>August</td>\n",
       "      <td>15</td>\n",
       "      <td>Wednesday</td>\n",
       "    </tr>\n",
       "    <tr>\n",
       "      <th>2</th>\n",
       "      <td>2018-10-23</td>\n",
       "      <td>2018</td>\n",
       "      <td>10</td>\n",
       "      <td>October</td>\n",
       "      <td>23</td>\n",
       "      <td>Tuesday</td>\n",
       "    </tr>\n",
       "    <tr>\n",
       "      <th>3</th>\n",
       "      <td>2019-08-17</td>\n",
       "      <td>2019</td>\n",
       "      <td>8</td>\n",
       "      <td>August</td>\n",
       "      <td>17</td>\n",
       "      <td>Saturday</td>\n",
       "    </tr>\n",
       "    <tr>\n",
       "      <th>4</th>\n",
       "      <td>2019-01-06</td>\n",
       "      <td>2019</td>\n",
       "      <td>1</td>\n",
       "      <td>January</td>\n",
       "      <td>6</td>\n",
       "      <td>Sunday</td>\n",
       "    </tr>\n",
       "  </tbody>\n",
       "</table>\n",
       "</div>"
      ],
      "text/plain": [
       "        date  year  month_no month_name  day date_dow_name\n",
       "0 2019-12-10  2019        12   December   10       Tuesday\n",
       "1 2018-08-15  2018         8     August   15     Wednesday\n",
       "2 2018-10-23  2018        10    October   23       Tuesday\n",
       "3 2019-08-17  2019         8     August   17      Saturday\n",
       "4 2019-01-06  2019         1    January    6        Sunday"
      ]
     },
     "execution_count": 37,
     "metadata": {},
     "output_type": "execute_result"
    }
   ],
   "source": [
    "date.drop(columns=['product_id','city_id','orders']).head()"
   ]
  },
  {
   "cell_type": "code",
   "execution_count": 39,
   "id": "6064b404-741b-4aad-9606-22370a577437",
   "metadata": {},
   "outputs": [
    {
     "data": {
      "text/plain": [
       "datetime.datetime(2024, 10, 21, 19, 15, 53, 395833)"
      ]
     },
     "execution_count": 39,
     "metadata": {},
     "output_type": "execute_result"
    }
   ],
   "source": [
    "import datetime\n",
    "today = datetime.datetime.today()\n",
    "today"
   ]
  },
  {
   "cell_type": "code",
   "execution_count": 41,
   "id": "6ad6a1f4-67c7-4d69-a401-4bcd166d5c27",
   "metadata": {},
   "outputs": [
    {
     "data": {
      "text/plain": [
       "0     1777 days 19:15:53.395833\n",
       "1     2259 days 19:15:53.395833\n",
       "2     2190 days 19:15:53.395833\n",
       "3     1892 days 19:15:53.395833\n",
       "4     2115 days 19:15:53.395833\n",
       "                 ...           \n",
       "995   2205 days 19:15:53.395833\n",
       "996   2146 days 19:15:53.395833\n",
       "997   1994 days 19:15:53.395833\n",
       "998   2059 days 19:15:53.395833\n",
       "999   1833 days 19:15:53.395833\n",
       "Name: date, Length: 1000, dtype: timedelta64[ns]"
      ]
     },
     "execution_count": 41,
     "metadata": {},
     "output_type": "execute_result"
    }
   ],
   "source": [
    "today - date['date']"
   ]
  },
  {
   "cell_type": "code",
   "execution_count": 51,
   "id": "6d6169af-2ccc-4181-a25b-a4b242393029",
   "metadata": {},
   "outputs": [
    {
     "name": "stdout",
     "output_type": "stream",
     "text": [
      "<class 'pandas.core.frame.DataFrame'>\n",
      "RangeIndex: 1000 entries, 0 to 999\n",
      "Data columns (total 2 columns):\n",
      " #   Column  Non-Null Count  Dtype \n",
      "---  ------  --------------  ----- \n",
      " 0   date    1000 non-null   object\n",
      " 1   msg     1000 non-null   object\n",
      "dtypes: object(2)\n",
      "memory usage: 15.8+ KB\n"
     ]
    }
   ],
   "source": [
    "time.info()"
   ]
  },
  {
   "cell_type": "code",
   "execution_count": 53,
   "id": "b33727d0-f8da-4c2e-8392-a064529a3462",
   "metadata": {},
   "outputs": [],
   "source": [
    "# Converting to datetime datatype\n",
    "time['date'] = pd.to_datetime(time['date'])"
   ]
  },
  {
   "cell_type": "code",
   "execution_count": 55,
   "id": "738d63df-f6b0-4a58-a349-114ac4ecec5c",
   "metadata": {},
   "outputs": [
    {
     "name": "stdout",
     "output_type": "stream",
     "text": [
      "<class 'pandas.core.frame.DataFrame'>\n",
      "RangeIndex: 1000 entries, 0 to 999\n",
      "Data columns (total 2 columns):\n",
      " #   Column  Non-Null Count  Dtype         \n",
      "---  ------  --------------  -----         \n",
      " 0   date    1000 non-null   datetime64[ns]\n",
      " 1   msg     1000 non-null   object        \n",
      "dtypes: datetime64[ns](1), object(1)\n",
      "memory usage: 15.8+ KB\n"
     ]
    }
   ],
   "source": [
    "time.info()"
   ]
  },
  {
   "cell_type": "code",
   "execution_count": 63,
   "id": "4087d329-0937-4735-97cf-30df832b3ffd",
   "metadata": {},
   "outputs": [],
   "source": [
    "time = time.drop(\"msg\",axis=1)"
   ]
  },
  {
   "cell_type": "code",
   "execution_count": 65,
   "id": "91efd02c-8961-4a8e-9c5f-7e8f4a9653d3",
   "metadata": {},
   "outputs": [
    {
     "data": {
      "text/html": [
       "<div>\n",
       "<style scoped>\n",
       "    .dataframe tbody tr th:only-of-type {\n",
       "        vertical-align: middle;\n",
       "    }\n",
       "\n",
       "    .dataframe tbody tr th {\n",
       "        vertical-align: top;\n",
       "    }\n",
       "\n",
       "    .dataframe thead th {\n",
       "        text-align: right;\n",
       "    }\n",
       "</style>\n",
       "<table border=\"1\" class=\"dataframe\">\n",
       "  <thead>\n",
       "    <tr style=\"text-align: right;\">\n",
       "      <th></th>\n",
       "      <th>date</th>\n",
       "      <th>hour</th>\n",
       "      <th>min</th>\n",
       "      <th>sec</th>\n",
       "    </tr>\n",
       "  </thead>\n",
       "  <tbody>\n",
       "    <tr>\n",
       "      <th>0</th>\n",
       "      <td>2013-12-15 00:50:00</td>\n",
       "      <td>0</td>\n",
       "      <td>50</td>\n",
       "      <td>0</td>\n",
       "    </tr>\n",
       "    <tr>\n",
       "      <th>1</th>\n",
       "      <td>2014-04-29 23:40:00</td>\n",
       "      <td>23</td>\n",
       "      <td>40</td>\n",
       "      <td>0</td>\n",
       "    </tr>\n",
       "    <tr>\n",
       "      <th>2</th>\n",
       "      <td>2012-12-30 00:21:00</td>\n",
       "      <td>0</td>\n",
       "      <td>21</td>\n",
       "      <td>0</td>\n",
       "    </tr>\n",
       "    <tr>\n",
       "      <th>3</th>\n",
       "      <td>2014-11-28 00:31:00</td>\n",
       "      <td>0</td>\n",
       "      <td>31</td>\n",
       "      <td>0</td>\n",
       "    </tr>\n",
       "    <tr>\n",
       "      <th>4</th>\n",
       "      <td>2013-10-26 23:11:00</td>\n",
       "      <td>23</td>\n",
       "      <td>11</td>\n",
       "      <td>0</td>\n",
       "    </tr>\n",
       "  </tbody>\n",
       "</table>\n",
       "</div>"
      ],
      "text/plain": [
       "                 date  hour  min  sec\n",
       "0 2013-12-15 00:50:00     0   50    0\n",
       "1 2014-04-29 23:40:00    23   40    0\n",
       "2 2012-12-30 00:21:00     0   21    0\n",
       "3 2014-11-28 00:31:00     0   31    0\n",
       "4 2013-10-26 23:11:00    23   11    0"
      ]
     },
     "execution_count": 65,
     "metadata": {},
     "output_type": "execute_result"
    }
   ],
   "source": [
    "time['hour'] = time['date'].dt.hour\n",
    "time['min'] = time['date'].dt.minute\n",
    "time['sec'] = time['date'].dt.second\n",
    "\n",
    "time.head()"
   ]
  },
  {
   "cell_type": "code",
   "execution_count": 67,
   "id": "28fe071a-9232-42f2-a9e5-2235b864a253",
   "metadata": {},
   "outputs": [
    {
     "data": {
      "text/html": [
       "<div>\n",
       "<style scoped>\n",
       "    .dataframe tbody tr th:only-of-type {\n",
       "        vertical-align: middle;\n",
       "    }\n",
       "\n",
       "    .dataframe tbody tr th {\n",
       "        vertical-align: top;\n",
       "    }\n",
       "\n",
       "    .dataframe thead th {\n",
       "        text-align: right;\n",
       "    }\n",
       "</style>\n",
       "<table border=\"1\" class=\"dataframe\">\n",
       "  <thead>\n",
       "    <tr style=\"text-align: right;\">\n",
       "      <th></th>\n",
       "      <th>date</th>\n",
       "      <th>hour</th>\n",
       "      <th>min</th>\n",
       "      <th>sec</th>\n",
       "      <th>time</th>\n",
       "    </tr>\n",
       "  </thead>\n",
       "  <tbody>\n",
       "    <tr>\n",
       "      <th>0</th>\n",
       "      <td>2013-12-15 00:50:00</td>\n",
       "      <td>0</td>\n",
       "      <td>50</td>\n",
       "      <td>0</td>\n",
       "      <td>00:50:00</td>\n",
       "    </tr>\n",
       "    <tr>\n",
       "      <th>1</th>\n",
       "      <td>2014-04-29 23:40:00</td>\n",
       "      <td>23</td>\n",
       "      <td>40</td>\n",
       "      <td>0</td>\n",
       "      <td>23:40:00</td>\n",
       "    </tr>\n",
       "    <tr>\n",
       "      <th>2</th>\n",
       "      <td>2012-12-30 00:21:00</td>\n",
       "      <td>0</td>\n",
       "      <td>21</td>\n",
       "      <td>0</td>\n",
       "      <td>00:21:00</td>\n",
       "    </tr>\n",
       "    <tr>\n",
       "      <th>3</th>\n",
       "      <td>2014-11-28 00:31:00</td>\n",
       "      <td>0</td>\n",
       "      <td>31</td>\n",
       "      <td>0</td>\n",
       "      <td>00:31:00</td>\n",
       "    </tr>\n",
       "    <tr>\n",
       "      <th>4</th>\n",
       "      <td>2013-10-26 23:11:00</td>\n",
       "      <td>23</td>\n",
       "      <td>11</td>\n",
       "      <td>0</td>\n",
       "      <td>23:11:00</td>\n",
       "    </tr>\n",
       "  </tbody>\n",
       "</table>\n",
       "</div>"
      ],
      "text/plain": [
       "                 date  hour  min  sec      time\n",
       "0 2013-12-15 00:50:00     0   50    0  00:50:00\n",
       "1 2014-04-29 23:40:00    23   40    0  23:40:00\n",
       "2 2012-12-30 00:21:00     0   21    0  00:21:00\n",
       "3 2014-11-28 00:31:00     0   31    0  00:31:00\n",
       "4 2013-10-26 23:11:00    23   11    0  23:11:00"
      ]
     },
     "execution_count": 67,
     "metadata": {},
     "output_type": "execute_result"
    }
   ],
   "source": [
    "# Extract Time part\n",
    "time['time'] = time['date'].dt.time\n",
    "time.head()"
   ]
  },
  {
   "cell_type": "code",
   "execution_count": 69,
   "id": "6761c79d-d6f0-481a-a628-793a628c32b1",
   "metadata": {},
   "outputs": [
    {
     "data": {
      "text/plain": [
       "0       95130.431499\n",
       "1       91867.598166\n",
       "2      103530.914832\n",
       "3       86778.748166\n",
       "4       96308.081499\n",
       "           ...      \n",
       "995    110466.431499\n",
       "996     94172.031499\n",
       "997    105331.648166\n",
       "998    108115.698166\n",
       "999     90643.848166\n",
       "Name: date, Length: 1000, dtype: float64"
      ]
     },
     "execution_count": 69,
     "metadata": {},
     "output_type": "execute_result"
    }
   ],
   "source": [
    "# difference in hours\n",
    "(today - time['date'])/np.timedelta64(1,'h')"
   ]
  },
  {
   "cell_type": "markdown",
   "id": "0ac712fe-b856-4991-b50b-15ab08e6a9a6",
   "metadata": {
    "jp-MarkdownHeadingCollapsed": true
   },
   "source": [
    "## Data Merging and Joining <a class=\"anchor\" id=\"sixteenth-bullet\"></a>"
   ]
  },
  {
   "cell_type": "code",
   "execution_count": null,
   "id": "d87e9cec-dd6b-4ac6-9c12-6598048355c6",
   "metadata": {},
   "outputs": [],
   "source": [
    "# Merge two DataFrames on the 'Ticket' column using an inner join\n",
    "merged_df = pd.merge(df_passengers, df_tickets, on='Ticket', how='inner')\n",
    "\n",
    "# Display the merged DataFrame\n",
    "print(merged_df.head())\n"
   ]
  },
  {
   "cell_type": "code",
   "execution_count": null,
   "id": "5e657bb0-eb04-4610-944e-2ad55f5c7381",
   "metadata": {},
   "outputs": [],
   "source": []
  },
  {
   "cell_type": "code",
   "execution_count": null,
   "id": "8e817264-461f-41a5-86e4-88ee0a863365",
   "metadata": {},
   "outputs": [],
   "source": []
  },
  {
   "cell_type": "markdown",
   "id": "9cd6fe35-33bb-4cf1-a896-aa87f3d75655",
   "metadata": {
    "jp-MarkdownHeadingCollapsed": true
   },
   "source": [
    "## Dealing with Sparse Data <a class=\"anchor\" id=\"seventeenth-bullet\"></a>"
   ]
  },
  {
   "cell_type": "markdown",
   "id": "bf5c746d-f137-4281-b407-e5b943f7094e",
   "metadata": {},
   "source": [
    "when working with datasets that have many missing values or a large number of features that are mostly zeros. In the context of the Titanic dataset, certain columns may be sparsely populated (e.g., Cabin might have many missing values), and effective handling of sparse data is critical for improving model performance and ensuring the dataset is well-prepared."
   ]
  },
  {
   "cell_type": "markdown",
   "id": "5841146f-c069-4bf0-8317-481c4173b5f6",
   "metadata": {},
   "source": [
    "#### Remove Sparse Features\n",
    "If a column is too sparse (e.g., more than 70-80% of its values are missing), it may be best to drop it altogether because it won’t contribute much to the model."
   ]
  },
  {
   "cell_type": "code",
   "execution_count": 42,
   "id": "c05f48e4-0544-461d-a081-3a1e3cf6ce40",
   "metadata": {},
   "outputs": [
    {
     "data": {
      "text/html": [
       "<div>\n",
       "<style scoped>\n",
       "    .dataframe tbody tr th:only-of-type {\n",
       "        vertical-align: middle;\n",
       "    }\n",
       "\n",
       "    .dataframe tbody tr th {\n",
       "        vertical-align: top;\n",
       "    }\n",
       "\n",
       "    .dataframe thead th {\n",
       "        text-align: right;\n",
       "    }\n",
       "</style>\n",
       "<table border=\"1\" class=\"dataframe\">\n",
       "  <thead>\n",
       "    <tr style=\"text-align: right;\">\n",
       "      <th></th>\n",
       "      <th>PassengerId</th>\n",
       "      <th>Survived</th>\n",
       "      <th>Pclass</th>\n",
       "      <th>Name</th>\n",
       "      <th>Sex</th>\n",
       "      <th>Age</th>\n",
       "      <th>SibSp</th>\n",
       "      <th>Parch</th>\n",
       "      <th>Ticket</th>\n",
       "      <th>Fare</th>\n",
       "      <th>Embarked</th>\n",
       "    </tr>\n",
       "  </thead>\n",
       "  <tbody>\n",
       "    <tr>\n",
       "      <th>0</th>\n",
       "      <td>1</td>\n",
       "      <td>0</td>\n",
       "      <td>3</td>\n",
       "      <td>Braund, Mr. Owen Harris</td>\n",
       "      <td>male</td>\n",
       "      <td>22.0</td>\n",
       "      <td>1</td>\n",
       "      <td>0</td>\n",
       "      <td>A/5 21171</td>\n",
       "      <td>7.2500</td>\n",
       "      <td>S</td>\n",
       "    </tr>\n",
       "    <tr>\n",
       "      <th>1</th>\n",
       "      <td>2</td>\n",
       "      <td>1</td>\n",
       "      <td>1</td>\n",
       "      <td>Cumings, Mrs. John Bradley (Florence Briggs Th...</td>\n",
       "      <td>female</td>\n",
       "      <td>38.0</td>\n",
       "      <td>1</td>\n",
       "      <td>0</td>\n",
       "      <td>PC 17599</td>\n",
       "      <td>71.2833</td>\n",
       "      <td>C</td>\n",
       "    </tr>\n",
       "    <tr>\n",
       "      <th>2</th>\n",
       "      <td>3</td>\n",
       "      <td>1</td>\n",
       "      <td>3</td>\n",
       "      <td>Heikkinen, Miss. Laina</td>\n",
       "      <td>female</td>\n",
       "      <td>26.0</td>\n",
       "      <td>0</td>\n",
       "      <td>0</td>\n",
       "      <td>STON/O2. 3101282</td>\n",
       "      <td>7.9250</td>\n",
       "      <td>S</td>\n",
       "    </tr>\n",
       "    <tr>\n",
       "      <th>3</th>\n",
       "      <td>4</td>\n",
       "      <td>1</td>\n",
       "      <td>1</td>\n",
       "      <td>Futrelle, Mrs. Jacques Heath (Lily May Peel)</td>\n",
       "      <td>female</td>\n",
       "      <td>35.0</td>\n",
       "      <td>1</td>\n",
       "      <td>0</td>\n",
       "      <td>113803</td>\n",
       "      <td>53.1000</td>\n",
       "      <td>S</td>\n",
       "    </tr>\n",
       "    <tr>\n",
       "      <th>4</th>\n",
       "      <td>5</td>\n",
       "      <td>0</td>\n",
       "      <td>3</td>\n",
       "      <td>Allen, Mr. William Henry</td>\n",
       "      <td>male</td>\n",
       "      <td>35.0</td>\n",
       "      <td>0</td>\n",
       "      <td>0</td>\n",
       "      <td>373450</td>\n",
       "      <td>8.0500</td>\n",
       "      <td>S</td>\n",
       "    </tr>\n",
       "    <tr>\n",
       "      <th>...</th>\n",
       "      <td>...</td>\n",
       "      <td>...</td>\n",
       "      <td>...</td>\n",
       "      <td>...</td>\n",
       "      <td>...</td>\n",
       "      <td>...</td>\n",
       "      <td>...</td>\n",
       "      <td>...</td>\n",
       "      <td>...</td>\n",
       "      <td>...</td>\n",
       "      <td>...</td>\n",
       "    </tr>\n",
       "    <tr>\n",
       "      <th>886</th>\n",
       "      <td>887</td>\n",
       "      <td>0</td>\n",
       "      <td>2</td>\n",
       "      <td>Montvila, Rev. Juozas</td>\n",
       "      <td>male</td>\n",
       "      <td>27.0</td>\n",
       "      <td>0</td>\n",
       "      <td>0</td>\n",
       "      <td>211536</td>\n",
       "      <td>13.0000</td>\n",
       "      <td>S</td>\n",
       "    </tr>\n",
       "    <tr>\n",
       "      <th>887</th>\n",
       "      <td>888</td>\n",
       "      <td>1</td>\n",
       "      <td>1</td>\n",
       "      <td>Graham, Miss. Margaret Edith</td>\n",
       "      <td>female</td>\n",
       "      <td>19.0</td>\n",
       "      <td>0</td>\n",
       "      <td>0</td>\n",
       "      <td>112053</td>\n",
       "      <td>30.0000</td>\n",
       "      <td>S</td>\n",
       "    </tr>\n",
       "    <tr>\n",
       "      <th>888</th>\n",
       "      <td>889</td>\n",
       "      <td>0</td>\n",
       "      <td>3</td>\n",
       "      <td>Johnston, Miss. Catherine Helen \"Carrie\"</td>\n",
       "      <td>female</td>\n",
       "      <td>NaN</td>\n",
       "      <td>1</td>\n",
       "      <td>2</td>\n",
       "      <td>W./C. 6607</td>\n",
       "      <td>23.4500</td>\n",
       "      <td>S</td>\n",
       "    </tr>\n",
       "    <tr>\n",
       "      <th>889</th>\n",
       "      <td>890</td>\n",
       "      <td>1</td>\n",
       "      <td>1</td>\n",
       "      <td>Behr, Mr. Karl Howell</td>\n",
       "      <td>male</td>\n",
       "      <td>26.0</td>\n",
       "      <td>0</td>\n",
       "      <td>0</td>\n",
       "      <td>111369</td>\n",
       "      <td>30.0000</td>\n",
       "      <td>C</td>\n",
       "    </tr>\n",
       "    <tr>\n",
       "      <th>890</th>\n",
       "      <td>891</td>\n",
       "      <td>0</td>\n",
       "      <td>3</td>\n",
       "      <td>Dooley, Mr. Patrick</td>\n",
       "      <td>male</td>\n",
       "      <td>32.0</td>\n",
       "      <td>0</td>\n",
       "      <td>0</td>\n",
       "      <td>370376</td>\n",
       "      <td>7.7500</td>\n",
       "      <td>Q</td>\n",
       "    </tr>\n",
       "  </tbody>\n",
       "</table>\n",
       "<p>891 rows × 11 columns</p>\n",
       "</div>"
      ],
      "text/plain": [
       "     PassengerId  Survived  Pclass  \\\n",
       "0              1         0       3   \n",
       "1              2         1       1   \n",
       "2              3         1       3   \n",
       "3              4         1       1   \n",
       "4              5         0       3   \n",
       "..           ...       ...     ...   \n",
       "886          887         0       2   \n",
       "887          888         1       1   \n",
       "888          889         0       3   \n",
       "889          890         1       1   \n",
       "890          891         0       3   \n",
       "\n",
       "                                                  Name     Sex   Age  SibSp  \\\n",
       "0                              Braund, Mr. Owen Harris    male  22.0      1   \n",
       "1    Cumings, Mrs. John Bradley (Florence Briggs Th...  female  38.0      1   \n",
       "2                               Heikkinen, Miss. Laina  female  26.0      0   \n",
       "3         Futrelle, Mrs. Jacques Heath (Lily May Peel)  female  35.0      1   \n",
       "4                             Allen, Mr. William Henry    male  35.0      0   \n",
       "..                                                 ...     ...   ...    ...   \n",
       "886                              Montvila, Rev. Juozas    male  27.0      0   \n",
       "887                       Graham, Miss. Margaret Edith  female  19.0      0   \n",
       "888           Johnston, Miss. Catherine Helen \"Carrie\"  female   NaN      1   \n",
       "889                              Behr, Mr. Karl Howell    male  26.0      0   \n",
       "890                                Dooley, Mr. Patrick    male  32.0      0   \n",
       "\n",
       "     Parch            Ticket     Fare Embarked  \n",
       "0        0         A/5 21171   7.2500        S  \n",
       "1        0          PC 17599  71.2833        C  \n",
       "2        0  STON/O2. 3101282   7.9250        S  \n",
       "3        0            113803  53.1000        S  \n",
       "4        0            373450   8.0500        S  \n",
       "..     ...               ...      ...      ...  \n",
       "886      0            211536  13.0000        S  \n",
       "887      0            112053  30.0000        S  \n",
       "888      2        W./C. 6607  23.4500        S  \n",
       "889      0            111369  30.0000        C  \n",
       "890      0            370376   7.7500        Q  \n",
       "\n",
       "[891 rows x 11 columns]"
      ]
     },
     "execution_count": 42,
     "metadata": {},
     "output_type": "execute_result"
    }
   ],
   "source": [
    "# Drop columns with more than 80% missing values\n",
    "threshold = len(df) * 0.8\n",
    "df.dropna(thresh=threshold, axis=1, inplace=True)\n",
    "# For example, the Cabin column in the Titanic dataset often has a high percentage of missing values,\n",
    "# so you might consider dropping it unless you have a strategy to impute it meaningfully.\n",
    "df"
   ]
  },
  {
   "cell_type": "markdown",
   "id": "cc10ecbd-4446-4ef8-979c-7449356a8884",
   "metadata": {},
   "source": [
    "#### Convert to Sparse Format\n",
    "pandas supports sparse data structures, which can save memory when dealing with columns that have many zeros. This is useful if you have many numerical features that are mostly zeros."
   ]
  },
  {
   "cell_type": "code",
   "execution_count": 45,
   "id": "db488234-a6ca-4a45-a5b1-d558cb61412b",
   "metadata": {},
   "outputs": [
    {
     "name": "stdout",
     "output_type": "stream",
     "text": [
      "<class 'pandas.core.frame.DataFrame'>\n",
      "RangeIndex: 891 entries, 0 to 890\n",
      "Data columns (total 11 columns):\n",
      " #   Column       Non-Null Count  Dtype               \n",
      "---  ------       --------------  -----               \n",
      " 0   PassengerId  891 non-null    int64               \n",
      " 1   Survived     891 non-null    int64               \n",
      " 2   Pclass       891 non-null    int64               \n",
      " 3   Name         891 non-null    object              \n",
      " 4   Sex          891 non-null    object              \n",
      " 5   Age          714 non-null    float64             \n",
      " 6   SibSp        891 non-null    int64               \n",
      " 7   Parch        891 non-null    int64               \n",
      " 8   Ticket       891 non-null    object              \n",
      " 9   Fare         1 non-null      Sparse[float64, nan]\n",
      " 10  Embarked     889 non-null    object              \n",
      "dtypes: Sparse[float64, nan](1), float64(1), int64(5), object(4)\n",
      "memory usage: 80.2+ KB\n"
     ]
    },
    {
     "name": "stderr",
     "output_type": "stream",
     "text": [
      "C:\\Users\\yara.maraey\\AppData\\Local\\Temp\\ipykernel_25968\\3190133647.py:3: FutureWarning: Allowing arbitrary scalar fill_value in SparseDtype is deprecated. In a future version, the fill_value must be a valid value for the SparseDtype.subtype.\n",
      "  df.info()\n"
     ]
    }
   ],
   "source": [
    "# Convert a column to a sparse type to save memory\n",
    "df['Fare'] = pd.arrays.SparseArray(df['Fare'])\n",
    "df.info()"
   ]
  },
  {
   "cell_type": "markdown",
   "id": "3864c01b-f488-4b7d-ab18-d74a069654e7",
   "metadata": {},
   "source": [
    "### Dimensionality Reduction for Sparse Data\n",
    "If your dataset has many sparse features, dimensionality reduction techniques can help reduce the feature space, improving computational efficiency:\n",
    "\n",
    "#### Principal Component Analysis (PCA)\n",
    "PCA can help reduce the number of features by transforming them into a set of orthogonal components. This can be applied after one-hot encoding or any other encoding technique to compress sparse features."
   ]
  },
  {
   "cell_type": "code",
   "execution_count": null,
   "id": "b3cb3ac7-a456-497e-8f95-70aae0eac411",
   "metadata": {},
   "outputs": [],
   "source": [
    "from sklearn.decomposition import PCA\n",
    "\n",
    "pca = PCA(n_components=10)  # Keep 10 components\n",
    "reduced_features = pca.fit_transform(df)\n"
   ]
  },
  {
   "cell_type": "markdown",
   "id": "109cc0ca-ca4c-4709-9c5d-fde0b3da16c6",
   "metadata": {
    "jp-MarkdownHeadingCollapsed": true
   },
   "source": [
    "## Type Casting <a class=\"anchor\" id=\"eighteenth-bullet\"></a>"
   ]
  },
  {
   "cell_type": "markdown",
   "id": "44218baf-b5d9-4643-8972-c316ee149a7e",
   "metadata": {},
   "source": [
    "#### Common Type Casting Needs\n",
    "- Numerical Data as Strings: Sometimes columns with numeric data, such as Age or Fare, might be stored as strings. You can convert them to a numeric type.\n",
    "\n",
    "- Categorical Data: Categorical columns like Sex, Embarked, or Pclass may need to be converted to categorical data types to save memory or for easier handling in machine learning algorithms.\n",
    "\n",
    "- Date/Time Data: If the dataset contains any date-related information (though the Titanic dataset doesn’t), you might need to convert those columns to datetime type.\n",
    "\n",
    "- Boolean Data: Certain columns, like flags or indicators, might be better represented as Boolean (True/False) instead of integers."
   ]
  },
  {
   "cell_type": "code",
   "execution_count": 49,
   "id": "492a9927-5a5d-4f0f-a551-fc0fcfc06362",
   "metadata": {},
   "outputs": [],
   "source": [
    "# Convert 'Pclass', 'Sex', and 'Embarked' to categorical data types\n",
    "df['Pclass'] = df['Pclass'].astype('category')\n",
    "df['Sex'] = df['Sex'].astype('category')\n",
    "df['Embarked'] = df['Embarked'].astype('category')"
   ]
  },
  {
   "cell_type": "code",
   "execution_count": 51,
   "id": "3cf72af9-de03-41d6-9acc-9c506c39bcf6",
   "metadata": {},
   "outputs": [
    {
     "name": "stdout",
     "output_type": "stream",
     "text": [
      "<class 'pandas.core.frame.DataFrame'>\n",
      "RangeIndex: 891 entries, 0 to 890\n",
      "Data columns (total 11 columns):\n",
      " #   Column       Non-Null Count  Dtype               \n",
      "---  ------       --------------  -----               \n",
      " 0   PassengerId  891 non-null    int64               \n",
      " 1   Survived     891 non-null    bool                \n",
      " 2   Pclass       891 non-null    category            \n",
      " 3   Name         891 non-null    object              \n",
      " 4   Sex          891 non-null    category            \n",
      " 5   Age          714 non-null    float64             \n",
      " 6   SibSp        891 non-null    int64               \n",
      " 7   Parch        891 non-null    int64               \n",
      " 8   Ticket       891 non-null    object              \n",
      " 9   Fare         1 non-null      Sparse[float64, nan]\n",
      " 10  Embarked     889 non-null    category            \n",
      "dtypes: Sparse[float64, nan](1), bool(1), category(3), float64(1), int64(3), object(2)\n",
      "memory usage: 56.2+ KB\n"
     ]
    },
    {
     "name": "stderr",
     "output_type": "stream",
     "text": [
      "C:\\Users\\yara.maraey\\AppData\\Local\\Temp\\ipykernel_25968\\4133536981.py:3: FutureWarning: Allowing arbitrary scalar fill_value in SparseDtype is deprecated. In a future version, the fill_value must be a valid value for the SparseDtype.subtype.\n",
      "  df.info()\n"
     ]
    }
   ],
   "source": [
    "# Convert 'Survived' column to boolean\n",
    "df['Survived'] = df['Survived'].astype(bool)\n",
    "df.info()"
   ]
  }
 ],
 "metadata": {
  "kernelspec": {
   "display_name": "Python 3 (ipykernel)",
   "language": "python",
   "name": "python3"
  },
  "language_info": {
   "codemirror_mode": {
    "name": "ipython",
    "version": 3
   },
   "file_extension": ".py",
   "mimetype": "text/x-python",
   "name": "python",
   "nbconvert_exporter": "python",
   "pygments_lexer": "ipython3",
   "version": "3.12.4"
  }
 },
 "nbformat": 4,
 "nbformat_minor": 5
}
